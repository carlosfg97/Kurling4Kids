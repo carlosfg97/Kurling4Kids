{
 "cells": [
  {
   "cell_type": "code",
   "execution_count": 17,
   "id": "b754acc6",
   "metadata": {},
   "outputs": [],
   "source": [
    "#Selenium\n",
    "from selenium import webdriver\n",
    "from webdriver_manager.chrome import ChromeDriverManager\n",
    "from selenium.webdriver.common.by import By\n",
    "\n",
    "#Time\n",
    "from time import sleep\n"
   ]
  },
  {
   "cell_type": "code",
   "execution_count": 18,
   "id": "5d87ee1e",
   "metadata": {
    "scrolled": true
   },
   "outputs": [
    {
     "name": "stderr",
     "output_type": "stream",
     "text": [
      "\n",
      "\n",
      "====== WebDriver manager ======\n",
      "Current google-chrome version is 103.0.5060\n",
      "Get LATEST chromedriver version for 103.0.5060 google-chrome\n",
      "Driver [C:\\Users\\louis\\.wdm\\drivers\\chromedriver\\win32\\103.0.5060.53\\chromedriver.exe] found in cache\n",
      "C:\\Users\\louis\\AppData\\Local\\Temp\\ipykernel_11656\\1693715509.py:1: DeprecationWarning: executable_path has been deprecated, please pass in a Service object\n",
      "  driver = webdriver.Chrome(ChromeDriverManager().install())\n"
     ]
    }
   ],
   "source": [
    "driver = webdriver.Chrome(ChromeDriverManager().install())\n",
    "driver.get('https://linkedin.com')"
   ]
  },
  {
   "cell_type": "code",
   "execution_count": 19,
   "id": "082cd541",
   "metadata": {},
   "outputs": [],
   "source": [
    "#Login\n",
    "username = driver.find_element(By.ID, 'session_key')\n",
    "username.send_keys('louis.dhulst@mail.mcgill.ca')\n",
    "\n",
    "password = driver.find_element(By.ID, 'session_password')\n",
    "password.send_keys('zvkDry%ZdCX5Q7e')"
   ]
  },
  {
   "cell_type": "code",
   "execution_count": 20,
   "id": "a112c048",
   "metadata": {},
   "outputs": [],
   "source": [
    "#Complete Login\n",
    "sign_in_button = driver.find_element(By.XPATH, '//*[@type=\"submit\"]')\n",
    "sign_in_button.click()"
   ]
  },
  {
   "cell_type": "code",
   "execution_count": null,
   "id": "076d05fa",
   "metadata": {},
   "outputs": [],
   "source": []
  }
 ],
 "metadata": {
  "kernelspec": {
   "display_name": "Python 3 (ipykernel)",
   "language": "python",
   "name": "python3"
  },
  "language_info": {
   "codemirror_mode": {
    "name": "ipython",
    "version": 3
   },
   "file_extension": ".py",
   "mimetype": "text/x-python",
   "name": "python",
   "nbconvert_exporter": "python",
   "pygments_lexer": "ipython3",
   "version": "3.8.13"
  }
 },
 "nbformat": 4,
 "nbformat_minor": 5
}
