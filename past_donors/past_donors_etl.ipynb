{
 "cells": [
  {
   "cell_type": "code",
   "execution_count": 130,
   "metadata": {},
   "outputs": [],
   "source": [
    "import pandas as pd\n",
    "import numpy as np\n",
    "import warnings\n",
    "\n",
    "warnings.filterwarnings(\"ignore\")"
   ]
  },
  {
   "cell_type": "code",
   "execution_count": 131,
   "metadata": {},
   "outputs": [],
   "source": [
    "def find_last_valid_record(df):\n",
    "    '''Find the first row where all columns are null, and return the row previous to that.'''\n",
    "\n",
    "    last_record_idx = df.isnull().apply(lambda x: all(x), axis=1).idxmax() - 1\n",
    "    \n",
    "    return last_record_idx\n"
   ]
  },
  {
   "cell_type": "code",
   "execution_count": 191,
   "metadata": {},
   "outputs": [],
   "source": [
    "fname = \"corporate sponsors 2022.xlsx\"\n",
    "#df = pd.read_excel(fname, sheet_name = '2010')\n",
    "\n",
    "colnames = [ 'Added/   Modified', \t'Company Name',\t'Sponsorship level'\t,\n",
    "             '$ Amount', 'Actual \\n$ Amount',\t'Money/Prize Received',  'Prize/Donation details' ]\n"
   ]
  },
  {
   "cell_type": "code",
   "execution_count": 209,
   "metadata": {},
   "outputs": [],
   "source": [
    "df = pd.read_excel(fname, sheet_name = '2010', parse_dates=False)"
   ]
  },
  {
   "cell_type": "code",
   "execution_count": 213,
   "metadata": {},
   "outputs": [
    {
     "data": {
      "text/plain": [
       "0     2019-01-01 00:00:00\n",
       "1     2019-01-01 00:00:00\n",
       "2     2019-01-01 00:00:00\n",
       "3     2019-01-01 00:00:00\n",
       "4     2020-01-01 00:00:00\n",
       "5     2020-01-01 00:00:00\n",
       "6     2022-01-01 00:00:00\n",
       "7     2022-01-01 00:00:00\n",
       "8     2025-01-01 00:00:00\n",
       "9     2025-01-01 00:00:00\n",
       "10    2012-01-01 00:00:00\n",
       "11    2026-01-01 00:00:00\n",
       "12    2026-01-01 00:00:00\n",
       "13    2026-01-01 00:00:00\n",
       "14    2026-01-01 00:00:00\n",
       "15    2026-01-01 00:00:00\n",
       "16    2027-01-01 00:00:00\n",
       "17    2028-01-01 00:00:00\n",
       "18    1931-01-01 00:00:00\n",
       "19    1931-01-01 00:00:00\n",
       "20    1931-01-01 00:00:00\n",
       "21    1931-01-01 00:00:00\n",
       "22    1931-01-01 00:00:00\n",
       "23    1931-01-01 00:00:00\n",
       "24    1931-01-01 00:00:00\n",
       "25    2001-02-01 00:00:00\n",
       "26    2001-02-01 00:00:00\n",
       "27    2002-02-01 00:00:00\n",
       "28    2002-02-01 00:00:00\n",
       "29    2002-02-01 00:00:00\n",
       "30    2002-02-01 00:00:00\n",
       "31    2003-02-01 00:00:00\n",
       "32    2003-02-01 00:00:00\n",
       "33    2014-02-01 00:00:00\n",
       "34                    NaN\n",
       "35                    NaN\n",
       "36    2009-02-01 00:00:00\n",
       "37    2014-02-01 00:00:00\n",
       "38    2006-02-01 00:00:00\n",
       "39    2017-02-01 00:00:00\n",
       "40    2019-02-01 00:00:00\n",
       "41    2019-02-01 00:00:00\n",
       "42    2019-02-01 00:00:00\n",
       "43    2019-02-01 00:00:00\n",
       "44    2019-02-01 00:00:00\n",
       "45    2019-02-01 00:00:00\n",
       "46    2019-02-01 00:00:00\n",
       "47    2019-02-01 00:00:00\n",
       "48    2019-02-01 00:00:00\n",
       "49    2019-02-01 00:00:00\n",
       "Name: Added/   Modified, dtype: object"
      ]
     },
     "execution_count": 213,
     "metadata": {},
     "output_type": "execute_result"
    }
   ],
   "source": [
    "df.iloc[:,1].head(50)"
   ]
  },
  {
   "cell_type": "code",
   "execution_count": 208,
   "metadata": {},
   "outputs": [
    {
     "data": {
      "text/plain": [
       "dtype('O')"
      ]
     },
     "execution_count": 208,
     "metadata": {},
     "output_type": "execute_result"
    }
   ],
   "source": []
  },
  {
   "cell_type": "code",
   "execution_count": 192,
   "metadata": {},
   "outputs": [],
   "source": [
    "def process_year_donations(main_fname: str, year:str, colnames: list):\n",
    "    df = pd.read_excel(main_fname, sheet_name = year)\n",
    "\n",
    "    # we deduce if the column headers are in the first or second row. If necessary, we correct the read of the file\n",
    "    c = 0\n",
    "    for i in df.columns[:20]:\n",
    "        if 'Unnamed:' in str(i):\n",
    "            c += 1\n",
    "    if c > 8 :\n",
    "        df = pd.read_excel(main_fname, sheet_name = year, header = 1)\n",
    "\n",
    "    last_record_idx = find_last_valid_record(df)\n",
    "    df = df.iloc[:last_record_idx]\n",
    "\n",
    "    df = df[df.columns & colnames].copy()\n",
    "\n",
    "    #df['Added/   Modified'] = pd.to_datetime(df['Added/   Modified'])\n",
    "\n",
    "    if 'Prize/Donation details' in df.columns:\n",
    "        df['Donation details'] = df['Prize/Donation details']\n",
    "    else:\n",
    "        df['Donation details'] = df['Sponsorship level']\n",
    "    \n",
    "    df = df.drop(columns = ['Sponsorship level'\t,'Prize/Donation details'], errors = 'ignore')\n",
    "    \n",
    "    df = df.rename(columns = {'Actual \\n$ Amount':'$ Amount'})\n",
    "\n",
    "    df = df.reset_index(drop=True)\n",
    "\n",
    "    return df\n",
    "\n"
   ]
  },
  {
   "cell_type": "code",
   "execution_count": 158,
   "metadata": {},
   "outputs": [],
   "source": [
    "years = [str(i) for i in range(2010,2023,1)]"
   ]
  },
  {
   "cell_type": "code",
   "execution_count": 193,
   "metadata": {},
   "outputs": [],
   "source": [
    "df_ = process_year_donations(fname, '2016', colnames)\n"
   ]
  },
  {
   "cell_type": "code",
   "execution_count": 194,
   "metadata": {},
   "outputs": [
    {
     "data": {
      "text/plain": [
       "Index(['Added/   Modified', 'Company Name', '$ Amount', 'Money/Prize Received',\n",
       "       'Donation details'],\n",
       "      dtype='object')"
      ]
     },
     "execution_count": 194,
     "metadata": {},
     "output_type": "execute_result"
    }
   ],
   "source": [
    "df_.columns"
   ]
  },
  {
   "cell_type": "code",
   "execution_count": 244,
   "metadata": {},
   "outputs": [
    {
     "name": "stdout",
     "output_type": "stream",
     "text": [
      "2010 (80, 5) \n",
      "\n",
      "2011 (86, 5) \n",
      "\n",
      "2012 (84, 5) \n",
      "\n",
      "2013 (93, 5) \n",
      "\n",
      "2014 (140, 5) \n",
      "\n",
      "2015 (149, 5) \n",
      "\n",
      "2016 (133, 5) \n",
      "\n",
      "2017 (103, 5) \n",
      "\n",
      "2018 (77, 5) \n",
      "\n",
      "2019 (56, 5) \n",
      "\n",
      "2020 (29, 5) \n",
      "\n",
      "2021 (33, 5) \n",
      "\n",
      "2022 (15, 5) \n",
      "\n"
     ]
    }
   ],
   "source": [
    "df_concat = process_year_donations(fname, years[0], colnames)[:0] # we just take the structure\n",
    "\n",
    "for y in years:\n",
    "    df_ = process_year_donations(fname, y, colnames)\n",
    "    print(y , df_.shape , '\\n')\n",
    "    df_['Year'] = y \n",
    "    df_concat = pd.concat( [df_concat, df_])\n",
    "\n",
    "df_concat = df_concat.reset_index(drop=True)\n",
    "\n"
   ]
  },
  {
   "cell_type": "code",
   "execution_count": 245,
   "metadata": {},
   "outputs": [
    {
     "data": {
      "text/plain": [
       "(1078, 6)"
      ]
     },
     "execution_count": 245,
     "metadata": {},
     "output_type": "execute_result"
    }
   ],
   "source": [
    "df_concat.shape"
   ]
  },
  {
   "cell_type": "code",
   "execution_count": 246,
   "metadata": {},
   "outputs": [
    {
     "data": {
      "text/html": [
       "<div>\n",
       "<style scoped>\n",
       "    .dataframe tbody tr th:only-of-type {\n",
       "        vertical-align: middle;\n",
       "    }\n",
       "\n",
       "    .dataframe tbody tr th {\n",
       "        vertical-align: top;\n",
       "    }\n",
       "\n",
       "    .dataframe thead th {\n",
       "        text-align: right;\n",
       "    }\n",
       "</style>\n",
       "<table border=\"1\" class=\"dataframe\">\n",
       "  <thead>\n",
       "    <tr style=\"text-align: right;\">\n",
       "      <th></th>\n",
       "      <th>Added/   Modified</th>\n",
       "      <th>Company Name</th>\n",
       "      <th>$ Amount</th>\n",
       "      <th>Money/Prize Received</th>\n",
       "      <th>Donation details</th>\n",
       "      <th>Year</th>\n",
       "    </tr>\n",
       "  </thead>\n",
       "  <tbody>\n",
       "    <tr>\n",
       "      <th>0</th>\n",
       "      <td>2019-01-01 00:00:00</td>\n",
       "      <td>VIA</td>\n",
       "      <td>0</td>\n",
       "      <td>NaN</td>\n",
       "      <td>trip for 4 Montreal/Windsor $2600 value</td>\n",
       "      <td>2010</td>\n",
       "    </tr>\n",
       "    <tr>\n",
       "      <th>1</th>\n",
       "      <td>2019-01-01 00:00:00</td>\n",
       "      <td>Ultramar</td>\n",
       "      <td>500</td>\n",
       "      <td>yes</td>\n",
       "      <td>Silver - $500 in gas coupons</td>\n",
       "      <td>2010</td>\n",
       "    </tr>\n",
       "    <tr>\n",
       "      <th>2</th>\n",
       "      <td>2019-01-01 00:00:00</td>\n",
       "      <td>Fondation BBB</td>\n",
       "      <td>5000</td>\n",
       "      <td>yes</td>\n",
       "      <td>Platinum</td>\n",
       "      <td>2010</td>\n",
       "    </tr>\n",
       "    <tr>\n",
       "      <th>3</th>\n",
       "      <td>2019-01-01 00:00:00</td>\n",
       "      <td>Sleeman Unibroue Inc.</td>\n",
       "      <td>0</td>\n",
       "      <td>NaN</td>\n",
       "      <td>beer</td>\n",
       "      <td>2010</td>\n",
       "    </tr>\n",
       "    <tr>\n",
       "      <th>4</th>\n",
       "      <td>2020-01-01 00:00:00</td>\n",
       "      <td>Friends of Trouser Lake</td>\n",
       "      <td>500</td>\n",
       "      <td>NaN</td>\n",
       "      <td>Mike will look into ad</td>\n",
       "      <td>2010</td>\n",
       "    </tr>\n",
       "    <tr>\n",
       "      <th>...</th>\n",
       "      <td>...</td>\n",
       "      <td>...</td>\n",
       "      <td>...</td>\n",
       "      <td>...</td>\n",
       "      <td>...</td>\n",
       "      <td>...</td>\n",
       "    </tr>\n",
       "    <tr>\n",
       "      <th>1073</th>\n",
       "      <td>2022-02-23 00:00:00</td>\n",
       "      <td>Lorne Steinberg Wealth Management</td>\n",
       "      <td>2000.0</td>\n",
       "      <td>NaN</td>\n",
       "      <td>$2,000 Silver Sponsorship</td>\n",
       "      <td>2022</td>\n",
       "    </tr>\n",
       "    <tr>\n",
       "      <th>1074</th>\n",
       "      <td>2022-02-23 00:00:00</td>\n",
       "      <td>BMA - Brais, Malouin et Associés inc</td>\n",
       "      <td>2000.0</td>\n",
       "      <td>Yes</td>\n",
       "      <td>Corporate team</td>\n",
       "      <td>2022</td>\n",
       "    </tr>\n",
       "    <tr>\n",
       "      <th>1075</th>\n",
       "      <td>2021-12-18 00:00:00</td>\n",
       "      <td>Hemmingford Golf Club</td>\n",
       "      <td>0.0</td>\n",
       "      <td>NaN</td>\n",
       "      <td>NaN</td>\n",
       "      <td>2022</td>\n",
       "    </tr>\n",
       "    <tr>\n",
       "      <th>1076</th>\n",
       "      <td>NaN</td>\n",
       "      <td>Magie de l'air</td>\n",
       "      <td>0.0</td>\n",
       "      <td>NaN</td>\n",
       "      <td>NaN</td>\n",
       "      <td>2022</td>\n",
       "    </tr>\n",
       "    <tr>\n",
       "      <th>1077</th>\n",
       "      <td>2022-02-23 00:00:00</td>\n",
       "      <td>Option 2</td>\n",
       "      <td>300.0</td>\n",
       "      <td>NaN</td>\n",
       "      <td>$300 1/2 page ad</td>\n",
       "      <td>2022</td>\n",
       "    </tr>\n",
       "  </tbody>\n",
       "</table>\n",
       "<p>1078 rows × 6 columns</p>\n",
       "</div>"
      ],
      "text/plain": [
       "        Added/   Modified                          Company Name $ Amount  \\\n",
       "0     2019-01-01 00:00:00                                   VIA        0   \n",
       "1     2019-01-01 00:00:00                              Ultramar      500   \n",
       "2     2019-01-01 00:00:00                         Fondation BBB     5000   \n",
       "3     2019-01-01 00:00:00                 Sleeman Unibroue Inc.        0   \n",
       "4     2020-01-01 00:00:00               Friends of Trouser Lake      500   \n",
       "...                   ...                                   ...      ...   \n",
       "1073  2022-02-23 00:00:00     Lorne Steinberg Wealth Management   2000.0   \n",
       "1074  2022-02-23 00:00:00  BMA - Brais, Malouin et Associés inc   2000.0   \n",
       "1075  2021-12-18 00:00:00                 Hemmingford Golf Club      0.0   \n",
       "1076                  NaN                        Magie de l'air      0.0   \n",
       "1077  2022-02-23 00:00:00                              Option 2    300.0   \n",
       "\n",
       "     Money/Prize Received                         Donation details  Year  \n",
       "0                     NaN  trip for 4 Montreal/Windsor $2600 value  2010  \n",
       "1                     yes             Silver - $500 in gas coupons  2010  \n",
       "2                     yes                                 Platinum  2010  \n",
       "3                     NaN                                     beer  2010  \n",
       "4                     NaN                   Mike will look into ad  2010  \n",
       "...                   ...                                      ...   ...  \n",
       "1073                  NaN                $2,000 Silver Sponsorship  2022  \n",
       "1074                  Yes                           Corporate team  2022  \n",
       "1075                  NaN                                      NaN  2022  \n",
       "1076                  NaN                                      NaN  2022  \n",
       "1077                  NaN                         $300 1/2 page ad  2022  \n",
       "\n",
       "[1078 rows x 6 columns]"
      ]
     },
     "execution_count": 246,
     "metadata": {},
     "output_type": "execute_result"
    }
   ],
   "source": [
    "df_concat"
   ]
  },
  {
   "cell_type": "code",
   "execution_count": 247,
   "metadata": {},
   "outputs": [],
   "source": [
    "import re\n",
    "cols = df_concat.columns.to_list()\n",
    "new_cols=[]\n",
    "for col in cols:\n",
    "    \n",
    "    col = re.sub(' +', ' ', col)\n",
    "    col = col.replace(' ','_')\n",
    "    col = col.replace('/','')\n",
    "    col = col.replace('$','dollar')\n",
    "    col = col.lower()\n",
    "    new_cols.append(col)\n",
    "\n",
    "df_concat.columns = new_cols"
   ]
  },
  {
   "cell_type": "code",
   "execution_count": 248,
   "metadata": {},
   "outputs": [],
   "source": [
    "df_concat.added_modified = df_concat.added_modified.astype(str)"
   ]
  },
  {
   "cell_type": "code",
   "execution_count": 265,
   "metadata": {},
   "outputs": [
    {
     "data": {
      "text/plain": [
       "-    976\n",
       "      65\n",
       "5      8\n",
       "4      8\n",
       "1      6\n",
       "9      4\n",
       "/      3\n",
       "2      2\n",
       "3      2\n",
       "7      2\n",
       "6      2\n",
       "Name: added_modified, dtype: int64"
      ]
     },
     "execution_count": 265,
     "metadata": {},
     "output_type": "execute_result"
    }
   ],
   "source": [
    "df_concat.added_modified.str[4:5].value_counts()\n",
    "\n",
    "#df_concat.added_modified.str[7:8].value_counts()"
   ]
  },
  {
   "cell_type": "code",
   "execution_count": 268,
   "metadata": {},
   "outputs": [],
   "source": [
    "date_format_flg = (df_concat.added_modified.str[4:5] == '-') & (df_concat.added_modified.str[7:8] == '-')"
   ]
  },
  {
   "cell_type": "code",
   "execution_count": 269,
   "metadata": {},
   "outputs": [
    {
     "data": {
      "text/html": [
       "<div>\n",
       "<style scoped>\n",
       "    .dataframe tbody tr th:only-of-type {\n",
       "        vertical-align: middle;\n",
       "    }\n",
       "\n",
       "    .dataframe tbody tr th {\n",
       "        vertical-align: top;\n",
       "    }\n",
       "\n",
       "    .dataframe thead th {\n",
       "        text-align: right;\n",
       "    }\n",
       "</style>\n",
       "<table border=\"1\" class=\"dataframe\">\n",
       "  <thead>\n",
       "    <tr style=\"text-align: right;\">\n",
       "      <th></th>\n",
       "      <th>added_modified</th>\n",
       "      <th>company_name</th>\n",
       "      <th>dollar_amount</th>\n",
       "      <th>moneyprize_received</th>\n",
       "      <th>donation_details</th>\n",
       "      <th>year</th>\n",
       "    </tr>\n",
       "  </thead>\n",
       "  <tbody>\n",
       "    <tr>\n",
       "      <th>0</th>\n",
       "      <td>2019-01-01 00:00:00</td>\n",
       "      <td>VIA</td>\n",
       "      <td>0</td>\n",
       "      <td>NaN</td>\n",
       "      <td>trip for 4 Montreal/Windsor $2600 value</td>\n",
       "      <td>2010</td>\n",
       "    </tr>\n",
       "    <tr>\n",
       "      <th>1</th>\n",
       "      <td>2019-01-01 00:00:00</td>\n",
       "      <td>Ultramar</td>\n",
       "      <td>500</td>\n",
       "      <td>yes</td>\n",
       "      <td>Silver - $500 in gas coupons</td>\n",
       "      <td>2010</td>\n",
       "    </tr>\n",
       "    <tr>\n",
       "      <th>2</th>\n",
       "      <td>2019-01-01 00:00:00</td>\n",
       "      <td>Fondation BBB</td>\n",
       "      <td>5000</td>\n",
       "      <td>yes</td>\n",
       "      <td>Platinum</td>\n",
       "      <td>2010</td>\n",
       "    </tr>\n",
       "    <tr>\n",
       "      <th>3</th>\n",
       "      <td>2019-01-01 00:00:00</td>\n",
       "      <td>Sleeman Unibroue Inc.</td>\n",
       "      <td>0</td>\n",
       "      <td>NaN</td>\n",
       "      <td>beer</td>\n",
       "      <td>2010</td>\n",
       "    </tr>\n",
       "    <tr>\n",
       "      <th>4</th>\n",
       "      <td>2020-01-01 00:00:00</td>\n",
       "      <td>Friends of Trouser Lake</td>\n",
       "      <td>500</td>\n",
       "      <td>NaN</td>\n",
       "      <td>Mike will look into ad</td>\n",
       "      <td>2010</td>\n",
       "    </tr>\n",
       "    <tr>\n",
       "      <th>...</th>\n",
       "      <td>...</td>\n",
       "      <td>...</td>\n",
       "      <td>...</td>\n",
       "      <td>...</td>\n",
       "      <td>...</td>\n",
       "      <td>...</td>\n",
       "    </tr>\n",
       "    <tr>\n",
       "      <th>1072</th>\n",
       "      <td>2022-06-15 00:00:00</td>\n",
       "      <td>Hardline Curling</td>\n",
       "      <td>0.0</td>\n",
       "      <td>NaN</td>\n",
       "      <td>Longtime sponsor</td>\n",
       "      <td>2022</td>\n",
       "    </tr>\n",
       "    <tr>\n",
       "      <th>1073</th>\n",
       "      <td>2022-02-23 00:00:00</td>\n",
       "      <td>Lorne Steinberg Wealth Management</td>\n",
       "      <td>2000.0</td>\n",
       "      <td>NaN</td>\n",
       "      <td>$2,000 Silver Sponsorship</td>\n",
       "      <td>2022</td>\n",
       "    </tr>\n",
       "    <tr>\n",
       "      <th>1074</th>\n",
       "      <td>2022-02-23 00:00:00</td>\n",
       "      <td>BMA - Brais, Malouin et Associés inc</td>\n",
       "      <td>2000.0</td>\n",
       "      <td>Yes</td>\n",
       "      <td>Corporate team</td>\n",
       "      <td>2022</td>\n",
       "    </tr>\n",
       "    <tr>\n",
       "      <th>1075</th>\n",
       "      <td>2021-12-18 00:00:00</td>\n",
       "      <td>Hemmingford Golf Club</td>\n",
       "      <td>0.0</td>\n",
       "      <td>NaN</td>\n",
       "      <td>NaN</td>\n",
       "      <td>2022</td>\n",
       "    </tr>\n",
       "    <tr>\n",
       "      <th>1077</th>\n",
       "      <td>2022-02-23 00:00:00</td>\n",
       "      <td>Option 2</td>\n",
       "      <td>300.0</td>\n",
       "      <td>NaN</td>\n",
       "      <td>$300 1/2 page ad</td>\n",
       "      <td>2022</td>\n",
       "    </tr>\n",
       "  </tbody>\n",
       "</table>\n",
       "<p>975 rows × 6 columns</p>\n",
       "</div>"
      ],
      "text/plain": [
       "           added_modified                          company_name dollar_amount  \\\n",
       "0     2019-01-01 00:00:00                                   VIA             0   \n",
       "1     2019-01-01 00:00:00                              Ultramar           500   \n",
       "2     2019-01-01 00:00:00                         Fondation BBB          5000   \n",
       "3     2019-01-01 00:00:00                 Sleeman Unibroue Inc.             0   \n",
       "4     2020-01-01 00:00:00               Friends of Trouser Lake           500   \n",
       "...                   ...                                   ...           ...   \n",
       "1072  2022-06-15 00:00:00                      Hardline Curling           0.0   \n",
       "1073  2022-02-23 00:00:00     Lorne Steinberg Wealth Management        2000.0   \n",
       "1074  2022-02-23 00:00:00  BMA - Brais, Malouin et Associés inc        2000.0   \n",
       "1075  2021-12-18 00:00:00                 Hemmingford Golf Club           0.0   \n",
       "1077  2022-02-23 00:00:00                              Option 2         300.0   \n",
       "\n",
       "     moneyprize_received                         donation_details  year  \n",
       "0                    NaN  trip for 4 Montreal/Windsor $2600 value  2010  \n",
       "1                    yes             Silver - $500 in gas coupons  2010  \n",
       "2                    yes                                 Platinum  2010  \n",
       "3                    NaN                                     beer  2010  \n",
       "4                    NaN                   Mike will look into ad  2010  \n",
       "...                  ...                                      ...   ...  \n",
       "1072                 NaN                         Longtime sponsor  2022  \n",
       "1073                 NaN                $2,000 Silver Sponsorship  2022  \n",
       "1074                 Yes                           Corporate team  2022  \n",
       "1075                 NaN                                      NaN  2022  \n",
       "1077                 NaN                         $300 1/2 page ad  2022  \n",
       "\n",
       "[975 rows x 6 columns]"
      ]
     },
     "execution_count": 269,
     "metadata": {},
     "output_type": "execute_result"
    }
   ],
   "source": [
    "df_concat[date_format_flg]\n",
    "\n",
    "## try to give the correct date format to added_modified. Older years seem to have only month/day \n",
    "## but most recent have also year, so a criteria has to be set to correctly parse "
   ]
  },
  {
   "cell_type": "code",
   "execution_count": null,
   "metadata": {},
   "outputs": [],
   "source": []
  }
 ],
 "metadata": {
  "kernelspec": {
   "display_name": "Python 3.8.8 ('base')",
   "language": "python",
   "name": "python3"
  },
  "language_info": {
   "codemirror_mode": {
    "name": "ipython",
    "version": 3
   },
   "file_extension": ".py",
   "mimetype": "text/x-python",
   "name": "python",
   "nbconvert_exporter": "python",
   "pygments_lexer": "ipython3",
   "version": "3.8.8"
  },
  "orig_nbformat": 4,
  "vscode": {
   "interpreter": {
    "hash": "8e76f8642360a3358ab06c318ab18c1161224eb3836609d5c16edea6f6e43dba"
   }
  }
 },
 "nbformat": 4,
 "nbformat_minor": 2
}
