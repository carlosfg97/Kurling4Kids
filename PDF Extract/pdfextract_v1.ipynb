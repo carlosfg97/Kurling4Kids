{
 "cells": [
  {
   "cell_type": "code",
   "execution_count": 69,
   "id": "b3ce9cb9",
   "metadata": {},
   "outputs": [],
   "source": [
    "import fitz\n",
    "import string\n",
    "import pandas as pd\n",
    "from difflib import SequenceMatcher\n",
    "import re\n",
    "import unidecode"
   ]
  },
  {
   "cell_type": "code",
   "execution_count": 70,
   "id": "eaa430f5",
   "metadata": {},
   "outputs": [],
   "source": [
    "filepath_full = '../Data/REP-EDC-2020_Fusion_Final.pdf'"
   ]
  },
  {
   "cell_type": "code",
   "execution_count": 71,
   "id": "a0ede8c6",
   "metadata": {},
   "outputs": [],
   "source": [
    "def openPDFasTextDict(filepath):\n",
    "    \"\"\"\n",
    "    Opens PDF as XML dict\n",
    "    \"\"\"\n",
    "    text_dict = []\n",
    "    with fitz.open(filepath) as doc:\n",
    "        for page in doc:\n",
    "            text_dict.append(page.get_text(\"dict\", sort=False))\n",
    "    return text_dict"
   ]
  },
  {
   "cell_type": "code",
   "execution_count": 72,
   "id": "3853d61c",
   "metadata": {},
   "outputs": [],
   "source": [
    "def removePuncandSpace(text):\n",
    "    \"\"\"\n",
    "    Removes punctuation and spaces from a string\n",
    "    \"\"\"\n",
    "    return text.translate(str.maketrans('', '', string.punctuation)).strip()"
   ]
  },
  {
   "cell_type": "code",
   "execution_count": 73,
   "id": "076bf22a",
   "metadata": {},
   "outputs": [],
   "source": [
    "textDict_full = openPDFasTextDict(filepath = filepath_full)"
   ]
  },
  {
   "cell_type": "code",
   "execution_count": 74,
   "id": "36cfe6b6",
   "metadata": {},
   "outputs": [],
   "source": [
    "def extractFromTextDict(text_dict, bannedStrings):\n",
    "    ##\n",
    "    # Get an idea of looping through text\n",
    "    # For every page\n",
    "    # Extract additional information about the text as well: font and font size\n",
    "    # Store in list of dictionaries\n",
    "    ##\n",
    "\n",
    "    org_list = []\n",
    "    foundation_list = []\n",
    "    org_id = -1\n",
    "    foundation_id = -1\n",
    "    charitable_foundation = False\n",
    "\n",
    "    for count_page, page in enumerate(text_dict):\n",
    "        for count_block_list, block_list in enumerate(page[\"blocks\"]):\n",
    "            for count_line_list, line_list in enumerate(block_list[\"lines\"]):\n",
    "                for count_spans_list, spans_list in enumerate(line_list[\"spans\"]):\n",
    "\n",
    "                    #Remove empty text\n",
    "                    if spans_list['text'].isspace():\n",
    "                        continue\n",
    "                    #Skip if trash text\n",
    "                    if spans_list['text'].strip() in bannedStrings:\n",
    "                        continue\n",
    "                    \n",
    "                    \n",
    "                    ### Organizations ####\n",
    "                    #Check if font & size are that of org number or new org\n",
    "                    if (spans_list['font'] == 'Helvetica-Bold') & (int(float(spans_list['size'])) == 11):\n",
    "                        charitable_foundation = False\n",
    "                        #Check if start of new org\n",
    "                        try :\n",
    "                            #Throws ValueError if name of org\n",
    "                            int(spans_list['text'])\n",
    "                        except ValueError:\n",
    "                            #Only triggers when name of org\n",
    "                            org_list[org_id]['Name'] = spans_list['text'].strip()                   \n",
    "                        else:\n",
    "                            #If not name of org then org number\n",
    "                            if (spans_list['font'] == 'Helvetica-Bold') & (int(float(spans_list['size'])) == 11):\n",
    "                                org_number = spans_list['text'].strip()\n",
    "                                org_list.append({'id' : org_number,\n",
    "                                                 'isFoundation' : 'No'})\n",
    "                                org_id += 1\n",
    "\n",
    "                    #Check if not in charitable organisation\n",
    "                    if not charitable_foundation:\n",
    "\n",
    "                        #Check if font & size are that of org address\n",
    "                        #Uses round to filter more text: other text has size that rounds to 8\n",
    "                        if (spans_list['font'] == 'Helvetica') & (round(float(spans_list['size'])) == 9):\n",
    "                            #Catch if no orgs created\n",
    "                            if org_id < 0:\n",
    "                                continue\n",
    "                            #If key Address doesn't already exist, create it\n",
    "                            if 'Address' not in org_list[org_id].keys():\n",
    "                                org_list[org_id]['Address'] = ''\n",
    "                                org_list[org_id]['Address'] += spans_list['text']\n",
    "                            else:\n",
    "                                #Strip here to avoid unnecessary blank space\n",
    "                                #Maybe handle this later?\n",
    "                                org_list[org_id]['Address'] += spans_list['text'].strip()\n",
    "\n",
    "                        #Check if font & size are that of field name\n",
    "                        if (spans_list['font'] == 'ArialNarrow') & (int(float(spans_list['size'])) == 8):\n",
    "                            #Catch if no orgs created\n",
    "                            if org_id < 0:\n",
    "                                continue\n",
    "                            #If key field doesn't already exist, create it. Checks if length string > 1 to remove bad text\n",
    "                            if (removePuncandSpace(spans_list['text']) not in org_list[org_id].keys()) & (len(removePuncandSpace(spans_list['text'])) > 1):\n",
    "                                org_list[org_id][removePuncandSpace(spans_list['text'])] = ''\n",
    "                            #If field already exists, create new field with convention i - Name where i is number of fields with the same name +1\n",
    "                            elif (removePuncandSpace(spans_list['text']) in org_list[org_id].keys()):\n",
    "                                num_instances = list(org_list[org_id].keys()).count(removePuncandSpace(spans_list['text']))\n",
    "                                org_list[org_id][f\"{num_instances + 1} - {removePuncandSpace(spans_list['text'])}\"] = ''\n",
    "\n",
    "                        #Check if font & size are that of field text\n",
    "                        if (spans_list['font'] == 'Helvetica-Bold') & (round(float(spans_list['size'])) == 8):\n",
    "                            #Catch if no orgs created\n",
    "                            if org_id < 0:\n",
    "                                continue\n",
    "\n",
    "                            #Place in last dict key: will always be something there, non-generalizable method\n",
    "                            org_list[org_id][list( org_list[org_id])[-1]] += spans_list['text']\n",
    "\n",
    "                    ### Foundations ####\n",
    "                    #Check if text indicates charitable foundation\n",
    "                    if (spans_list['font'] == 'ArialNarrow') & (round(float(spans_list['size'])) == 7) & (spans_list['text'][:23] == \"L'entreprise possède un\"): \n",
    "\n",
    "                        charitable_foundation = True\n",
    "                        \n",
    "                        #Foundations always start with lines of Helvetica Bold.  \n",
    "                        #Use that as a trigger with the boolean var start_foundation\n",
    "                        start_foundation = True\n",
    "                        foundation_list.append({'id' : org_number,\n",
    "                                         'isFoundation' : 'Yes'})\n",
    "                        foundation_id +=1\n",
    "\n",
    "                    #Check if are in charitable foundation\n",
    "                    if charitable_foundation:\n",
    "                        #Trigger for name and address to differentiate from other text\n",
    "                        if start_foundation:\n",
    "                            #Check if font & size are foundation name\n",
    "                            if (spans_list['font'] == 'Helvetica-Bold') & (round(float(spans_list['size'])) >= 9):\n",
    "                                 #If key Name doesn't already exist, create it\n",
    "                                if 'Name' not in foundation_list[foundation_id].keys():\n",
    "                                    foundation_list[foundation_id]['Name'] = ''\n",
    "                                    foundation_list[foundation_id]['Name'] += spans_list['text']\n",
    "                                    \n",
    "                                    lineToSkip = count_line_list\n",
    "                                #else:\n",
    "                                    #Strip here to avoid unnecessary blank space\n",
    "                                    #foundation_list[foundation_id]['Name'] += spans_list['text'].strip()\n",
    "\n",
    "                            #Check if font & size are address\n",
    "                            if (spans_list['font'] == 'Helvetica-Bold') & ((round(float(spans_list['size'])) == 8) | (round(float(spans_list['size'])) >= 9)):\n",
    "                                #Check if are on different line than Name, meaning are on Address line\n",
    "                                if count_line_list > lineToSkip:\n",
    "                                     #If key Address doesn't already exist, create it\n",
    "                                    if 'Address' not in foundation_list[foundation_id].keys():\n",
    "                                        foundation_list[foundation_id]['Address'] = ''\n",
    "                                        foundation_list[foundation_id]['Address'] += spans_list['text'].strip()\n",
    "                                    else:\n",
    "                                        foundation_list[foundation_id]['Address'] += ' ' +spans_list['text'].strip()\n",
    "\n",
    "\n",
    "\n",
    "                        #Check if font & size are that of field name\n",
    "                        #Outside of if start_foundation\n",
    "                        if ((spans_list['font'] == 'ArialNarrow') or (spans_list['font'] == 'Helvetica')) & (int(float(spans_list['size'])) == 8):\n",
    "                            #Trigger on first catch of non-address text\n",
    "                            start_foundation = False\n",
    "                            \n",
    "                            #Catch if no orgs created\n",
    "                            if foundation_id < 0:\n",
    "                                continue\n",
    "                            #If key field doesn't already exist, create it. Checks if length string > 1 to remove bad text\n",
    "                            if (removePuncandSpace(spans_list['text']) not in foundation_list[foundation_id].keys()) & (len(removePuncandSpace(spans_list['text'])) > 1):\n",
    "                                foundation_list[foundation_id][removePuncandSpace(spans_list['text'])] = ''\n",
    "                        \n",
    "                        #Check if outside of adress\n",
    "                        if not start_foundation:\n",
    "                            #Check if font & size are that of field text\n",
    "                            if ((spans_list['font'] == 'ArialNarrow,Bold') or (spans_list['font'] == 'Helvetica-Bold')) & (round(float(spans_list['size'])) == 8):\n",
    "                                #Catch if no orgs created\n",
    "                                if foundation_id < 0:\n",
    "                                    continue\n",
    "\n",
    "                                #Place in last dict key: will always be something there, non-generalizable method\n",
    "                                foundation_list[foundation_id][list( foundation_list[foundation_id])[-1]] += spans_list['text']\n",
    "\n",
    "    return org_list, foundation_list\n"
   ]
  },
  {
   "cell_type": "code",
   "execution_count": 75,
   "id": "2186cc20",
   "metadata": {},
   "outputs": [],
   "source": [
    "bannedStrings = ['Entreprises donatrices et commanditaires du Québec',\n",
    "                \"« DDD » : Date de distribution des dons. « FAF » : date de fin d'année fiscale.  « Langue : B »  dans l’inscription d’une fondation indique que vous pouvez écrire en français ou en anglais.\",\n",
    "                \"Tous droits réservés © 2020– Centre québécois de philanthropie\"]"
   ]
  },
  {
   "cell_type": "code",
   "execution_count": 76,
   "id": "332ff6d4",
   "metadata": {},
   "outputs": [],
   "source": [
    "extractedOrgList_full, extractedFoundationList_full = extractFromTextDict(textDict_full, bannedStrings)"
   ]
  },
  {
   "cell_type": "code",
   "execution_count": 77,
   "id": "b2035f37",
   "metadata": {},
   "outputs": [],
   "source": [
    "dfOrg_full = pd.DataFrame(extractedOrgList_full)\n",
    "dfFoundation_full = pd.DataFrame(extractedFoundationList_full)"
   ]
  },
  {
   "cell_type": "code",
   "execution_count": 78,
   "id": "33b8f40f",
   "metadata": {},
   "outputs": [
    {
     "data": {
      "text/plain": [
       "Index(['id', 'isFoundation', 'Name', 'Address', 'Secteur industriel',\n",
       "       'Langue de comm', 'DDD', 'FAF', 'N° de télCie', 'n° de tél', 'Site Web',\n",
       "       'Domaine dintérêt', 'Limites géog', 'Note', 'Nombre demployés',\n",
       "       'Contribution', 'Contact', 'Tél', 'Poste', 'Courriel', 'Avis',\n",
       "       'N° de faxCie', '2e n° de tél', 'Courriel  Cie', 'Fax',\n",
       "       '2e contact pour', '2 - Tél', '2 - Fax', 'Filiale de', '2 - Courriel',\n",
       "       'Nbre de succ', 'Princip filiales', '2 - Note', 'Princip Filiales',\n",
       "       'Principale filiale', 'Filiales princip', 'Principales filiales',\n",
       "       'Principfiliales', '2 - Contribution', '2 - Contact', '2 - Poste'],\n",
       "      dtype='object')"
      ]
     },
     "execution_count": 78,
     "metadata": {},
     "output_type": "execute_result"
    }
   ],
   "source": [
    "dfOrg_full.columns"
   ]
  },
  {
   "cell_type": "code",
   "execution_count": 79,
   "id": "da6f9489",
   "metadata": {},
   "outputs": [
    {
     "data": {
      "text/plain": [
       "Index(['id', 'isFoundation', 'Name', 'Address', 'Langue', 'Catégorie',\n",
       "       'Contact', 'Tél', 'Échelledons', 'Total annuel', 'Actif', 'Date approb',\n",
       "       'Date fin d’ann', 'Domaines dintérêt', 'Projets privilégiés', 'Avis',\n",
       "       'Courriel', 'Web', 'ou', 'Limites géographiques', 'Téléc', 'Poste',\n",
       "       'Total actif', 'Limites géog'],\n",
       "      dtype='object')"
      ]
     },
     "execution_count": 79,
     "metadata": {},
     "output_type": "execute_result"
    }
   ],
   "source": [
    "dfFoundation_full.columns"
   ]
  },
  {
   "cell_type": "code",
   "execution_count": 80,
   "id": "e901d99b",
   "metadata": {},
   "outputs": [
    {
     "data": {
      "text/plain": [
       "id                         0\n",
       "isFoundation               0\n",
       "Name                       0\n",
       "Address                    0\n",
       "Secteur industriel         0\n",
       "Langue de comm             3\n",
       "DDD                       19\n",
       "FAF                      519\n",
       "N° de télCie               6\n",
       "n° de tél               1223\n",
       "Site Web                  10\n",
       "Domaine dintérêt           6\n",
       "Limites géog              12\n",
       "Note                     597\n",
       "Nombre demployés         339\n",
       "Contribution               0\n",
       "Contact                    6\n",
       "Tél                       38\n",
       "Poste                   1158\n",
       "Courriel                 318\n",
       "Avis                      34\n",
       "N° de faxCie             307\n",
       "2e n° de tél             669\n",
       "Courriel  Cie            547\n",
       "Fax                      416\n",
       "2e contact pour         1315\n",
       "2 - Tél                 1333\n",
       "2 - Fax                 1338\n",
       "Filiale de              1009\n",
       "2 - Courriel            1328\n",
       "Nbre de succ             835\n",
       "Princip filiales        1138\n",
       "2 - Note                1212\n",
       "Princip Filiales        1341\n",
       "Principale filiale      1254\n",
       "Filiales princip        1341\n",
       "Principales filiales    1339\n",
       "Principfiliales         1341\n",
       "2 - Contribution        1340\n",
       "2 - Contact             1339\n",
       "2 - Poste               1341\n",
       "dtype: int64"
      ]
     },
     "execution_count": 80,
     "metadata": {},
     "output_type": "execute_result"
    }
   ],
   "source": [
    "#Checking null values\n",
    "dfOrg_full.isna().sum()"
   ]
  },
  {
   "cell_type": "code",
   "execution_count": 81,
   "id": "b324d15a",
   "metadata": {},
   "outputs": [
    {
     "data": {
      "text/plain": [
       "id                        0\n",
       "isFoundation              0\n",
       "Name                      3\n",
       "Address                   1\n",
       "Langue                    4\n",
       "Catégorie                10\n",
       "Contact                  10\n",
       "Tél                      11\n",
       "Échelledons              29\n",
       "Total annuel             17\n",
       "Actif                    24\n",
       "Date approb              16\n",
       "Date fin d’ann           16\n",
       "Domaines dintérêt         4\n",
       "Projets privilégiés       8\n",
       "Avis                     18\n",
       "Courriel                 33\n",
       "Web                      24\n",
       "ou                       73\n",
       "Limites géographiques    72\n",
       "Téléc                    24\n",
       "Poste                    78\n",
       "Total actif              80\n",
       "Limites géog             80\n",
       "dtype: int64"
      ]
     },
     "execution_count": 81,
     "metadata": {},
     "output_type": "execute_result"
    }
   ],
   "source": [
    "dfFoundation_full.isna().sum()"
   ]
  },
  {
   "cell_type": "code",
   "execution_count": 82,
   "id": "b5934aa8",
   "metadata": {},
   "outputs": [
    {
     "data": {
      "text/html": [
       "<div>\n",
       "<style scoped>\n",
       "    .dataframe tbody tr th:only-of-type {\n",
       "        vertical-align: middle;\n",
       "    }\n",
       "\n",
       "    .dataframe tbody tr th {\n",
       "        vertical-align: top;\n",
       "    }\n",
       "\n",
       "    .dataframe thead th {\n",
       "        text-align: right;\n",
       "    }\n",
       "</style>\n",
       "<table border=\"1\" class=\"dataframe\">\n",
       "  <thead>\n",
       "    <tr style=\"text-align: right;\">\n",
       "      <th></th>\n",
       "      <th>id</th>\n",
       "      <th>isFoundation</th>\n",
       "      <th>Name</th>\n",
       "      <th>Address</th>\n",
       "      <th>Langue</th>\n",
       "      <th>Catégorie</th>\n",
       "      <th>Contact</th>\n",
       "      <th>Tél</th>\n",
       "      <th>Échelledons</th>\n",
       "      <th>Total annuel</th>\n",
       "      <th>...</th>\n",
       "      <th>Projets privilégiés</th>\n",
       "      <th>Avis</th>\n",
       "      <th>Courriel</th>\n",
       "      <th>Web</th>\n",
       "      <th>ou</th>\n",
       "      <th>Limites géographiques</th>\n",
       "      <th>Téléc</th>\n",
       "      <th>Poste</th>\n",
       "      <th>Total actif</th>\n",
       "      <th>Limites géog</th>\n",
       "    </tr>\n",
       "  </thead>\n",
       "  <tbody>\n",
       "    <tr>\n",
       "      <th>19</th>\n",
       "      <td>281</td>\n",
       "      <td>Yes</td>\n",
       "      <td>NaN</td>\n",
       "      <td>NaN</td>\n",
       "      <td>NaN</td>\n",
       "      <td>NaN</td>\n",
       "      <td>NaN</td>\n",
       "      <td>NaN</td>\n",
       "      <td>NaN</td>\n",
       "      <td>NaN</td>\n",
       "      <td>...</td>\n",
       "      <td>NaN</td>\n",
       "      <td>NaN</td>\n",
       "      <td>NaN</td>\n",
       "      <td>NaN</td>\n",
       "      <td>NaN</td>\n",
       "      <td>NaN</td>\n",
       "      <td>NaN</td>\n",
       "      <td>NaN</td>\n",
       "      <td>NaN</td>\n",
       "      <td>NaN</td>\n",
       "    </tr>\n",
       "    <tr>\n",
       "      <th>72</th>\n",
       "      <td>1186</td>\n",
       "      <td>Yes</td>\n",
       "      <td>NaN</td>\n",
       "      <td>Voir la Fondation St-Hubert, plus haut.</td>\n",
       "      <td>NaN</td>\n",
       "      <td>NaN</td>\n",
       "      <td>NaN</td>\n",
       "      <td>NaN</td>\n",
       "      <td>NaN</td>\n",
       "      <td>NaN</td>\n",
       "      <td>...</td>\n",
       "      <td>NaN</td>\n",
       "      <td>NaN</td>\n",
       "      <td>NaN</td>\n",
       "      <td>NaN</td>\n",
       "      <td>NaN</td>\n",
       "      <td>NaN</td>\n",
       "      <td>NaN</td>\n",
       "      <td>NaN</td>\n",
       "      <td>NaN</td>\n",
       "      <td>NaN</td>\n",
       "    </tr>\n",
       "    <tr>\n",
       "      <th>76</th>\n",
       "      <td>1282</td>\n",
       "      <td>Yes</td>\n",
       "      <td>NaN</td>\n",
       "      <td>La Fondation Unilever a été révoquée volontair...</td>\n",
       "      <td>NaN</td>\n",
       "      <td>NaN</td>\n",
       "      <td>NaN</td>\n",
       "      <td>NaN</td>\n",
       "      <td>NaN</td>\n",
       "      <td>NaN</td>\n",
       "      <td>...</td>\n",
       "      <td>NaN</td>\n",
       "      <td>NaN</td>\n",
       "      <td>NaN</td>\n",
       "      <td>NaN</td>\n",
       "      <td>NaN</td>\n",
       "      <td>NaN</td>\n",
       "      <td>NaN</td>\n",
       "      <td>NaN</td>\n",
       "      <td>NaN</td>\n",
       "      <td>NaN</td>\n",
       "    </tr>\n",
       "  </tbody>\n",
       "</table>\n",
       "<p>3 rows × 24 columns</p>\n",
       "</div>"
      ],
      "text/plain": [
       "      id isFoundation Name                                            Address  \\\n",
       "19   281          Yes  NaN                                                NaN   \n",
       "72  1186          Yes  NaN            Voir la Fondation St-Hubert, plus haut.   \n",
       "76  1282          Yes  NaN  La Fondation Unilever a été révoquée volontair...   \n",
       "\n",
       "   Langue Catégorie Contact  Tél Échelledons Total annuel  ...  \\\n",
       "19    NaN       NaN     NaN  NaN         NaN          NaN  ...   \n",
       "72    NaN       NaN     NaN  NaN         NaN          NaN  ...   \n",
       "76    NaN       NaN     NaN  NaN         NaN          NaN  ...   \n",
       "\n",
       "   Projets privilégiés Avis Courriel  Web   ou Limites géographiques Téléc  \\\n",
       "19                 NaN  NaN      NaN  NaN  NaN                   NaN   NaN   \n",
       "72                 NaN  NaN      NaN  NaN  NaN                   NaN   NaN   \n",
       "76                 NaN  NaN      NaN  NaN  NaN                   NaN   NaN   \n",
       "\n",
       "   Poste Total actif Limites géog  \n",
       "19   NaN         NaN          NaN  \n",
       "72   NaN         NaN          NaN  \n",
       "76   NaN         NaN          NaN  \n",
       "\n",
       "[3 rows x 24 columns]"
      ]
     },
     "execution_count": 82,
     "metadata": {},
     "output_type": "execute_result"
    }
   ],
   "source": [
    "dfFoundation_full[dfFoundation_full.Name.isna() == True]"
   ]
  },
  {
   "cell_type": "code",
   "execution_count": 83,
   "id": "2540cca0",
   "metadata": {},
   "outputs": [],
   "source": [
    "#Drop the foundations where name is null\n",
    "dfFoundation_full = dfFoundation_full[dfFoundation_full.Name.isna() == False]"
   ]
  },
  {
   "cell_type": "code",
   "execution_count": 84,
   "id": "461a5409",
   "metadata": {},
   "outputs": [
    {
     "data": {
      "text/html": [
       "<div>\n",
       "<style scoped>\n",
       "    .dataframe tbody tr th:only-of-type {\n",
       "        vertical-align: middle;\n",
       "    }\n",
       "\n",
       "    .dataframe tbody tr th {\n",
       "        vertical-align: top;\n",
       "    }\n",
       "\n",
       "    .dataframe thead th {\n",
       "        text-align: right;\n",
       "    }\n",
       "</style>\n",
       "<table border=\"1\" class=\"dataframe\">\n",
       "  <thead>\n",
       "    <tr style=\"text-align: right;\">\n",
       "      <th></th>\n",
       "      <th>id</th>\n",
       "      <th>isFoundation</th>\n",
       "      <th>Name</th>\n",
       "      <th>Address</th>\n",
       "      <th>Langue</th>\n",
       "      <th>Catégorie</th>\n",
       "      <th>Contact</th>\n",
       "      <th>Tél</th>\n",
       "      <th>Échelledons</th>\n",
       "      <th>Total annuel</th>\n",
       "      <th>...</th>\n",
       "      <th>Projets privilégiés</th>\n",
       "      <th>Avis</th>\n",
       "      <th>Courriel</th>\n",
       "      <th>Web</th>\n",
       "      <th>ou</th>\n",
       "      <th>Limites géographiques</th>\n",
       "      <th>Téléc</th>\n",
       "      <th>Poste</th>\n",
       "      <th>Total actif</th>\n",
       "      <th>Limites géog</th>\n",
       "    </tr>\n",
       "  </thead>\n",
       "  <tbody>\n",
       "  </tbody>\n",
       "</table>\n",
       "<p>0 rows × 24 columns</p>\n",
       "</div>"
      ],
      "text/plain": [
       "Empty DataFrame\n",
       "Columns: [id, isFoundation, Name, Address, Langue, Catégorie, Contact, Tél, Échelledons, Total annuel, Actif, Date approb, Date fin d’ann, Domaines dintérêt, Projets privilégiés, Avis, Courriel, Web, ou, Limites géographiques, Téléc, Poste, Total actif, Limites géog]\n",
       "Index: []\n",
       "\n",
       "[0 rows x 24 columns]"
      ]
     },
     "execution_count": 84,
     "metadata": {},
     "output_type": "execute_result"
    }
   ],
   "source": [
    "dfFoundation_full[dfFoundation_full.Address.isna() == True]"
   ]
  },
  {
   "cell_type": "markdown",
   "id": "2a255c8c",
   "metadata": {},
   "source": [
    "### Cleaning column names and merging equivalent fields"
   ]
  },
  {
   "cell_type": "code",
   "execution_count": 95,
   "id": "3b414177",
   "metadata": {},
   "outputs": [],
   "source": [
    "def concat_cols(df_original, df_cols, df_new):\n",
    "\n",
    "    for _, x in df_cols.iterrows():\n",
    "        new_col_name = x['new_col']\n",
    "        cols_to_concat = x['colnames']\n",
    "\n",
    "        if len(cols_to_concat) > 1:\n",
    "            df_new[new_col_name] =  df_original[cols_to_concat].fillna('').agg('; '.join, axis=1)\n",
    "        else:\n",
    "            df_new[new_col_name] = df_original[cols_to_concat[0]]\n",
    "    \n",
    "    return df_new\n",
    "\n",
    "\n",
    "def clean_colnames(string):\n",
    "    string_c = re.sub(r'[^ \\nA-Za-z0-9À-ÖØ-öø-ÿ/]+', '', string).upper()\n",
    "    string_c = unidecode.unidecode(string_c)\n",
    "    #string_c = string_c.replace(' ','_')\n",
    "    return string_c\n",
    "\n",
    "def remove_extra_sep_tokens(df_original, df_cols, pattern = '; '):\n",
    "\n",
    "    cols_concatted = df_cols[ df_cols.apply(lambda x: len(x['colnames']),axis=1) >1].new_col.tolist()\n",
    "    sep_list = [pattern*i for i in range(2,10)]\n",
    "    df_new = df_original.copy()\n",
    "    \n",
    "    for col in cols_concatted:\n",
    "        for str1 in sep_list[::-1]:\n",
    "            df_new.loc[:,col] = df_new.loc[:,col].str.replace(str1, pattern)\n",
    "\n",
    "    df_new[cols_concatted] = df_new[cols_concatted].applymap(lambda x: x.strip(pattern) if isinstance(x, str) else x)\n",
    "\n",
    "    return df_new\n"
   ]
  },
  {
   "cell_type": "code",
   "execution_count": 96,
   "id": "7c72f6d5",
   "metadata": {},
   "outputs": [],
   "source": [
    "colnames = dfOrg_full.columns\n",
    "\n",
    "clean_cols = [clean_colnames(i) for i in colnames]\n",
    "\n",
    "dfOrg_full.columns = clean_cols\n",
    "\n",
    "# pd.DataFrame({'colnames':clean_cols}).to_csv('Colnames.csv', index=None) \n",
    "# to label them in excel"
   ]
  },
  {
   "cell_type": "code",
   "execution_count": 97,
   "id": "e9d9cf0b",
   "metadata": {},
   "outputs": [],
   "source": [
    "df_groupings = pd.read_csv('Colnames_orgs_std.csv')\n",
    "\n",
    "df_groupings = df_groupings.groupby('new_col')['colnames'].apply(list).reset_index()\n",
    "\n",
    "df_orgs = dfOrg_full[['ID']].copy()\n",
    "\n",
    "df_orgs = concat_cols(dfOrg_full, df_groupings, df_orgs)\n",
    "\n",
    "df_orgs = remove_extra_sep_tokens(df_orgs, df_groupings)"
   ]
  },
  {
   "cell_type": "code",
   "execution_count": 98,
   "id": "6cf0315b",
   "metadata": {},
   "outputs": [
    {
     "data": {
      "text/plain": [
       "Index(['ID', '2E CONTACT POUR', 'ADDRESS', 'AVIS', 'CONTACT', 'CONTRIBUTION',\n",
       "       'COURRIEL', 'DDD', 'DOMAINE DINTERET', 'FAF', 'FAX', 'FILIALE DE',\n",
       "       'ISFOUNDATION', 'LANGUE', 'LIMITES GEOG', 'N DE TEL', 'NAME',\n",
       "       'NBRE DE SUCC', 'NOMBRE DEMPLOYES', 'NOTE', 'POSTE', 'PRINCIP FILIALES',\n",
       "       'SECTEUR INDUSTRIEL', 'SITE WEB'],\n",
       "      dtype='object')"
      ]
     },
     "execution_count": 98,
     "metadata": {},
     "output_type": "execute_result"
    }
   ],
   "source": [
    "df_orgs.columns"
   ]
  },
  {
   "cell_type": "code",
   "execution_count": 99,
   "id": "e721202c",
   "metadata": {},
   "outputs": [],
   "source": [
    "# same process but for foundations\n",
    "colnames = dfFoundation_full.columns\n",
    "\n",
    "clean_cols = [clean_colnames(i) for i in colnames]\n",
    "\n",
    "dfFoundation_full.columns = clean_cols\n",
    "\n",
    "#pd.DataFrame({'colnames':clean_cols}).to_csv('Colnames_foundations.csv', index=None)\n"
   ]
  },
  {
   "cell_type": "code",
   "execution_count": 100,
   "id": "05173942",
   "metadata": {},
   "outputs": [],
   "source": [
    "df_groupings = pd.read_csv('Colnames_foundations_std.csv')\n",
    "\n",
    "df_groupings = df_groupings.groupby('new_col')['colnames'].apply(list).reset_index()\n",
    "\n",
    "df_fonds = dfFoundation_full[['ID']].copy()\n",
    "\n",
    "df_fonds = concat_cols(dfFoundation_full, df_groupings, df_fonds)\n",
    "\n",
    "df_fonds = remove_extra_sep_tokens(df_fonds, df_groupings)"
   ]
  },
  {
   "cell_type": "markdown",
   "id": "a60da61c",
   "metadata": {},
   "source": [
    "### Save"
   ]
  },
  {
   "cell_type": "code",
   "execution_count": 103,
   "id": "8e34c76b",
   "metadata": {},
   "outputs": [
    {
     "name": "stdout",
     "output_type": "stream",
     "text": [
      "(1342, 24)\n",
      "(78, 22)\n"
     ]
    }
   ],
   "source": [
    "print(df_orgs.shape)\n",
    "print(df_fonds.shape)"
   ]
  },
  {
   "cell_type": "code",
   "execution_count": 104,
   "id": "adce3648",
   "metadata": {},
   "outputs": [],
   "source": [
    "####\n",
    "# Save to csv\n",
    "###\n",
    "df_orgs.to_excel(\"../Data/Organizations.xlsx\")\n",
    "df_fonds.to_excel(\"../Data/Foundations.xlsx\")"
   ]
  },
  {
   "cell_type": "markdown",
   "id": "c18b1f17",
   "metadata": {},
   "source": [
    "# Merging for Similar Column Names\n",
    "# - Deprecated -"
   ]
  },
  {
   "cell_type": "code",
   "execution_count": 90,
   "id": "12284cc7",
   "metadata": {},
   "outputs": [],
   "source": [
    "def similar(a, b):\n",
    "    return SequenceMatcher(None, a, b).ratio()"
   ]
  },
  {
   "cell_type": "code",
   "execution_count": 91,
   "id": "87d3d52d",
   "metadata": {},
   "outputs": [],
   "source": [
    "#Very inefficient but it probably works :)\n",
    "def similarityColnames(df, threshold, verbose = True):\n",
    "    i = 0\n",
    "    output = []\n",
    "    for j, col1 in enumerate(df.columns):\n",
    "        output.append([col1])\n",
    "        for col2 in df.columns:\n",
    "            if col1 == col2:\n",
    "                continue\n",
    "\n",
    "            if similar(col1, col2) >= threshold:\n",
    "                i += 1\n",
    "                output[j].append(col2)\n",
    "                if verbose:\n",
    "                    print(f\"{i}) {col1} - {col2}: {str(similar(col1,col2))}\")\n",
    "    \n",
    "    #Remove 1 element lists and sort alphabetically\n",
    "    output = [sorted(nested) for nested in output if len(nested)>1]\n",
    "    #Remove duplicates\n",
    "    cleaned_output = []\n",
    "    for elem in output:\n",
    "        if elem not in cleaned_output:\n",
    "            cleaned_output.append(elem)\n",
    "    return cleaned_output"
   ]
  },
  {
   "cell_type": "code",
   "execution_count": 93,
   "id": "4061dc4a",
   "metadata": {},
   "outputs": [
    {
     "name": "stdout",
     "output_type": "stream",
     "text": [
      "1) n° de tél - 2e n° de tél: 0.8571428571428571\n",
      "2) Domaine dintérêt - Domaines dintérêt: 0.9696969696969697\n",
      "3) Contribution - 2 - Contribution: 0.8571428571428571\n",
      "4) Courriel - 2 - Courriel: 0.8\n",
      "5) 2e n° de tél - n° de tél: 0.8571428571428571\n",
      "6) 2 - Courriel - Courriel: 0.8\n",
      "7) Princip filiales - Princip Filiales: 0.9375\n",
      "8) Princip filiales - Principale filiale: 0.8823529411764706\n",
      "9) Princip filiales - Principales filiales: 0.8888888888888888\n",
      "10) Princip filiales - Principfiliales: 0.967741935483871\n",
      "11) 2 - Note - 2 - Poste: 0.8235294117647058\n",
      "12) Princip Filiales - Princip filiales: 0.9375\n",
      "13) Princip Filiales - Principale filiale: 0.8235294117647058\n",
      "14) Princip Filiales - Principales filiales: 0.8333333333333334\n",
      "15) Princip Filiales - Principfiliales: 0.9032258064516129\n",
      "16) Principale filiale - Princip filiales: 0.8823529411764706\n",
      "17) Principale filiale - Princip Filiales: 0.8235294117647058\n",
      "18) Principale filiale - Principales filiales: 0.9473684210526315\n",
      "19) Principale filiale - Principfiliales: 0.8484848484848485\n",
      "20) Principales filiales - Princip filiales: 0.8888888888888888\n",
      "21) Principales filiales - Princip Filiales: 0.8333333333333334\n",
      "22) Principales filiales - Principale filiale: 0.9473684210526315\n",
      "23) Principales filiales - Principfiliales: 0.8571428571428571\n",
      "24) Domaines dintérêt - Domaine dintérêt: 0.9696969696969697\n",
      "25) 2 - Poste - 2 - Note: 0.8235294117647058\n",
      "26) Principfiliales - Princip filiales: 0.967741935483871\n",
      "27) Principfiliales - Princip Filiales: 0.9032258064516129\n",
      "28) Principfiliales - Principale filiale: 0.8484848484848485\n",
      "29) Principfiliales - Principales filiales: 0.8571428571428571\n",
      "30) 2 - Contribution - Contribution: 0.8571428571428571\n"
     ]
    }
   ],
   "source": [
    "similarityscores = similarityColnames(dfOrg_full, 0.8)"
   ]
  },
  {
   "cell_type": "code",
   "execution_count": 94,
   "id": "bc81186a",
   "metadata": {},
   "outputs": [
    {
     "data": {
      "text/plain": [
       "[['2e n° de tél', 'n° de tél'],\n",
       " ['Domaine dintérêt', 'Domaines dintérêt'],\n",
       " ['2 - Contribution', 'Contribution'],\n",
       " ['2 - Courriel', 'Courriel'],\n",
       " ['Princip Filiales',\n",
       "  'Princip filiales',\n",
       "  'Principale filiale',\n",
       "  'Principales filiales',\n",
       "  'Principfiliales'],\n",
       " ['2 - Note', '2 - Poste']]"
      ]
     },
     "execution_count": 94,
     "metadata": {},
     "output_type": "execute_result"
    }
   ],
   "source": [
    "similarityscores"
   ]
  },
  {
   "cell_type": "code",
   "execution_count": 95,
   "id": "c145727c",
   "metadata": {},
   "outputs": [],
   "source": [
    "#Dumb way of concating similar columns with a threshold: doesn't check if there are values in both columns\n",
    "def concatSimilarStringColumns(df, scores, threshold, drop = True, user_input = True):\n",
    "    \"\"\" \n",
    "    Uses the output from similarityColnames\n",
    "    Can be set to use user input or not. If no input from user, will merge every set of columns using first name in list\n",
    "    Can be set to drop merged columns or not\n",
    "    ------------\n",
    "    NOTE: edge case exists where new name provided by user is same as old name. \n",
    "    ------------\n",
    "    \"\"\"\n",
    "    \n",
    "    #If user doesn't want to input anything\n",
    "    if not user_input:\n",
    "        while True:\n",
    "            i = 0\n",
    "\n",
    "            #Merge        \n",
    "            #If want to keep first name in list, merge on col of that name\n",
    "            df[scores[i][0]] = df[scores[i][0]].fillna('')\n",
    "            for name in scores[i]:\n",
    "                if name != scores[i][0]:\n",
    "                    df[scores[i][0]] += df[name].fillna('')\n",
    "\n",
    "\n",
    "            #Then need to drop the merged columns\n",
    "            if drop:\n",
    "                df = df.drop(scores[i][1:], axis=1)\n",
    "\n",
    "            #Once done with merge, up counter\n",
    "            i+=1\n",
    "\n",
    "            #Once done with every column, finish\n",
    "            if i == len(scores):\n",
    "                break\n",
    "                \n",
    "    #If user_input\n",
    "    else:\n",
    "        i = 0\n",
    "        while True:\n",
    "            #Get user input for if they want to merge columns in similarity list or not\n",
    "            mergeResponse = input(f\"Do you want to merge the columns in this list: {scores[i]}? Y/N\\n\")\n",
    "            if mergeResponse not in ('Y','N'):\n",
    "                print(\"\\nERROR: Please enter one of Y or N\")\n",
    "                continue\n",
    "\n",
    "            #Go to next if merge not desired\n",
    "            if mergeResponse == 'N':\n",
    "                i+=1\n",
    "                continue\n",
    "\n",
    "            #Merge\n",
    "            else:\n",
    "                #Get user input for desired name of column\n",
    "                while True:\n",
    "                    nameResponse = input(\"If you want to keep the first name in this list, press 1. Else, press 2.\")\n",
    "                    if nameResponse not in ('1','2'):\n",
    "                        print(\"\\nERROR: Please enter one of 1 or 2\")\n",
    "                        continue\n",
    "                    else:\n",
    "                        break\n",
    "\n",
    "                #If want to keep first name in list, merge on col of that name\n",
    "                if nameResponse == '1':\n",
    "                    df[scores[i][0]] = df[scores[i][0]].fillna('')\n",
    "                    for name in scores[i]:\n",
    "                        if name != scores[i][0]:\n",
    "                            df[scores[i][0]] += df[name].fillna('')\n",
    "\n",
    "\n",
    "                    #Then need to drop the merged columns\n",
    "                    if drop:\n",
    "                        df = df.drop(scores[i][1:], axis=1)\n",
    "                #If want to input a new name, merge by creating new column with inputed name\n",
    "                else:\n",
    "                    newName = input(\"Input desired name for column.\")\n",
    "\n",
    "                    df[newName] = df[scores[i][0]].fillna('')\n",
    "                    for name in scores[i]:\n",
    "                        df[newName] += df[name].fillna('')\n",
    "\n",
    "                    #Then need to drop the merged columns\n",
    "                    if drop:\n",
    "                        df = df.drop(scores[i], axis=1)\n",
    "\n",
    "\n",
    "                #Once done with merge, up counter\n",
    "                i+=1\n",
    "\n",
    "            #Once done with every column, finish\n",
    "            if i == len(scores):\n",
    "                    break\n",
    "\n",
    "    return df"
   ]
  },
  {
   "cell_type": "code",
   "execution_count": 96,
   "id": "8dffd212",
   "metadata": {},
   "outputs": [
    {
     "name": "stdout",
     "output_type": "stream",
     "text": [
      "Do you want to merge the columns in this list: ['2e n° de tél', 'n° de tél']? Y/N\n",
      "N\n",
      "Do you want to merge the columns in this list: ['Domaine dintérêt', 'Domaines dintérêt']? Y/N\n",
      "Y\n",
      "If you want to keep the first name in this list, press 1. Else, press 2.1\n",
      "Do you want to merge the columns in this list: ['2 - Contribution', 'Contribution']? Y/N\n",
      "N\n",
      "Do you want to merge the columns in this list: ['2 - Courriel', 'Courriel']? Y/N\n",
      "N\n",
      "Do you want to merge the columns in this list: ['Princip Filiales', 'Princip filiales', 'Principale filiale', 'Principales filiales', 'Principfiliales']? Y/N\n",
      "Y\n",
      "If you want to keep the first name in this list, press 1. Else, press 2.2\n",
      "Input desired name for column.Principales Filiales\n",
      "Do you want to merge the columns in this list: ['2 - Note', '2 - Poste']? Y/N\n",
      "N\n"
     ]
    },
    {
     "ename": "IndexError",
     "evalue": "list index out of range",
     "output_type": "error",
     "traceback": [
      "\u001b[1;31m---------------------------------------------------------------------------\u001b[0m",
      "\u001b[1;31mIndexError\u001b[0m                                Traceback (most recent call last)",
      "Input \u001b[1;32mIn [96]\u001b[0m, in \u001b[0;36m<cell line: 1>\u001b[1;34m()\u001b[0m\n\u001b[1;32m----> 1\u001b[0m df_merged \u001b[38;5;241m=\u001b[39m \u001b[43mconcatSimilarStringColumns\u001b[49m\u001b[43m(\u001b[49m\u001b[43mdfOrg_full\u001b[49m\u001b[43m,\u001b[49m\u001b[43m \u001b[49m\u001b[43msimilarityscores\u001b[49m\u001b[43m,\u001b[49m\u001b[43m \u001b[49m\u001b[38;5;241;43m0.8\u001b[39;49m\u001b[43m,\u001b[49m\u001b[43m \u001b[49m\u001b[43mdrop\u001b[49m\u001b[43m \u001b[49m\u001b[38;5;241;43m=\u001b[39;49m\u001b[43m \u001b[49m\u001b[38;5;28;43;01mTrue\u001b[39;49;00m\u001b[43m,\u001b[49m\u001b[43m \u001b[49m\u001b[43muser_input\u001b[49m\u001b[43m \u001b[49m\u001b[38;5;241;43m=\u001b[39;49m\u001b[43m \u001b[49m\u001b[38;5;28;43;01mTrue\u001b[39;49;00m\u001b[43m)\u001b[49m\n",
      "Input \u001b[1;32mIn [95]\u001b[0m, in \u001b[0;36mconcatSimilarStringColumns\u001b[1;34m(df, scores, threshold, drop, user_input)\u001b[0m\n\u001b[0;32m     38\u001b[0m i \u001b[38;5;241m=\u001b[39m \u001b[38;5;241m0\u001b[39m\n\u001b[0;32m     39\u001b[0m \u001b[38;5;28;01mwhile\u001b[39;00m \u001b[38;5;28;01mTrue\u001b[39;00m:\n\u001b[0;32m     40\u001b[0m     \u001b[38;5;66;03m#Get user input for if they want to merge columns in similarity list or not\u001b[39;00m\n\u001b[1;32m---> 41\u001b[0m     mergeResponse \u001b[38;5;241m=\u001b[39m \u001b[38;5;28minput\u001b[39m(\u001b[38;5;124mf\u001b[39m\u001b[38;5;124m\"\u001b[39m\u001b[38;5;124mDo you want to merge the columns in this list: \u001b[39m\u001b[38;5;132;01m{\u001b[39;00mscores[i]\u001b[38;5;132;01m}\u001b[39;00m\u001b[38;5;124m? Y/N\u001b[39m\u001b[38;5;130;01m\\n\u001b[39;00m\u001b[38;5;124m\"\u001b[39m)\n\u001b[0;32m     42\u001b[0m     \u001b[38;5;28;01mif\u001b[39;00m mergeResponse \u001b[38;5;129;01mnot\u001b[39;00m \u001b[38;5;129;01min\u001b[39;00m (\u001b[38;5;124m'\u001b[39m\u001b[38;5;124mY\u001b[39m\u001b[38;5;124m'\u001b[39m,\u001b[38;5;124m'\u001b[39m\u001b[38;5;124mN\u001b[39m\u001b[38;5;124m'\u001b[39m):\n\u001b[0;32m     43\u001b[0m         \u001b[38;5;28mprint\u001b[39m(\u001b[38;5;124m\"\u001b[39m\u001b[38;5;130;01m\\n\u001b[39;00m\u001b[38;5;124mERROR: Please enter one of Y or N\u001b[39m\u001b[38;5;124m\"\u001b[39m)\n",
      "\u001b[1;31mIndexError\u001b[0m: list index out of range"
     ]
    }
   ],
   "source": [
    "df_merged = concatSimilarStringColumns(dfOrg_full, similarityscores, 0.8, drop = True, user_input = True)"
   ]
  }
 ],
 "metadata": {
  "kernelspec": {
   "display_name": "Python 3.8.8 ('base')",
   "language": "python",
   "name": "python3"
  },
  "language_info": {
   "codemirror_mode": {
    "name": "ipython",
    "version": 3
   },
   "file_extension": ".py",
   "mimetype": "text/x-python",
   "name": "python",
   "nbconvert_exporter": "python",
   "pygments_lexer": "ipython3",
   "version": "3.8.8"
  },
  "vscode": {
   "interpreter": {
    "hash": "8e76f8642360a3358ab06c318ab18c1161224eb3836609d5c16edea6f6e43dba"
   }
  }
 },
 "nbformat": 4,
 "nbformat_minor": 5
}
