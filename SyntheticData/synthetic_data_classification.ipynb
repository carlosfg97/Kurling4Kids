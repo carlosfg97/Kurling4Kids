{
 "cells": [
  {
   "cell_type": "code",
   "execution_count": 1,
   "id": "0a473efb",
   "metadata": {},
   "outputs": [],
   "source": [
    "import pandas as pd\n",
    "import pickle\n",
    "import re\n",
    "import unidecode"
   ]
  },
  {
   "cell_type": "code",
   "execution_count": 2,
   "id": "8d6dea56",
   "metadata": {},
   "outputs": [],
   "source": [
    "df_matches = pd.read_pickle(\"../Data/df_matches.pickle\")"
   ]
  },
  {
   "cell_type": "code",
   "execution_count": 3,
   "id": "69814b1b",
   "metadata": {},
   "outputs": [
    {
     "data": {
      "text/html": [
       "<div>\n",
       "<style scoped>\n",
       "    .dataframe tbody tr th:only-of-type {\n",
       "        vertical-align: middle;\n",
       "    }\n",
       "\n",
       "    .dataframe tbody tr th {\n",
       "        vertical-align: top;\n",
       "    }\n",
       "\n",
       "    .dataframe thead th {\n",
       "        text-align: right;\n",
       "    }\n",
       "</style>\n",
       "<table border=\"1\" class=\"dataframe\">\n",
       "  <thead>\n",
       "    <tr style=\"text-align: right;\">\n",
       "      <th></th>\n",
       "      <th>COMPANY</th>\n",
       "      <th>ADDED_MODIFIED</th>\n",
       "      <th>DOLLAR_AMOUNT_FLOAT</th>\n",
       "      <th>MONEYPRIZE_RECEIVED</th>\n",
       "      <th>DONATION_DETAILS</th>\n",
       "      <th>YEAR</th>\n",
       "      <th>DON_DETAIL_AMOUNT</th>\n",
       "      <th>DOLLAR_EQUIVALENT_AMOUNT</th>\n",
       "      <th>DON_DETAIL_TXT</th>\n",
       "      <th>ORGANIZATION</th>\n",
       "      <th>...</th>\n",
       "      <th>OU</th>\n",
       "      <th>POSTE_FND</th>\n",
       "      <th>PROJETS_PRIVILEGIES</th>\n",
       "      <th>TEL</th>\n",
       "      <th>TOTAL_ANNUEL</th>\n",
       "      <th>WEB</th>\n",
       "      <th>MUNICIPALITY_FND</th>\n",
       "      <th>PROVINCE_FND</th>\n",
       "      <th>POSTALCODE_FND</th>\n",
       "      <th>STREET_FND</th>\n",
       "    </tr>\n",
       "  </thead>\n",
       "  <tbody>\n",
       "    <tr>\n",
       "      <th>0</th>\n",
       "      <td>VIA</td>\n",
       "      <td>2010-01-19</td>\n",
       "      <td>0.0</td>\n",
       "      <td>NaN</td>\n",
       "      <td>trip for 4 Montreal/Windsor $2600 value</td>\n",
       "      <td>2010</td>\n",
       "      <td>2600.0</td>\n",
       "      <td>2600.0</td>\n",
       "      <td>trip for 4 montreal/windsor value</td>\n",
       "      <td>VIA RAIL</td>\n",
       "      <td>...</td>\n",
       "      <td>NaN</td>\n",
       "      <td>NaN</td>\n",
       "      <td>NaN</td>\n",
       "      <td>NaN</td>\n",
       "      <td>NaN</td>\n",
       "      <td>NaN</td>\n",
       "      <td>NaN</td>\n",
       "      <td>NaN</td>\n",
       "      <td>NaN</td>\n",
       "      <td>NaN</td>\n",
       "    </tr>\n",
       "    <tr>\n",
       "      <th>1</th>\n",
       "      <td>VIA</td>\n",
       "      <td>2011-01-01</td>\n",
       "      <td>0.0</td>\n",
       "      <td>Yes</td>\n",
       "      <td>trip for 4 Montreal/Windsor $2600 value</td>\n",
       "      <td>2011</td>\n",
       "      <td>2600.0</td>\n",
       "      <td>2600.0</td>\n",
       "      <td>trip for 4 montreal/windsor value</td>\n",
       "      <td>VIA RAIL</td>\n",
       "      <td>...</td>\n",
       "      <td>NaN</td>\n",
       "      <td>NaN</td>\n",
       "      <td>NaN</td>\n",
       "      <td>NaN</td>\n",
       "      <td>NaN</td>\n",
       "      <td>NaN</td>\n",
       "      <td>NaN</td>\n",
       "      <td>NaN</td>\n",
       "      <td>NaN</td>\n",
       "      <td>NaN</td>\n",
       "    </tr>\n",
       "    <tr>\n",
       "      <th>2</th>\n",
       "      <td>VIA</td>\n",
       "      <td>2012-01-09</td>\n",
       "      <td>0.0</td>\n",
       "      <td>Yes</td>\n",
       "      <td>trip for 4 Montreal/Windsor $2251 value</td>\n",
       "      <td>2012</td>\n",
       "      <td>2251.0</td>\n",
       "      <td>2251.0</td>\n",
       "      <td>trip for 4 montreal/windsor value</td>\n",
       "      <td>VIA RAIL</td>\n",
       "      <td>...</td>\n",
       "      <td>NaN</td>\n",
       "      <td>NaN</td>\n",
       "      <td>NaN</td>\n",
       "      <td>NaN</td>\n",
       "      <td>NaN</td>\n",
       "      <td>NaN</td>\n",
       "      <td>NaN</td>\n",
       "      <td>NaN</td>\n",
       "      <td>NaN</td>\n",
       "      <td>NaN</td>\n",
       "    </tr>\n",
       "    <tr>\n",
       "      <th>3</th>\n",
       "      <td>VIA</td>\n",
       "      <td>2012-06-12</td>\n",
       "      <td>0.0</td>\n",
       "      <td>Yes</td>\n",
       "      <td>trip for 4 Montreal/Windsor $2251 value</td>\n",
       "      <td>2013</td>\n",
       "      <td>2251.0</td>\n",
       "      <td>2251.0</td>\n",
       "      <td>trip for 4 montreal/windsor value</td>\n",
       "      <td>VIA RAIL</td>\n",
       "      <td>...</td>\n",
       "      <td>NaN</td>\n",
       "      <td>NaN</td>\n",
       "      <td>NaN</td>\n",
       "      <td>NaN</td>\n",
       "      <td>NaN</td>\n",
       "      <td>NaN</td>\n",
       "      <td>NaN</td>\n",
       "      <td>NaN</td>\n",
       "      <td>NaN</td>\n",
       "      <td>NaN</td>\n",
       "    </tr>\n",
       "    <tr>\n",
       "      <th>4</th>\n",
       "      <td>VIA</td>\n",
       "      <td>2014-03-04</td>\n",
       "      <td>0.0</td>\n",
       "      <td>Yes</td>\n",
       "      <td>Silver</td>\n",
       "      <td>2014</td>\n",
       "      <td>NaN</td>\n",
       "      <td>0.0</td>\n",
       "      <td>silver</td>\n",
       "      <td>VIA RAIL</td>\n",
       "      <td>...</td>\n",
       "      <td>NaN</td>\n",
       "      <td>NaN</td>\n",
       "      <td>NaN</td>\n",
       "      <td>NaN</td>\n",
       "      <td>NaN</td>\n",
       "      <td>NaN</td>\n",
       "      <td>NaN</td>\n",
       "      <td>NaN</td>\n",
       "      <td>NaN</td>\n",
       "      <td>NaN</td>\n",
       "    </tr>\n",
       "    <tr>\n",
       "      <th>5</th>\n",
       "      <td>VIA</td>\n",
       "      <td>2014-12-31</td>\n",
       "      <td>0.0</td>\n",
       "      <td>Yes</td>\n",
       "      <td>Raffle prize - full page ad</td>\n",
       "      <td>2015</td>\n",
       "      <td>NaN</td>\n",
       "      <td>0.0</td>\n",
       "      <td>raffle prize - full page ad</td>\n",
       "      <td>VIA RAIL</td>\n",
       "      <td>...</td>\n",
       "      <td>NaN</td>\n",
       "      <td>NaN</td>\n",
       "      <td>NaN</td>\n",
       "      <td>NaN</td>\n",
       "      <td>NaN</td>\n",
       "      <td>NaN</td>\n",
       "      <td>NaN</td>\n",
       "      <td>NaN</td>\n",
       "      <td>NaN</td>\n",
       "      <td>NaN</td>\n",
       "    </tr>\n",
       "    <tr>\n",
       "      <th>6</th>\n",
       "      <td>ULTRAMAR</td>\n",
       "      <td>2010-01-19</td>\n",
       "      <td>500.0</td>\n",
       "      <td>yes</td>\n",
       "      <td>Silver - $500 in gas coupons</td>\n",
       "      <td>2010</td>\n",
       "      <td>500.0</td>\n",
       "      <td>500.0</td>\n",
       "      <td>silver - in gas coupons</td>\n",
       "      <td>ULTRAMAR</td>\n",
       "      <td>...</td>\n",
       "      <td>NaN</td>\n",
       "      <td>NaN</td>\n",
       "      <td>Activité bénéfice annuelle (tournois, événemen...</td>\n",
       "      <td>NaN</td>\n",
       "      <td>1 173 800 :$</td>\n",
       "      <td>http://www.ultramarcst.ca  -ou- https://www.ul...</td>\n",
       "      <td>montréal</td>\n",
       "      <td>QC</td>\n",
       "      <td>H3B0C9</td>\n",
       "      <td>1155, boul. rené-lévesque o.</td>\n",
       "    </tr>\n",
       "    <tr>\n",
       "      <th>7</th>\n",
       "      <td>ULTRAMAR</td>\n",
       "      <td>2011-01-10</td>\n",
       "      <td>0.0</td>\n",
       "      <td>Yes</td>\n",
       "      <td>Silver - $500 in gas coupons</td>\n",
       "      <td>2011</td>\n",
       "      <td>500.0</td>\n",
       "      <td>500.0</td>\n",
       "      <td>silver - in gas coupons</td>\n",
       "      <td>ULTRAMAR</td>\n",
       "      <td>...</td>\n",
       "      <td>NaN</td>\n",
       "      <td>NaN</td>\n",
       "      <td>Activité bénéfice annuelle (tournois, événemen...</td>\n",
       "      <td>NaN</td>\n",
       "      <td>1 173 800 :$</td>\n",
       "      <td>http://www.ultramarcst.ca  -ou- https://www.ul...</td>\n",
       "      <td>montréal</td>\n",
       "      <td>QC</td>\n",
       "      <td>H3B0C9</td>\n",
       "      <td>1155, boul. rené-lévesque o.</td>\n",
       "    </tr>\n",
       "    <tr>\n",
       "      <th>8</th>\n",
       "      <td>ULTRAMAR</td>\n",
       "      <td>2012-01-10</td>\n",
       "      <td>0.0</td>\n",
       "      <td>Yes</td>\n",
       "      <td>Silver - $500 in gas coupons</td>\n",
       "      <td>2012</td>\n",
       "      <td>500.0</td>\n",
       "      <td>500.0</td>\n",
       "      <td>silver - in gas coupons</td>\n",
       "      <td>ULTRAMAR</td>\n",
       "      <td>...</td>\n",
       "      <td>NaN</td>\n",
       "      <td>NaN</td>\n",
       "      <td>Activité bénéfice annuelle (tournois, événemen...</td>\n",
       "      <td>NaN</td>\n",
       "      <td>1 173 800 :$</td>\n",
       "      <td>http://www.ultramarcst.ca  -ou- https://www.ul...</td>\n",
       "      <td>montréal</td>\n",
       "      <td>QC</td>\n",
       "      <td>H3B0C9</td>\n",
       "      <td>1155, boul. rené-lévesque o.</td>\n",
       "    </tr>\n",
       "    <tr>\n",
       "      <th>9</th>\n",
       "      <td>ULTRAMAR</td>\n",
       "      <td>2012-05-12</td>\n",
       "      <td>0.0</td>\n",
       "      <td>Yes</td>\n",
       "      <td>Silver - $500 in gas coupons</td>\n",
       "      <td>2013</td>\n",
       "      <td>500.0</td>\n",
       "      <td>500.0</td>\n",
       "      <td>silver - in gas coupons</td>\n",
       "      <td>ULTRAMAR</td>\n",
       "      <td>...</td>\n",
       "      <td>NaN</td>\n",
       "      <td>NaN</td>\n",
       "      <td>Activité bénéfice annuelle (tournois, événemen...</td>\n",
       "      <td>NaN</td>\n",
       "      <td>1 173 800 :$</td>\n",
       "      <td>http://www.ultramarcst.ca  -ou- https://www.ul...</td>\n",
       "      <td>montréal</td>\n",
       "      <td>QC</td>\n",
       "      <td>H3B0C9</td>\n",
       "      <td>1155, boul. rené-lévesque o.</td>\n",
       "    </tr>\n",
       "  </tbody>\n",
       "</table>\n",
       "<p>10 rows × 79 columns</p>\n",
       "</div>"
      ],
      "text/plain": [
       "    COMPANY ADDED_MODIFIED  DOLLAR_AMOUNT_FLOAT MONEYPRIZE_RECEIVED  \\\n",
       "0       VIA     2010-01-19                  0.0                 NaN   \n",
       "1       VIA     2011-01-01                  0.0                 Yes   \n",
       "2       VIA     2012-01-09                  0.0                 Yes   \n",
       "3       VIA     2012-06-12                  0.0                 Yes   \n",
       "4       VIA     2014-03-04                  0.0                 Yes   \n",
       "5       VIA     2014-12-31                  0.0                 Yes   \n",
       "6  ULTRAMAR     2010-01-19                500.0                 yes   \n",
       "7  ULTRAMAR     2011-01-10                  0.0                 Yes   \n",
       "8  ULTRAMAR     2012-01-10                  0.0                 Yes   \n",
       "9  ULTRAMAR     2012-05-12                  0.0                 Yes   \n",
       "\n",
       "                          DONATION_DETAILS  YEAR  DON_DETAIL_AMOUNT  \\\n",
       "0  trip for 4 Montreal/Windsor $2600 value  2010             2600.0   \n",
       "1  trip for 4 Montreal/Windsor $2600 value  2011             2600.0   \n",
       "2  trip for 4 Montreal/Windsor $2251 value  2012             2251.0   \n",
       "3  trip for 4 Montreal/Windsor $2251 value  2013             2251.0   \n",
       "4                                   Silver  2014                NaN   \n",
       "5              Raffle prize - full page ad  2015                NaN   \n",
       "6             Silver - $500 in gas coupons  2010              500.0   \n",
       "7             Silver - $500 in gas coupons  2011              500.0   \n",
       "8             Silver - $500 in gas coupons  2012              500.0   \n",
       "9             Silver - $500 in gas coupons  2013              500.0   \n",
       "\n",
       "   DOLLAR_EQUIVALENT_AMOUNT                     DON_DETAIL_TXT ORGANIZATION  \\\n",
       "0                    2600.0  trip for 4 montreal/windsor value    VIA RAIL    \n",
       "1                    2600.0  trip for 4 montreal/windsor value    VIA RAIL    \n",
       "2                    2251.0  trip for 4 montreal/windsor value    VIA RAIL    \n",
       "3                    2251.0  trip for 4 montreal/windsor value    VIA RAIL    \n",
       "4                       0.0                             silver    VIA RAIL    \n",
       "5                       0.0        raffle prize - full page ad    VIA RAIL    \n",
       "6                     500.0            silver - in gas coupons     ULTRAMAR   \n",
       "7                     500.0            silver - in gas coupons     ULTRAMAR   \n",
       "8                     500.0            silver - in gas coupons     ULTRAMAR   \n",
       "9                     500.0            silver - in gas coupons     ULTRAMAR   \n",
       "\n",
       "   ...   OU  POSTE_FND                                PROJETS_PRIVILEGIES  \\\n",
       "0  ...  NaN        NaN                                                NaN   \n",
       "1  ...  NaN        NaN                                                NaN   \n",
       "2  ...  NaN        NaN                                                NaN   \n",
       "3  ...  NaN        NaN                                                NaN   \n",
       "4  ...  NaN        NaN                                                NaN   \n",
       "5  ...  NaN        NaN                                                NaN   \n",
       "6  ...  NaN        NaN  Activité bénéfice annuelle (tournois, événemen...   \n",
       "7  ...  NaN        NaN  Activité bénéfice annuelle (tournois, événemen...   \n",
       "8  ...  NaN        NaN  Activité bénéfice annuelle (tournois, événemen...   \n",
       "9  ...  NaN        NaN  Activité bénéfice annuelle (tournois, événemen...   \n",
       "\n",
       "   TEL  TOTAL_ANNUEL                                                WEB  \\\n",
       "0  NaN           NaN                                                NaN   \n",
       "1  NaN           NaN                                                NaN   \n",
       "2  NaN           NaN                                                NaN   \n",
       "3  NaN           NaN                                                NaN   \n",
       "4  NaN           NaN                                                NaN   \n",
       "5  NaN           NaN                                                NaN   \n",
       "6  NaN  1 173 800 :$  http://www.ultramarcst.ca  -ou- https://www.ul...   \n",
       "7  NaN  1 173 800 :$  http://www.ultramarcst.ca  -ou- https://www.ul...   \n",
       "8  NaN  1 173 800 :$  http://www.ultramarcst.ca  -ou- https://www.ul...   \n",
       "9  NaN  1 173 800 :$  http://www.ultramarcst.ca  -ou- https://www.ul...   \n",
       "\n",
       "  MUNICIPALITY_FND PROVINCE_FND POSTALCODE_FND                    STREET_FND  \n",
       "0              NaN          NaN            NaN                           NaN  \n",
       "1              NaN          NaN            NaN                           NaN  \n",
       "2              NaN          NaN            NaN                           NaN  \n",
       "3              NaN          NaN            NaN                           NaN  \n",
       "4              NaN          NaN            NaN                           NaN  \n",
       "5              NaN          NaN            NaN                           NaN  \n",
       "6         montréal           QC         H3B0C9  1155, boul. rené-lévesque o.  \n",
       "7         montréal           QC         H3B0C9  1155, boul. rené-lévesque o.  \n",
       "8         montréal           QC         H3B0C9  1155, boul. rené-lévesque o.  \n",
       "9         montréal           QC         H3B0C9  1155, boul. rené-lévesque o.  \n",
       "\n",
       "[10 rows x 79 columns]"
      ]
     },
     "execution_count": 3,
     "metadata": {},
     "output_type": "execute_result"
    }
   ],
   "source": [
    "df_matches.head(10)"
   ]
  },
  {
   "cell_type": "code",
   "execution_count": 4,
   "id": "4fa106c8",
   "metadata": {},
   "outputs": [],
   "source": [
    "def clean_col_names(df_):\n",
    "\n",
    "    df = df_.copy()\n",
    "    cols = df.columns.to_list()\n",
    "    new_cols=[]\n",
    "    for col in cols:\n",
    "        \n",
    "        col = re.sub(' +', ' ', col)\n",
    "        col = col.replace(' ','_')\n",
    "        col = col.replace('/','')\n",
    "        col = col.replace('$','dollar')\n",
    "        col = col.upper()\n",
    "        new_cols.append(col)\n",
    "\n",
    "    df.columns = new_cols\n",
    "\n",
    "    return df\n",
    "    \n",
    "def stdr_names(series_original):\n",
    "    '''Clean company names. To be used in the different files so names are likelier to be matched'''\n",
    "    series = series_original.copy()\n",
    "    series = series.astype(str)\n",
    "    \n",
    "    series = series.str.upper()\n",
    "    series = series.str.strip()\n",
    "\n",
    "    series = series.replace(r'\\s+', ' ', regex=True)\n",
    "    series = series.str.replace(r'[^\\w\\s]+', '', regex=True)\n",
    "\n",
    "\n",
    "    series = series.apply(lambda x: unidecode.unidecode(x))\n",
    "\n",
    "    series = series.str.replace(' QUEBEC ', '')\n",
    "    series = series.str.replace('CANADA', '')\n",
    "    series = series.str.replace(' MONTREAL ', '')\n",
    "    series = series.str.replace('MONTREAL ', '')\n",
    "    series = series.str.replace(' MONTREAL', '')\n",
    "    series = series.str.replace(' INC', '')\n",
    "    series = series.str.replace(' INC ', '')\n",
    "    series = series.str.replace(' CIE ', '')\n",
    "    series = series.str.replace(' CIE', '')\n",
    "    series = series.str.replace(' LTEE', '')\n",
    "    series = series.str.replace('CORPORATION', '')\n",
    "    series = series.str.replace('INTERNATIONAL', '')\n",
    "    return series"
   ]
  },
  {
   "cell_type": "code",
   "execution_count": 5,
   "id": "36a4eec4",
   "metadata": {},
   "outputs": [],
   "source": [
    "df_donors = pd.read_csv('../Data/past_donors_clean.csv', parse_dates=[1])\n",
    "df_orgs = pd.read_excel('../Data/Organizations_stg.xlsx')\n",
    "\n",
    "df_donors=clean_col_names(df_donors)\n",
    "df_orgs=clean_col_names(df_orgs)\n",
    "\n",
    "# now we read the matches after reviews them and this will become our key to match both sources\n",
    "df_matches = pd.read_excel('../Data/matched_orgs_k4kreview.xlsx')\n",
    "\n",
    "df_donors.COMPANY = stdr_names(df_donors.COMPANY)\n",
    "df_orgs.NAME = stdr_names(df_orgs.NAME)"
   ]
  },
  {
   "cell_type": "code",
   "execution_count": 6,
   "id": "ac3a1204",
   "metadata": {},
   "outputs": [],
   "source": [
    "df_orgs = df_orgs.drop(columns = ['ISFOUNDATION'])\n",
    "\n",
    "df_fonds = pd.read_excel('../Data/Foundations_stg.xlsx')\n",
    "df_fonds = clean_col_names(df_fonds)\n",
    "df_fonds['ISFOUNDATION'] = 1\n",
    "\n",
    "df_orgs = df_orgs.merge(df_fonds[['ID', 'ISFOUNDATION']], how='left', on='ID')\n",
    "df_orgs.ISFOUNDATION.fillna(0, inplace=True)\n",
    "\n",
    "## add foundations dataset attributes"
   ]
  },
  {
   "cell_type": "code",
   "execution_count": 7,
   "id": "8ec781c0",
   "metadata": {},
   "outputs": [
    {
     "data": {
      "text/plain": [
       "Index(['ID', '2E_CONTACT_POUR', 'ADDRESS', 'AVIS', 'CONTACT', 'CONTRIBUTION',\n",
       "       'COURRIEL', 'DDD', 'DOMAINE_DINTERET', 'FAF', 'FAX', 'FILIALE_DE',\n",
       "       'LANGUE', 'LIMITES_GEOG', 'N_DE_TEL', 'NAME', 'NBRE_DE_SUCC',\n",
       "       'NOMBRE_DEMPLOYES', 'NOTE', 'POSTE', 'PRINCIP_FILIALES',\n",
       "       'SECTEUR_INDUSTRIEL', 'SITE_WEB', 'MUNICIPALITY', 'PROVINCE',\n",
       "       'POSTALCODE', 'STREET', 'SECTOR_FABRICATION', 'SECTOR_FINANCIERS',\n",
       "       'SECTOR_COMMERCE', 'SECTOR_CONSTRUCTION', 'SECTOR_TRANSPORT',\n",
       "       'SECTOR_GESTION', 'SECTOR_SYSTEMS', 'SECTOR_ALIMENTATION',\n",
       "       'SECTOR_SANTE_ASSURANCE', 'SECTOR_OTHER', 'GENERAL_CHARITY',\n",
       "       'HEALTH_ARTS_CULTURE', 'COMMUNITY_ENVIRONMENTAL',\n",
       "       'YOUTH_HEALTH_EDUCATION', 'REGIONAL_SPECIFIC',\n",
       "       'CANCER_DISEASE_RESEARCH', 'INTEREST_DOMAIN_CLEAN', 'MAIN_TOPIC',\n",
       "       'MAIN_TOPIC_SCORE', 'SECONDARY_TOPIC', 'SECONDARY_TOPIC_SCR',\n",
       "       'ISFOUNDATION'],\n",
       "      dtype='object')"
      ]
     },
     "execution_count": 7,
     "metadata": {},
     "output_type": "execute_result"
    }
   ],
   "source": [
    "df_orgs.columns"
   ]
  },
  {
   "cell_type": "code",
   "execution_count": 8,
   "id": "6741c1c8",
   "metadata": {},
   "outputs": [],
   "source": [
    "df_matches = df_matches[df_matches.Match == 1] # keeping only matches\n",
    "df_matches = df_matches.iloc[:, 0:2]\n",
    "df_matches.columns = ['ORGANIZATION', 'DONOR']"
   ]
  },
  {
   "cell_type": "code",
   "execution_count": 9,
   "id": "833f0ca5",
   "metadata": {},
   "outputs": [],
   "source": [
    "# some past donors have been matched with more than 1 different company in the PDF source, so we need to select and keep only one so the analysis is consistent.\n",
    "donor_q = df_matches.DONOR.value_counts()\n",
    "organization_q = df_matches.ORGANIZATION.value_counts()\n",
    "df1 = df_matches[df_matches.DONOR.isin(donor_q[donor_q > 1].index)].sort_values('DONOR').reset_index(drop=True)"
   ]
  },
  {
   "cell_type": "code",
   "execution_count": 10,
   "id": "fcd224b1",
   "metadata": {},
   "outputs": [],
   "source": [
    "ixs = [1, 2,5,6,10,11,15,16,18, 21,22] \n",
    "df1 = df1.iloc[ixs,:].reset_index(drop=True)"
   ]
  },
  {
   "cell_type": "code",
   "execution_count": 11,
   "id": "92bd78ef",
   "metadata": {},
   "outputs": [],
   "source": [
    "# now we concatenate the matches into a single df\n",
    "df_matches = pd.concat([ df_matches[df_matches.DONOR.isin(donor_q[donor_q <= 1].index)].sort_values('DONOR').reset_index(drop=True),\n",
    "            df1 ] )"
   ]
  },
  {
   "cell_type": "code",
   "execution_count": 12,
   "id": "958c89e4",
   "metadata": {},
   "outputs": [],
   "source": [
    "df_donors_match = df_donors.merge(df_matches, how = 'inner', left_on = 'COMPANY', right_on = 'DONOR')\n"
   ]
  },
  {
   "cell_type": "code",
   "execution_count": 13,
   "id": "178ca2cb",
   "metadata": {},
   "outputs": [],
   "source": [
    "df_donors_match = df_donors_match[['ORGANIZATION']].drop_duplicates()\n"
   ]
  },
  {
   "cell_type": "code",
   "execution_count": 14,
   "id": "bc35d485",
   "metadata": {},
   "outputs": [],
   "source": [
    "df_donors_match2 = df_donors_match.merge(df_orgs, how = 'right', left_on = 'ORGANIZATION', right_on = 'NAME')\n"
   ]
  },
  {
   "cell_type": "code",
   "execution_count": 15,
   "id": "9af3dbd2",
   "metadata": {},
   "outputs": [],
   "source": [
    "df = df_donors_match2.drop_duplicates().reset_index(drop=True)\n"
   ]
  },
  {
   "cell_type": "code",
   "execution_count": 16,
   "id": "405b436d",
   "metadata": {},
   "outputs": [],
   "source": [
    "df['FLG_PAST_DONOR'] = df.ORGANIZATION.notna().astype(int)\n"
   ]
  },
  {
   "cell_type": "code",
   "execution_count": 17,
   "id": "026f04f7",
   "metadata": {},
   "outputs": [],
   "source": [
    "df = df[ ['NAME',\n",
    "'FLG_PAST_DONOR',\n",
    "       'FILIALE_DE', \n",
    "       'ISFOUNDATION', \n",
    "        'LIMITES_GEOG',\n",
    "         'NOMBRE_DEMPLOYES',\n",
    "       'PRINCIP_FILIALES', \n",
    "       'SECTOR_FABRICATION', 'SECTOR_FINANCIERS', 'SECTOR_COMMERCE',\n",
    "       'SECTOR_CONSTRUCTION', 'SECTOR_TRANSPORT', 'SECTOR_GESTION',\n",
    "       'SECTOR_SYSTEMS', 'SECTOR_ALIMENTATION', 'SECTOR_SANTE_ASSURANCE',\n",
    "       'SECTOR_OTHER', 'GENERAL_CHARITY',\n",
    "       'HEALTH_ARTS_CULTURE', 'COMMUNITY_ENVIRONMENTAL',\n",
    "       'YOUTH_HEALTH_EDUCATION', 'REGIONAL_SPECIFIC',\n",
    "       'CANCER_DISEASE_RESEARCH'         \n",
    "         ]]"
   ]
  },
  {
   "cell_type": "code",
   "execution_count": 18,
   "id": "8c8a28d2",
   "metadata": {},
   "outputs": [],
   "source": [
    "df['FILIALE_FLG'] = df.FILIALE_DE.isna().astype(int)\n"
   ]
  },
  {
   "cell_type": "code",
   "execution_count": 19,
   "id": "c63915c6",
   "metadata": {},
   "outputs": [],
   "source": [
    "df.LIMITES_GEOG = df.LIMITES_GEOG.str.strip('.').astype(str)\n",
    "\n",
    "mapper = { 'locales, régionales et nationales' :'regional and national',\n",
    "'locales' : 'locals',\n",
    "'nationales' : 'nationals',\n",
    "'régionales' :'regionals',\n",
    "'nationales, régionales au Québec' : 'regional and national',\n",
    "'régionales et nationales' : 'regional and national',\n",
    "'locales, régionales':'local and regional',\n",
    "'locales et régionales':'local and regional',\n",
    "'locales, nationales et internationales':'international',\n",
    "'nan':'nan',\n",
    "'nationales et internationales':'international'}\n",
    "\n",
    "df.LIMITES_GEOG = df.LIMITES_GEOG.map(mapper)"
   ]
  },
  {
   "cell_type": "code",
   "execution_count": 20,
   "id": "ea1ea94d",
   "metadata": {},
   "outputs": [],
   "source": [
    "df['FILIALE_FLG2'] = df.PRINCIP_FILIALES.isna().astype(int)\n"
   ]
  },
  {
   "cell_type": "code",
   "execution_count": 21,
   "id": "b1f12170",
   "metadata": {},
   "outputs": [],
   "source": [
    "df.NOMBRE_DEMPLOYES = df.NOMBRE_DEMPLOYES.astype(str).str.replace(' ','').astype(float)\n"
   ]
  },
  {
   "cell_type": "code",
   "execution_count": 22,
   "id": "a98131fd",
   "metadata": {},
   "outputs": [],
   "source": [
    "df = df.drop(columns = ['PRINCIP_FILIALES', 'FILIALE_DE' ])\n"
   ]
  },
  {
   "cell_type": "code",
   "execution_count": 23,
   "id": "62e20e43",
   "metadata": {},
   "outputs": [],
   "source": [
    "cols_to_encode = ['LIMITES_GEOG']\n",
    "dummies = pd.get_dummies(df[cols_to_encode])\n",
    "\n",
    "df = pd.concat( [df, dummies], axis = 1).drop(columns = cols_to_encode)"
   ]
  },
  {
   "cell_type": "code",
   "execution_count": 24,
   "id": "55da35f1",
   "metadata": {},
   "outputs": [],
   "source": [
    "from sklearn.preprocessing import StandardScaler\n",
    "\n",
    "df.NOMBRE_DEMPLOYES.fillna(0, inplace=True)\n",
    "\n",
    "scaler = StandardScaler()\n",
    "df.NOMBRE_DEMPLOYES = scaler.fit_transform(df[['NOMBRE_DEMPLOYES']])"
   ]
  },
  {
   "cell_type": "code",
   "execution_count": 25,
   "id": "fcb2e85c",
   "metadata": {},
   "outputs": [
    {
     "data": {
      "text/html": [
       "<div>\n",
       "<style scoped>\n",
       "    .dataframe tbody tr th:only-of-type {\n",
       "        vertical-align: middle;\n",
       "    }\n",
       "\n",
       "    .dataframe tbody tr th {\n",
       "        vertical-align: top;\n",
       "    }\n",
       "\n",
       "    .dataframe thead th {\n",
       "        text-align: right;\n",
       "    }\n",
       "</style>\n",
       "<table border=\"1\" class=\"dataframe\">\n",
       "  <thead>\n",
       "    <tr style=\"text-align: right;\">\n",
       "      <th></th>\n",
       "      <th>0</th>\n",
       "      <th>1</th>\n",
       "      <th>2</th>\n",
       "      <th>3</th>\n",
       "      <th>4</th>\n",
       "    </tr>\n",
       "  </thead>\n",
       "  <tbody>\n",
       "    <tr>\n",
       "      <th>NAME</th>\n",
       "      <td>3M</td>\n",
       "      <td>A  D PREVOST</td>\n",
       "      <td>AAR AICRAFT  SERVICES TROISRIVIERES</td>\n",
       "      <td>ABB ALBERT BOB BOB</td>\n",
       "      <td>ABB</td>\n",
       "    </tr>\n",
       "    <tr>\n",
       "      <th>FLG_PAST_DONOR</th>\n",
       "      <td>0</td>\n",
       "      <td>0</td>\n",
       "      <td>0</td>\n",
       "      <td>0</td>\n",
       "      <td>0</td>\n",
       "    </tr>\n",
       "    <tr>\n",
       "      <th>ISFOUNDATION</th>\n",
       "      <td>0.0</td>\n",
       "      <td>0.0</td>\n",
       "      <td>0.0</td>\n",
       "      <td>0.0</td>\n",
       "      <td>0.0</td>\n",
       "    </tr>\n",
       "    <tr>\n",
       "      <th>NOMBRE_DEMPLOYES</th>\n",
       "      <td>-0.224658</td>\n",
       "      <td>-0.193808</td>\n",
       "      <td>-0.150618</td>\n",
       "      <td>-0.206148</td>\n",
       "      <td>0.176397</td>\n",
       "    </tr>\n",
       "    <tr>\n",
       "      <th>SECTOR_FABRICATION</th>\n",
       "      <td>1</td>\n",
       "      <td>1</td>\n",
       "      <td>0</td>\n",
       "      <td>1</td>\n",
       "      <td>1</td>\n",
       "    </tr>\n",
       "    <tr>\n",
       "      <th>SECTOR_FINANCIERS</th>\n",
       "      <td>0</td>\n",
       "      <td>0</td>\n",
       "      <td>0</td>\n",
       "      <td>0</td>\n",
       "      <td>0</td>\n",
       "    </tr>\n",
       "    <tr>\n",
       "      <th>SECTOR_COMMERCE</th>\n",
       "      <td>0</td>\n",
       "      <td>0</td>\n",
       "      <td>0</td>\n",
       "      <td>0</td>\n",
       "      <td>1</td>\n",
       "    </tr>\n",
       "    <tr>\n",
       "      <th>SECTOR_CONSTRUCTION</th>\n",
       "      <td>0</td>\n",
       "      <td>1</td>\n",
       "      <td>1</td>\n",
       "      <td>0</td>\n",
       "      <td>0</td>\n",
       "    </tr>\n",
       "    <tr>\n",
       "      <th>SECTOR_TRANSPORT</th>\n",
       "      <td>0</td>\n",
       "      <td>0</td>\n",
       "      <td>0</td>\n",
       "      <td>0</td>\n",
       "      <td>1</td>\n",
       "    </tr>\n",
       "    <tr>\n",
       "      <th>SECTOR_GESTION</th>\n",
       "      <td>0</td>\n",
       "      <td>0</td>\n",
       "      <td>0</td>\n",
       "      <td>0</td>\n",
       "      <td>0</td>\n",
       "    </tr>\n",
       "    <tr>\n",
       "      <th>SECTOR_SYSTEMS</th>\n",
       "      <td>0</td>\n",
       "      <td>0</td>\n",
       "      <td>0</td>\n",
       "      <td>0</td>\n",
       "      <td>0</td>\n",
       "    </tr>\n",
       "    <tr>\n",
       "      <th>SECTOR_ALIMENTATION</th>\n",
       "      <td>0</td>\n",
       "      <td>0</td>\n",
       "      <td>0</td>\n",
       "      <td>0</td>\n",
       "      <td>0</td>\n",
       "    </tr>\n",
       "    <tr>\n",
       "      <th>SECTOR_SANTE_ASSURANCE</th>\n",
       "      <td>1</td>\n",
       "      <td>0</td>\n",
       "      <td>0</td>\n",
       "      <td>0</td>\n",
       "      <td>0</td>\n",
       "    </tr>\n",
       "    <tr>\n",
       "      <th>SECTOR_OTHER</th>\n",
       "      <td>0</td>\n",
       "      <td>0</td>\n",
       "      <td>0</td>\n",
       "      <td>0</td>\n",
       "      <td>0</td>\n",
       "    </tr>\n",
       "    <tr>\n",
       "      <th>GENERAL_CHARITY</th>\n",
       "      <td>0.02</td>\n",
       "      <td>0.03</td>\n",
       "      <td>0.03</td>\n",
       "      <td>0.04</td>\n",
       "      <td>0.01</td>\n",
       "    </tr>\n",
       "    <tr>\n",
       "      <th>HEALTH_ARTS_CULTURE</th>\n",
       "      <td>0.7</td>\n",
       "      <td>0.19</td>\n",
       "      <td>0.83</td>\n",
       "      <td>0.04</td>\n",
       "      <td>0.8</td>\n",
       "    </tr>\n",
       "    <tr>\n",
       "      <th>COMMUNITY_ENVIRONMENTAL</th>\n",
       "      <td>0.02</td>\n",
       "      <td>0.03</td>\n",
       "      <td>0.03</td>\n",
       "      <td>0.54</td>\n",
       "      <td>0.01</td>\n",
       "    </tr>\n",
       "    <tr>\n",
       "      <th>YOUTH_HEALTH_EDUCATION</th>\n",
       "      <td>0.02</td>\n",
       "      <td>0.03</td>\n",
       "      <td>0.03</td>\n",
       "      <td>0.04</td>\n",
       "      <td>0.14</td>\n",
       "    </tr>\n",
       "    <tr>\n",
       "      <th>REGIONAL_SPECIFIC</th>\n",
       "      <td>0.21</td>\n",
       "      <td>0.03</td>\n",
       "      <td>0.03</td>\n",
       "      <td>0.29</td>\n",
       "      <td>0.01</td>\n",
       "    </tr>\n",
       "    <tr>\n",
       "      <th>CANCER_DISEASE_RESEARCH</th>\n",
       "      <td>0.02</td>\n",
       "      <td>0.69</td>\n",
       "      <td>0.03</td>\n",
       "      <td>0.04</td>\n",
       "      <td>0.01</td>\n",
       "    </tr>\n",
       "    <tr>\n",
       "      <th>FILIALE_FLG</th>\n",
       "      <td>1</td>\n",
       "      <td>1</td>\n",
       "      <td>1</td>\n",
       "      <td>0</td>\n",
       "      <td>0</td>\n",
       "    </tr>\n",
       "    <tr>\n",
       "      <th>FILIALE_FLG2</th>\n",
       "      <td>1</td>\n",
       "      <td>1</td>\n",
       "      <td>1</td>\n",
       "      <td>1</td>\n",
       "      <td>1</td>\n",
       "    </tr>\n",
       "    <tr>\n",
       "      <th>LIMITES_GEOG_international</th>\n",
       "      <td>0</td>\n",
       "      <td>0</td>\n",
       "      <td>0</td>\n",
       "      <td>0</td>\n",
       "      <td>0</td>\n",
       "    </tr>\n",
       "    <tr>\n",
       "      <th>LIMITES_GEOG_local and regional</th>\n",
       "      <td>0</td>\n",
       "      <td>0</td>\n",
       "      <td>0</td>\n",
       "      <td>0</td>\n",
       "      <td>0</td>\n",
       "    </tr>\n",
       "    <tr>\n",
       "      <th>LIMITES_GEOG_locals</th>\n",
       "      <td>0</td>\n",
       "      <td>1</td>\n",
       "      <td>0</td>\n",
       "      <td>1</td>\n",
       "      <td>0</td>\n",
       "    </tr>\n",
       "    <tr>\n",
       "      <th>LIMITES_GEOG_nan</th>\n",
       "      <td>0</td>\n",
       "      <td>0</td>\n",
       "      <td>0</td>\n",
       "      <td>0</td>\n",
       "      <td>0</td>\n",
       "    </tr>\n",
       "    <tr>\n",
       "      <th>LIMITES_GEOG_nationals</th>\n",
       "      <td>0</td>\n",
       "      <td>0</td>\n",
       "      <td>1</td>\n",
       "      <td>0</td>\n",
       "      <td>0</td>\n",
       "    </tr>\n",
       "    <tr>\n",
       "      <th>LIMITES_GEOG_regional and national</th>\n",
       "      <td>0</td>\n",
       "      <td>0</td>\n",
       "      <td>0</td>\n",
       "      <td>0</td>\n",
       "      <td>0</td>\n",
       "    </tr>\n",
       "    <tr>\n",
       "      <th>LIMITES_GEOG_regionals</th>\n",
       "      <td>1</td>\n",
       "      <td>0</td>\n",
       "      <td>0</td>\n",
       "      <td>0</td>\n",
       "      <td>1</td>\n",
       "    </tr>\n",
       "  </tbody>\n",
       "</table>\n",
       "</div>"
      ],
      "text/plain": [
       "                                           0             1  \\\n",
       "NAME                                     3M   A  D PREVOST   \n",
       "FLG_PAST_DONOR                             0             0   \n",
       "ISFOUNDATION                             0.0           0.0   \n",
       "NOMBRE_DEMPLOYES                   -0.224658     -0.193808   \n",
       "SECTOR_FABRICATION                         1             1   \n",
       "SECTOR_FINANCIERS                          0             0   \n",
       "SECTOR_COMMERCE                            0             0   \n",
       "SECTOR_CONSTRUCTION                        0             1   \n",
       "SECTOR_TRANSPORT                           0             0   \n",
       "SECTOR_GESTION                             0             0   \n",
       "SECTOR_SYSTEMS                             0             0   \n",
       "SECTOR_ALIMENTATION                        0             0   \n",
       "SECTOR_SANTE_ASSURANCE                     1             0   \n",
       "SECTOR_OTHER                               0             0   \n",
       "GENERAL_CHARITY                         0.02          0.03   \n",
       "HEALTH_ARTS_CULTURE                      0.7          0.19   \n",
       "COMMUNITY_ENVIRONMENTAL                 0.02          0.03   \n",
       "YOUTH_HEALTH_EDUCATION                  0.02          0.03   \n",
       "REGIONAL_SPECIFIC                       0.21          0.03   \n",
       "CANCER_DISEASE_RESEARCH                 0.02          0.69   \n",
       "FILIALE_FLG                                1             1   \n",
       "FILIALE_FLG2                               1             1   \n",
       "LIMITES_GEOG_international                 0             0   \n",
       "LIMITES_GEOG_local and regional            0             0   \n",
       "LIMITES_GEOG_locals                        0             1   \n",
       "LIMITES_GEOG_nan                           0             0   \n",
       "LIMITES_GEOG_nationals                     0             0   \n",
       "LIMITES_GEOG_regional and national         0             0   \n",
       "LIMITES_GEOG_regionals                     1             0   \n",
       "\n",
       "                                                                      2  \\\n",
       "NAME                                AAR AICRAFT  SERVICES TROISRIVIERES   \n",
       "FLG_PAST_DONOR                                                        0   \n",
       "ISFOUNDATION                                                        0.0   \n",
       "NOMBRE_DEMPLOYES                                              -0.150618   \n",
       "SECTOR_FABRICATION                                                    0   \n",
       "SECTOR_FINANCIERS                                                     0   \n",
       "SECTOR_COMMERCE                                                       0   \n",
       "SECTOR_CONSTRUCTION                                                   1   \n",
       "SECTOR_TRANSPORT                                                      0   \n",
       "SECTOR_GESTION                                                        0   \n",
       "SECTOR_SYSTEMS                                                        0   \n",
       "SECTOR_ALIMENTATION                                                   0   \n",
       "SECTOR_SANTE_ASSURANCE                                                0   \n",
       "SECTOR_OTHER                                                          0   \n",
       "GENERAL_CHARITY                                                    0.03   \n",
       "HEALTH_ARTS_CULTURE                                                0.83   \n",
       "COMMUNITY_ENVIRONMENTAL                                            0.03   \n",
       "YOUTH_HEALTH_EDUCATION                                             0.03   \n",
       "REGIONAL_SPECIFIC                                                  0.03   \n",
       "CANCER_DISEASE_RESEARCH                                            0.03   \n",
       "FILIALE_FLG                                                           1   \n",
       "FILIALE_FLG2                                                          1   \n",
       "LIMITES_GEOG_international                                            0   \n",
       "LIMITES_GEOG_local and regional                                       0   \n",
       "LIMITES_GEOG_locals                                                   0   \n",
       "LIMITES_GEOG_nan                                                      0   \n",
       "LIMITES_GEOG_nationals                                                1   \n",
       "LIMITES_GEOG_regional and national                                    0   \n",
       "LIMITES_GEOG_regionals                                                0   \n",
       "\n",
       "                                                     3         4  \n",
       "NAME                                ABB ALBERT BOB BOB      ABB   \n",
       "FLG_PAST_DONOR                                       0         0  \n",
       "ISFOUNDATION                                       0.0       0.0  \n",
       "NOMBRE_DEMPLOYES                             -0.206148  0.176397  \n",
       "SECTOR_FABRICATION                                   1         1  \n",
       "SECTOR_FINANCIERS                                    0         0  \n",
       "SECTOR_COMMERCE                                      0         1  \n",
       "SECTOR_CONSTRUCTION                                  0         0  \n",
       "SECTOR_TRANSPORT                                     0         1  \n",
       "SECTOR_GESTION                                       0         0  \n",
       "SECTOR_SYSTEMS                                       0         0  \n",
       "SECTOR_ALIMENTATION                                  0         0  \n",
       "SECTOR_SANTE_ASSURANCE                               0         0  \n",
       "SECTOR_OTHER                                         0         0  \n",
       "GENERAL_CHARITY                                   0.04      0.01  \n",
       "HEALTH_ARTS_CULTURE                               0.04       0.8  \n",
       "COMMUNITY_ENVIRONMENTAL                           0.54      0.01  \n",
       "YOUTH_HEALTH_EDUCATION                            0.04      0.14  \n",
       "REGIONAL_SPECIFIC                                 0.29      0.01  \n",
       "CANCER_DISEASE_RESEARCH                           0.04      0.01  \n",
       "FILIALE_FLG                                          0         0  \n",
       "FILIALE_FLG2                                         1         1  \n",
       "LIMITES_GEOG_international                           0         0  \n",
       "LIMITES_GEOG_local and regional                      0         0  \n",
       "LIMITES_GEOG_locals                                  1         0  \n",
       "LIMITES_GEOG_nan                                     0         0  \n",
       "LIMITES_GEOG_nationals                               0         0  \n",
       "LIMITES_GEOG_regional and national                   0         0  \n",
       "LIMITES_GEOG_regionals                               0         1  "
      ]
     },
     "execution_count": 25,
     "metadata": {},
     "output_type": "execute_result"
    }
   ],
   "source": [
    "df.head().T\n"
   ]
  },
  {
   "cell_type": "code",
   "execution_count": 26,
   "id": "68c8ade6",
   "metadata": {},
   "outputs": [
    {
     "data": {
      "text/plain": [
       "55"
      ]
     },
     "execution_count": 26,
     "metadata": {},
     "output_type": "execute_result"
    }
   ],
   "source": [
    "(df.FLG_PAST_DONOR == 1).sum()"
   ]
  },
  {
   "cell_type": "markdown",
   "id": "ac05fd68",
   "metadata": {},
   "source": [
    "# Classification with Synethic Data"
   ]
  },
  {
   "cell_type": "markdown",
   "id": "15177149",
   "metadata": {},
   "source": [
    "## Basic Modeling"
   ]
  },
  {
   "cell_type": "code",
   "execution_count": 61,
   "id": "0aa57ca8",
   "metadata": {},
   "outputs": [],
   "source": [
    "def randomSample0(df, proportion):\n",
    "    \"\"\"\n",
    "    Randomly samples 0s according to input proportion\n",
    "    \"\"\"\n",
    "    # proportion = num of 1 / num of 0\n",
    "    # so num of 0 = num of 1 / proportion\n",
    "    n_sample = int((df.FLG_PAST_DONOR == 1).sum() / proportion)\n",
    "    df_merged = pd.concat([df[df.FLG_PAST_DONOR == 1], df[df.FLG_PAST_DONOR == 0].sample(n_sample)])\n",
    "    return df_merged"
   ]
  },
  {
   "cell_type": "code",
   "execution_count": 153,
   "id": "78d029a8",
   "metadata": {},
   "outputs": [],
   "source": [
    "df_model = randomSample0(df, 0.08)"
   ]
  },
  {
   "cell_type": "code",
   "execution_count": 154,
   "id": "7fca47a1",
   "metadata": {},
   "outputs": [
    {
     "data": {
      "text/plain": [
       "0    687\n",
       "1     55\n",
       "Name: FLG_PAST_DONOR, dtype: int64"
      ]
     },
     "execution_count": 154,
     "metadata": {},
     "output_type": "execute_result"
    }
   ],
   "source": [
    "df_model.FLG_PAST_DONOR.value_counts()"
   ]
  },
  {
   "cell_type": "code",
   "execution_count": 106,
   "id": "4eb21edc",
   "metadata": {},
   "outputs": [],
   "source": [
    "from sklearn.linear_model import LogisticRegression\n",
    "from sklearn.model_selection import train_test_split\n",
    "from sklearn.metrics import accuracy_score\n",
    "from sklearn.metrics import classification_report\n",
    "from sklearn.metrics import confusion_matrix"
   ]
  },
  {
   "cell_type": "code",
   "execution_count": 107,
   "id": "bd6a8fb2",
   "metadata": {},
   "outputs": [],
   "source": [
    "y = df_model.FLG_PAST_DONOR\n",
    "X = df_model.drop(['FLG_PAST_DONOR', 'NAME'], axis= 1)\n",
    "X_train, X_test, y_train, y_test = train_test_split(X, y, test_size = 0.2)"
   ]
  },
  {
   "cell_type": "code",
   "execution_count": 108,
   "id": "5b089cdb",
   "metadata": {},
   "outputs": [],
   "source": [
    "base_log_reg = LogisticRegression(random_state = 0, class_weight='balanced').fit(X_train, y_train)\n",
    "preds = base_log_reg.predict(X_test)"
   ]
  },
  {
   "cell_type": "code",
   "execution_count": 109,
   "id": "02cca186",
   "metadata": {},
   "outputs": [],
   "source": [
    "base_report = classification_report(y_test, preds)"
   ]
  },
  {
   "cell_type": "code",
   "execution_count": 110,
   "id": "a86459d7",
   "metadata": {},
   "outputs": [
    {
     "name": "stdout",
     "output_type": "stream",
     "text": [
      "              precision    recall  f1-score   support\n",
      "\n",
      "           0       0.90      0.66      0.76       138\n",
      "           1       0.02      0.09      0.03        11\n",
      "\n",
      "    accuracy                           0.62       149\n",
      "   macro avg       0.46      0.38      0.40       149\n",
      "weighted avg       0.84      0.62      0.71       149\n",
      "\n",
      "0.6174496644295302\n"
     ]
    }
   ],
   "source": [
    "print(base_report)\n",
    "print(accuracy_score(y_test, preds))"
   ]
  },
  {
   "cell_type": "code",
   "execution_count": 111,
   "id": "ab689046",
   "metadata": {},
   "outputs": [
    {
     "name": "stdout",
     "output_type": "stream",
     "text": [
      "ISFOUNDATION : 1.381450342213512\n",
      "NOMBRE_DEMPLOYES : 0.12164854274298285\n",
      "SECTOR_FABRICATION : -1.6131420586441103\n",
      "SECTOR_FINANCIERS : 0.5526355793849108\n",
      "SECTOR_COMMERCE : 0.11776478868927087\n",
      "SECTOR_CONSTRUCTION : 0.575857240839764\n",
      "SECTOR_TRANSPORT : 0.7800034710575972\n",
      "SECTOR_GESTION : -0.5758960683822016\n",
      "SECTOR_SYSTEMS : -0.24417281278985054\n",
      "SECTOR_ALIMENTATION : 0.31055028090453657\n",
      "SECTOR_SANTE_ASSURANCE : -0.6561526100366918\n",
      "SECTOR_OTHER : 0.469833731581597\n",
      "GENERAL_CHARITY : -0.732948953614824\n",
      "HEALTH_ARTS_CULTURE : -0.13122398851222955\n",
      "COMMUNITY_ENVIRONMENTAL : 0.06661395482684643\n",
      "YOUTH_HEALTH_EDUCATION : 1.0561795446046778\n",
      "REGIONAL_SPECIFIC : -0.4582545988036256\n",
      "CANCER_DISEASE_RESEARCH : -0.36124955179349477\n",
      "FILIALE_FLG : 0.4251067985342568\n",
      "FILIALE_FLG2 : -0.6063476810744063\n",
      "LIMITES_GEOG_international : 1.0642916299647243\n",
      "LIMITES_GEOG_local and regional : -0.41365823835451426\n",
      "LIMITES_GEOG_locals : -0.49818607770474693\n",
      "LIMITES_GEOG_nan : 0.6217421611649552\n",
      "LIMITES_GEOG_nationals : 0.9894152615976834\n",
      "LIMITES_GEOG_regional and national : 1.4583951194654303\n",
      "LIMITES_GEOG_regionals : -0.1761239182972939\n"
     ]
    }
   ],
   "source": [
    "for i, col_name in enumerate(X_train.columns):\n",
    "    print(f\"{col_name} : {base_log_reg.coef_[0][i]}\")"
   ]
  },
  {
   "cell_type": "code",
   "execution_count": 112,
   "id": "77ed7374",
   "metadata": {},
   "outputs": [
    {
     "data": {
      "text/html": [
       "<div>\n",
       "<style scoped>\n",
       "    .dataframe tbody tr th:only-of-type {\n",
       "        vertical-align: middle;\n",
       "    }\n",
       "\n",
       "    .dataframe tbody tr th {\n",
       "        vertical-align: top;\n",
       "    }\n",
       "\n",
       "    .dataframe thead th {\n",
       "        text-align: right;\n",
       "    }\n",
       "</style>\n",
       "<table border=\"1\" class=\"dataframe\">\n",
       "  <thead>\n",
       "    <tr style=\"text-align: right;\">\n",
       "      <th>ISFOUNDATION</th>\n",
       "      <th>0.0</th>\n",
       "      <th>1.0</th>\n",
       "    </tr>\n",
       "    <tr>\n",
       "      <th>FLG_PAST_DONOR</th>\n",
       "      <th></th>\n",
       "      <th></th>\n",
       "    </tr>\n",
       "  </thead>\n",
       "  <tbody>\n",
       "    <tr>\n",
       "      <th>0</th>\n",
       "      <td>0.877358</td>\n",
       "      <td>0.048518</td>\n",
       "    </tr>\n",
       "    <tr>\n",
       "      <th>1</th>\n",
       "      <td>0.057951</td>\n",
       "      <td>0.016173</td>\n",
       "    </tr>\n",
       "  </tbody>\n",
       "</table>\n",
       "</div>"
      ],
      "text/plain": [
       "ISFOUNDATION         0.0       1.0\n",
       "FLG_PAST_DONOR                    \n",
       "0               0.877358  0.048518\n",
       "1               0.057951  0.016173"
      ]
     },
     "execution_count": 112,
     "metadata": {},
     "output_type": "execute_result"
    }
   ],
   "source": [
    "df_model.groupby(['FLG_PAST_DONOR', 'ISFOUNDATION']).size().unstack(fill_value=0) / len(df_model)\n"
   ]
  },
  {
   "cell_type": "code",
   "execution_count": 113,
   "id": "2dc4f072",
   "metadata": {},
   "outputs": [
    {
     "data": {
      "text/plain": [
       "array([[91, 47],\n",
       "       [10,  1]], dtype=int64)"
      ]
     },
     "execution_count": 113,
     "metadata": {},
     "output_type": "execute_result"
    }
   ],
   "source": [
    "confusion_matrix(y_test, preds)"
   ]
  },
  {
   "cell_type": "code",
   "execution_count": 114,
   "id": "4790a3eb",
   "metadata": {},
   "outputs": [
    {
     "data": {
      "text/plain": [
       "array([0, 0, 0, 0, 1, 1, 0, 1, 0, 0, 0, 0, 1, 0, 1, 0, 0, 0, 0, 1, 1, 0,\n",
       "       0, 0, 0, 1, 0, 0, 0, 0, 0, 0, 0, 0, 0, 1, 0, 1, 0, 0, 0, 0, 1, 0,\n",
       "       1, 0, 0, 0, 1, 0, 0, 1, 1, 0, 1, 0, 0, 1, 0, 1, 0, 0, 0, 1, 1, 0,\n",
       "       0, 0, 0, 0, 0, 1, 0, 0, 0, 1, 0, 0, 0, 0, 1, 1, 0, 1, 1, 0, 0, 1,\n",
       "       0, 1, 0, 1, 1, 0, 0, 0, 0, 0, 0, 0, 0, 1, 0, 0, 0, 1, 0, 1, 0, 0,\n",
       "       0, 1, 1, 1, 1, 1, 0, 0, 0, 0, 0, 0, 0, 0, 1, 0, 1, 1, 0, 1, 1, 1,\n",
       "       0, 1, 0, 0, 1, 0, 0, 0, 0, 0, 0, 0, 0, 0, 0, 1, 1])"
      ]
     },
     "execution_count": 114,
     "metadata": {},
     "output_type": "execute_result"
    }
   ],
   "source": [
    "preds"
   ]
  },
  {
   "cell_type": "markdown",
   "id": "05cd3544",
   "metadata": {},
   "source": [
    "### CV"
   ]
  },
  {
   "cell_type": "code",
   "execution_count": 155,
   "id": "01065951",
   "metadata": {},
   "outputs": [],
   "source": [
    "from sklearn.model_selection import cross_validate\n",
    "from sklearn import metrics"
   ]
  },
  {
   "cell_type": "code",
   "execution_count": 156,
   "id": "12f74881",
   "metadata": {},
   "outputs": [],
   "source": [
    "cv_log_reg_model = LogisticRegression(random_state = 0, class_weight = 'balanced')"
   ]
  },
  {
   "cell_type": "code",
   "execution_count": 158,
   "id": "8b7b4b6d",
   "metadata": {},
   "outputs": [],
   "source": [
    "cv_log_reg_scores = cross_validate(cv_log_reg_model, X, y, cv=5, scoring=('accuracy','recall','precision','f1'))"
   ]
  },
  {
   "cell_type": "code",
   "execution_count": 170,
   "id": "3f5d1206",
   "metadata": {},
   "outputs": [
    {
     "name": "stdout",
     "output_type": "stream",
     "text": [
      "0.6780246689642663 accuracy, standard dev of 0.04340193413149914\n",
      "0.4909090909090909 recall, standard dev of 0.17814470856604933\n",
      "0.1146929055195233 precision, standard dev of 0.03951196576142959\n",
      "0.18542374080362198 f1, standard dev of 0.06377800328946133\n"
     ]
    }
   ],
   "source": [
    "print(f\"{cv_log_reg_scores['test_accuracy'].mean()} accuracy, standard dev of {cv_log_reg_scores['test_accuracy'].std()}\")\n",
    "print(f\"{cv_log_reg_scores['test_recall'].mean()} recall, standard dev of {cv_log_reg_scores['test_recall'].std()}\")\n",
    "print(f\"{cv_log_reg_scores['test_precision'].mean()} precision, standard dev of {cv_log_reg_scores['test_precision'].std()}\")\n",
    "print(f\"{cv_log_reg_scores['test_f1'].mean()} f1, standard dev of {cv_log_reg_scores['test_f1'].std()}\")"
   ]
  },
  {
   "cell_type": "code",
   "execution_count": 171,
   "id": "d86173c0",
   "metadata": {},
   "outputs": [
    {
     "data": {
      "text/plain": [
       "{'fit_time': array([0.01396203, 0.01296496, 0.009974  , 0.01196671, 0.00797868]),\n",
       " 'score_time': array([0.00398803, 0.004987  , 0.00299215, 0.00498676, 0.00398922]),\n",
       " 'test_accuracy': array([0.62416107, 0.63758389, 0.68243243, 0.74324324, 0.7027027 ]),\n",
       " 'test_recall': array([0.27272727, 0.45454545, 0.45454545, 0.45454545, 0.81818182]),\n",
       " 'test_precision': array([0.05882353, 0.09433962, 0.10869565, 0.13513514, 0.17647059]),\n",
       " 'test_f1': array([0.09677419, 0.15625   , 0.1754386 , 0.20833333, 0.29032258])}"
      ]
     },
     "execution_count": 171,
     "metadata": {},
     "output_type": "execute_result"
    }
   ],
   "source": [
    "cv_log_reg_scores"
   ]
  },
  {
   "cell_type": "markdown",
   "id": "62957f7e",
   "metadata": {},
   "source": [
    "### RandomForest"
   ]
  },
  {
   "cell_type": "code",
   "execution_count": 119,
   "id": "e6961570",
   "metadata": {},
   "outputs": [],
   "source": [
    "from sklearn.ensemble import RandomForestClassifier"
   ]
  },
  {
   "cell_type": "code",
   "execution_count": 120,
   "id": "e92a65b1",
   "metadata": {},
   "outputs": [],
   "source": [
    "rf = RandomForestClassifier(random_state = 0, class_weight = 'balanced').fit(X_train, y_train)\n",
    "rf_preds = rf.predict(X_test)"
   ]
  },
  {
   "cell_type": "code",
   "execution_count": 121,
   "id": "46e3588a",
   "metadata": {},
   "outputs": [
    {
     "name": "stderr",
     "output_type": "stream",
     "text": [
      "H:\\Anaconda\\envs\\Kurling4Kids\\lib\\site-packages\\sklearn\\metrics\\_classification.py:1318: UndefinedMetricWarning: Precision and F-score are ill-defined and being set to 0.0 in labels with no predicted samples. Use `zero_division` parameter to control this behavior.\n",
      "  _warn_prf(average, modifier, msg_start, len(result))\n",
      "H:\\Anaconda\\envs\\Kurling4Kids\\lib\\site-packages\\sklearn\\metrics\\_classification.py:1318: UndefinedMetricWarning: Precision and F-score are ill-defined and being set to 0.0 in labels with no predicted samples. Use `zero_division` parameter to control this behavior.\n",
      "  _warn_prf(average, modifier, msg_start, len(result))\n",
      "H:\\Anaconda\\envs\\Kurling4Kids\\lib\\site-packages\\sklearn\\metrics\\_classification.py:1318: UndefinedMetricWarning: Precision and F-score are ill-defined and being set to 0.0 in labels with no predicted samples. Use `zero_division` parameter to control this behavior.\n",
      "  _warn_prf(average, modifier, msg_start, len(result))\n"
     ]
    }
   ],
   "source": [
    "rf_report = classification_report(y_test, rf_preds)"
   ]
  },
  {
   "cell_type": "code",
   "execution_count": 122,
   "id": "670a84f2",
   "metadata": {},
   "outputs": [
    {
     "name": "stdout",
     "output_type": "stream",
     "text": [
      "              precision    recall  f1-score   support\n",
      "\n",
      "           0       0.93      1.00      0.96       138\n",
      "           1       0.00      0.00      0.00        11\n",
      "\n",
      "    accuracy                           0.93       149\n",
      "   macro avg       0.46      0.50      0.48       149\n",
      "weighted avg       0.86      0.93      0.89       149\n",
      "\n",
      "0.9261744966442953\n"
     ]
    }
   ],
   "source": [
    "print(rf_report)\n",
    "print(accuracy_score(y_test, rf_preds))"
   ]
  },
  {
   "cell_type": "code",
   "execution_count": 172,
   "id": "90224e82",
   "metadata": {},
   "outputs": [
    {
     "name": "stderr",
     "output_type": "stream",
     "text": [
      "H:\\Anaconda\\envs\\Kurling4Kids\\lib\\site-packages\\sklearn\\metrics\\_classification.py:1318: UndefinedMetricWarning: Precision is ill-defined and being set to 0.0 due to no predicted samples. Use `zero_division` parameter to control this behavior.\n",
      "  _warn_prf(average, modifier, msg_start, len(result))\n",
      "H:\\Anaconda\\envs\\Kurling4Kids\\lib\\site-packages\\sklearn\\metrics\\_classification.py:1318: UndefinedMetricWarning: Precision is ill-defined and being set to 0.0 due to no predicted samples. Use `zero_division` parameter to control this behavior.\n",
      "  _warn_prf(average, modifier, msg_start, len(result))\n",
      "H:\\Anaconda\\envs\\Kurling4Kids\\lib\\site-packages\\sklearn\\metrics\\_classification.py:1318: UndefinedMetricWarning: Precision is ill-defined and being set to 0.0 due to no predicted samples. Use `zero_division` parameter to control this behavior.\n",
      "  _warn_prf(average, modifier, msg_start, len(result))\n",
      "H:\\Anaconda\\envs\\Kurling4Kids\\lib\\site-packages\\sklearn\\metrics\\_classification.py:1318: UndefinedMetricWarning: Precision is ill-defined and being set to 0.0 due to no predicted samples. Use `zero_division` parameter to control this behavior.\n",
      "  _warn_prf(average, modifier, msg_start, len(result))\n"
     ]
    }
   ],
   "source": [
    "cv_rf_scores = cross_validate(rf, X, y, cv=5, scoring=('accuracy','recall','precision','f1'))"
   ]
  },
  {
   "cell_type": "code",
   "execution_count": 173,
   "id": "cf3c530c",
   "metadata": {},
   "outputs": [
    {
     "name": "stdout",
     "output_type": "stream",
     "text": [
      "0.9245329221839288 accuracy, standard dev of 0.002542268656610631\n",
      "0.0 recall, standard dev of 0.0\n",
      "0.0 precision, standard dev of 0.0\n",
      "0.0 f1, standard dev of 0.0\n"
     ]
    }
   ],
   "source": [
    "print(f\"{cv_rf_scores['test_accuracy'].mean()} accuracy, standard dev of {cv_rf_scores['test_accuracy'].std()}\")\n",
    "print(f\"{cv_rf_scores['test_recall'].mean()} recall, standard dev of {cv_rf_scores['test_recall'].std()}\")\n",
    "print(f\"{cv_rf_scores['test_precision'].mean()} precision, standard dev of {cv_rf_scores['test_precision'].std()}\")\n",
    "print(f\"{cv_rf_scores['test_f1'].mean()} f1, standard dev of {cv_rf_scores['test_f1'].std()}\")"
   ]
  },
  {
   "cell_type": "markdown",
   "id": "2651381a",
   "metadata": {},
   "source": [
    "# Synthetic Data"
   ]
  },
  {
   "cell_type": "code",
   "execution_count": 40,
   "id": "8b472560",
   "metadata": {},
   "outputs": [
    {
     "name": "stderr",
     "output_type": "stream",
     "text": [
      "H:\\Anaconda\\envs\\Kurling4Kids\\lib\\site-packages\\tqdm\\auto.py:22: TqdmWarning: IProgress not found. Please update jupyter and ipywidgets. See https://ipywidgets.readthedocs.io/en/stable/user_install.html\n",
      "  from .autonotebook import tqdm as notebook_tqdm\n"
     ]
    }
   ],
   "source": [
    "from sdv.tabular import CTGAN\n",
    "from sdv import SDV"
   ]
  },
  {
   "cell_type": "code",
   "execution_count": 41,
   "id": "4777e9d0",
   "metadata": {},
   "outputs": [],
   "source": [
    "df.LIMITES_GEOG_international = df.LIMITES_GEOG_international.astype(\"int64\")\n",
    "df.LIMITES_GEOG_locals = df.LIMITES_GEOG_locals.astype(\"int64\")\n",
    "df.LIMITES_GEOG_nan = df.LIMITES_GEOG_nan.astype(\"int64\")\n",
    "df.LIMITES_GEOG_nationals = df.LIMITES_GEOG_nationals.astype(\"int64\")\n",
    "df.LIMITES_GEOG_regionals = df.LIMITES_GEOG_regionals.astype(\"int64\")\n",
    "df['LIMITES_GEOG_local and regional'] = df['LIMITES_GEOG_local and regional'].astype(\"int64\")\n",
    "df['LIMITES_GEOG_regional and national'] = df['LIMITES_GEOG_regional and national'].astype(\"int64\")"
   ]
  },
  {
   "cell_type": "code",
   "execution_count": 42,
   "id": "d1170f39",
   "metadata": {},
   "outputs": [
    {
     "name": "stderr",
     "output_type": "stream",
     "text": [
      "H:\\Anaconda\\envs\\Kurling4Kids\\lib\\site-packages\\sklearn\\mixture\\_base.py:277: ConvergenceWarning: Initialization 1 did not converge. Try different init parameters, or increase max_iter, tol or check for degenerate data.\n",
      "  warnings.warn(\n",
      "H:\\Anaconda\\envs\\Kurling4Kids\\lib\\site-packages\\sklearn\\mixture\\_base.py:277: ConvergenceWarning: Initialization 1 did not converge. Try different init parameters, or increase max_iter, tol or check for degenerate data.\n",
      "  warnings.warn(\n",
      "H:\\Anaconda\\envs\\Kurling4Kids\\lib\\site-packages\\sklearn\\mixture\\_base.py:277: ConvergenceWarning: Initialization 1 did not converge. Try different init parameters, or increase max_iter, tol or check for degenerate data.\n",
      "  warnings.warn(\n",
      "H:\\Anaconda\\envs\\Kurling4Kids\\lib\\site-packages\\sklearn\\mixture\\_base.py:277: ConvergenceWarning: Initialization 1 did not converge. Try different init parameters, or increase max_iter, tol or check for degenerate data.\n",
      "  warnings.warn(\n",
      "H:\\Anaconda\\envs\\Kurling4Kids\\lib\\site-packages\\sklearn\\mixture\\_base.py:277: ConvergenceWarning: Initialization 1 did not converge. Try different init parameters, or increase max_iter, tol or check for degenerate data.\n",
      "  warnings.warn(\n",
      "H:\\Anaconda\\envs\\Kurling4Kids\\lib\\site-packages\\ctgan\\data_transformer.py:111: SettingWithCopyWarning: \n",
      "A value is trying to be set on a copy of a slice from a DataFrame.\n",
      "Try using .loc[row_indexer,col_indexer] = value instead\n",
      "\n",
      "See the caveats in the documentation: https://pandas.pydata.org/pandas-docs/stable/user_guide/indexing.html#returning-a-view-versus-a-copy\n",
      "  data[column_name] = data[column_name].to_numpy().flatten()\n",
      "H:\\Anaconda\\envs\\Kurling4Kids\\lib\\site-packages\\ctgan\\data_transformer.py:111: SettingWithCopyWarning: \n",
      "A value is trying to be set on a copy of a slice from a DataFrame.\n",
      "Try using .loc[row_indexer,col_indexer] = value instead\n",
      "\n",
      "See the caveats in the documentation: https://pandas.pydata.org/pandas-docs/stable/user_guide/indexing.html#returning-a-view-versus-a-copy\n",
      "  data[column_name] = data[column_name].to_numpy().flatten()\n",
      "H:\\Anaconda\\envs\\Kurling4Kids\\lib\\site-packages\\ctgan\\data_transformer.py:111: SettingWithCopyWarning: \n",
      "A value is trying to be set on a copy of a slice from a DataFrame.\n",
      "Try using .loc[row_indexer,col_indexer] = value instead\n",
      "\n",
      "See the caveats in the documentation: https://pandas.pydata.org/pandas-docs/stable/user_guide/indexing.html#returning-a-view-versus-a-copy\n",
      "  data[column_name] = data[column_name].to_numpy().flatten()\n",
      "H:\\Anaconda\\envs\\Kurling4Kids\\lib\\site-packages\\ctgan\\data_transformer.py:111: SettingWithCopyWarning: \n",
      "A value is trying to be set on a copy of a slice from a DataFrame.\n",
      "Try using .loc[row_indexer,col_indexer] = value instead\n",
      "\n",
      "See the caveats in the documentation: https://pandas.pydata.org/pandas-docs/stable/user_guide/indexing.html#returning-a-view-versus-a-copy\n",
      "  data[column_name] = data[column_name].to_numpy().flatten()\n",
      "H:\\Anaconda\\envs\\Kurling4Kids\\lib\\site-packages\\ctgan\\data_transformer.py:111: SettingWithCopyWarning: \n",
      "A value is trying to be set on a copy of a slice from a DataFrame.\n",
      "Try using .loc[row_indexer,col_indexer] = value instead\n",
      "\n",
      "See the caveats in the documentation: https://pandas.pydata.org/pandas-docs/stable/user_guide/indexing.html#returning-a-view-versus-a-copy\n",
      "  data[column_name] = data[column_name].to_numpy().flatten()\n",
      "H:\\Anaconda\\envs\\Kurling4Kids\\lib\\site-packages\\ctgan\\data_transformer.py:111: SettingWithCopyWarning: \n",
      "A value is trying to be set on a copy of a slice from a DataFrame.\n",
      "Try using .loc[row_indexer,col_indexer] = value instead\n",
      "\n",
      "See the caveats in the documentation: https://pandas.pydata.org/pandas-docs/stable/user_guide/indexing.html#returning-a-view-versus-a-copy\n",
      "  data[column_name] = data[column_name].to_numpy().flatten()\n",
      "H:\\Anaconda\\envs\\Kurling4Kids\\lib\\site-packages\\ctgan\\data_transformer.py:111: SettingWithCopyWarning: \n",
      "A value is trying to be set on a copy of a slice from a DataFrame.\n",
      "Try using .loc[row_indexer,col_indexer] = value instead\n",
      "\n",
      "See the caveats in the documentation: https://pandas.pydata.org/pandas-docs/stable/user_guide/indexing.html#returning-a-view-versus-a-copy\n",
      "  data[column_name] = data[column_name].to_numpy().flatten()\n"
     ]
    }
   ],
   "source": [
    "model = CTGAN()\n",
    "model.fit(df.drop('NAME', axis=1))"
   ]
  },
  {
   "cell_type": "code",
   "execution_count": 140,
   "id": "63c5b648",
   "metadata": {},
   "outputs": [],
   "source": [
    "df_synth = model.sample(5000)"
   ]
  },
  {
   "cell_type": "code",
   "execution_count": 141,
   "id": "7047d511",
   "metadata": {},
   "outputs": [
    {
     "data": {
      "text/html": [
       "<div>\n",
       "<style scoped>\n",
       "    .dataframe tbody tr th:only-of-type {\n",
       "        vertical-align: middle;\n",
       "    }\n",
       "\n",
       "    .dataframe tbody tr th {\n",
       "        vertical-align: top;\n",
       "    }\n",
       "\n",
       "    .dataframe thead th {\n",
       "        text-align: right;\n",
       "    }\n",
       "</style>\n",
       "<table border=\"1\" class=\"dataframe\">\n",
       "  <thead>\n",
       "    <tr style=\"text-align: right;\">\n",
       "      <th></th>\n",
       "      <th>FLG_PAST_DONOR</th>\n",
       "      <th>ISFOUNDATION</th>\n",
       "      <th>NOMBRE_DEMPLOYES</th>\n",
       "      <th>SECTOR_FABRICATION</th>\n",
       "      <th>SECTOR_FINANCIERS</th>\n",
       "      <th>SECTOR_COMMERCE</th>\n",
       "      <th>SECTOR_CONSTRUCTION</th>\n",
       "      <th>SECTOR_TRANSPORT</th>\n",
       "      <th>SECTOR_GESTION</th>\n",
       "      <th>SECTOR_SYSTEMS</th>\n",
       "      <th>...</th>\n",
       "      <th>CANCER_DISEASE_RESEARCH</th>\n",
       "      <th>FILIALE_FLG</th>\n",
       "      <th>FILIALE_FLG2</th>\n",
       "      <th>LIMITES_GEOG_international</th>\n",
       "      <th>LIMITES_GEOG_local and regional</th>\n",
       "      <th>LIMITES_GEOG_locals</th>\n",
       "      <th>LIMITES_GEOG_nan</th>\n",
       "      <th>LIMITES_GEOG_nationals</th>\n",
       "      <th>LIMITES_GEOG_regional and national</th>\n",
       "      <th>LIMITES_GEOG_regionals</th>\n",
       "    </tr>\n",
       "  </thead>\n",
       "  <tbody>\n",
       "    <tr>\n",
       "      <th>0</th>\n",
       "      <td>1</td>\n",
       "      <td>0.0</td>\n",
       "      <td>-0.029007</td>\n",
       "      <td>1</td>\n",
       "      <td>0</td>\n",
       "      <td>0</td>\n",
       "      <td>0</td>\n",
       "      <td>0</td>\n",
       "      <td>0</td>\n",
       "      <td>0</td>\n",
       "      <td>...</td>\n",
       "      <td>0.35</td>\n",
       "      <td>0</td>\n",
       "      <td>1</td>\n",
       "      <td>0</td>\n",
       "      <td>1</td>\n",
       "      <td>0</td>\n",
       "      <td>0</td>\n",
       "      <td>1</td>\n",
       "      <td>0</td>\n",
       "      <td>0</td>\n",
       "    </tr>\n",
       "    <tr>\n",
       "      <th>1</th>\n",
       "      <td>0</td>\n",
       "      <td>0.0</td>\n",
       "      <td>-0.094031</td>\n",
       "      <td>0</td>\n",
       "      <td>1</td>\n",
       "      <td>0</td>\n",
       "      <td>0</td>\n",
       "      <td>1</td>\n",
       "      <td>0</td>\n",
       "      <td>0</td>\n",
       "      <td>...</td>\n",
       "      <td>0.80</td>\n",
       "      <td>1</td>\n",
       "      <td>1</td>\n",
       "      <td>0</td>\n",
       "      <td>0</td>\n",
       "      <td>0</td>\n",
       "      <td>0</td>\n",
       "      <td>1</td>\n",
       "      <td>0</td>\n",
       "      <td>0</td>\n",
       "    </tr>\n",
       "    <tr>\n",
       "      <th>2</th>\n",
       "      <td>0</td>\n",
       "      <td>0.0</td>\n",
       "      <td>-0.136729</td>\n",
       "      <td>1</td>\n",
       "      <td>0</td>\n",
       "      <td>0</td>\n",
       "      <td>0</td>\n",
       "      <td>0</td>\n",
       "      <td>0</td>\n",
       "      <td>0</td>\n",
       "      <td>...</td>\n",
       "      <td>0.01</td>\n",
       "      <td>1</td>\n",
       "      <td>0</td>\n",
       "      <td>0</td>\n",
       "      <td>1</td>\n",
       "      <td>0</td>\n",
       "      <td>0</td>\n",
       "      <td>0</td>\n",
       "      <td>0</td>\n",
       "      <td>0</td>\n",
       "    </tr>\n",
       "    <tr>\n",
       "      <th>3</th>\n",
       "      <td>1</td>\n",
       "      <td>1.0</td>\n",
       "      <td>0.360028</td>\n",
       "      <td>1</td>\n",
       "      <td>0</td>\n",
       "      <td>0</td>\n",
       "      <td>0</td>\n",
       "      <td>1</td>\n",
       "      <td>1</td>\n",
       "      <td>0</td>\n",
       "      <td>...</td>\n",
       "      <td>0.05</td>\n",
       "      <td>1</td>\n",
       "      <td>1</td>\n",
       "      <td>0</td>\n",
       "      <td>0</td>\n",
       "      <td>0</td>\n",
       "      <td>0</td>\n",
       "      <td>0</td>\n",
       "      <td>0</td>\n",
       "      <td>1</td>\n",
       "    </tr>\n",
       "    <tr>\n",
       "      <th>4</th>\n",
       "      <td>0</td>\n",
       "      <td>0.0</td>\n",
       "      <td>-0.119426</td>\n",
       "      <td>0</td>\n",
       "      <td>0</td>\n",
       "      <td>0</td>\n",
       "      <td>0</td>\n",
       "      <td>0</td>\n",
       "      <td>0</td>\n",
       "      <td>1</td>\n",
       "      <td>...</td>\n",
       "      <td>0.06</td>\n",
       "      <td>0</td>\n",
       "      <td>1</td>\n",
       "      <td>0</td>\n",
       "      <td>0</td>\n",
       "      <td>0</td>\n",
       "      <td>0</td>\n",
       "      <td>0</td>\n",
       "      <td>0</td>\n",
       "      <td>0</td>\n",
       "    </tr>\n",
       "  </tbody>\n",
       "</table>\n",
       "<p>5 rows × 28 columns</p>\n",
       "</div>"
      ],
      "text/plain": [
       "   FLG_PAST_DONOR  ISFOUNDATION  NOMBRE_DEMPLOYES  SECTOR_FABRICATION  \\\n",
       "0               1           0.0         -0.029007                   1   \n",
       "1               0           0.0         -0.094031                   0   \n",
       "2               0           0.0         -0.136729                   1   \n",
       "3               1           1.0          0.360028                   1   \n",
       "4               0           0.0         -0.119426                   0   \n",
       "\n",
       "   SECTOR_FINANCIERS  SECTOR_COMMERCE  SECTOR_CONSTRUCTION  SECTOR_TRANSPORT  \\\n",
       "0                  0                0                    0                 0   \n",
       "1                  1                0                    0                 1   \n",
       "2                  0                0                    0                 0   \n",
       "3                  0                0                    0                 1   \n",
       "4                  0                0                    0                 0   \n",
       "\n",
       "   SECTOR_GESTION  SECTOR_SYSTEMS  ...  CANCER_DISEASE_RESEARCH  FILIALE_FLG  \\\n",
       "0               0               0  ...                     0.35            0   \n",
       "1               0               0  ...                     0.80            1   \n",
       "2               0               0  ...                     0.01            1   \n",
       "3               1               0  ...                     0.05            1   \n",
       "4               0               1  ...                     0.06            0   \n",
       "\n",
       "   FILIALE_FLG2  LIMITES_GEOG_international  LIMITES_GEOG_local and regional  \\\n",
       "0             1                           0                                1   \n",
       "1             1                           0                                0   \n",
       "2             0                           0                                1   \n",
       "3             1                           0                                0   \n",
       "4             1                           0                                0   \n",
       "\n",
       "   LIMITES_GEOG_locals  LIMITES_GEOG_nan  LIMITES_GEOG_nationals  \\\n",
       "0                    0                 0                       1   \n",
       "1                    0                 0                       1   \n",
       "2                    0                 0                       0   \n",
       "3                    0                 0                       0   \n",
       "4                    0                 0                       0   \n",
       "\n",
       "   LIMITES_GEOG_regional and national  LIMITES_GEOG_regionals  \n",
       "0                                   0                       0  \n",
       "1                                   0                       0  \n",
       "2                                   0                       0  \n",
       "3                                   0                       1  \n",
       "4                                   0                       0  \n",
       "\n",
       "[5 rows x 28 columns]"
      ]
     },
     "execution_count": 141,
     "metadata": {},
     "output_type": "execute_result"
    }
   ],
   "source": [
    "df_synth.head()"
   ]
  },
  {
   "cell_type": "code",
   "execution_count": 142,
   "id": "6c7c42c4",
   "metadata": {},
   "outputs": [
    {
     "data": {
      "text/plain": [
       "0    4702\n",
       "1     298\n",
       "Name: FLG_PAST_DONOR, dtype: int64"
      ]
     },
     "execution_count": 142,
     "metadata": {},
     "output_type": "execute_result"
    }
   ],
   "source": [
    "df_synth.FLG_PAST_DONOR.value_counts()"
   ]
  },
  {
   "cell_type": "code",
   "execution_count": 143,
   "id": "4342859f",
   "metadata": {},
   "outputs": [],
   "source": [
    "y_synth = df_synth.FLG_PAST_DONOR\n",
    "X_synth = df_synth.drop(['FLG_PAST_DONOR'], axis= 1)\n",
    "X_train_synth, X_test_synth, y_train_synth, y_test_synth = train_test_split(X_synth, y_synth, test_size = 0.2)"
   ]
  },
  {
   "cell_type": "code",
   "execution_count": 144,
   "id": "dbdb07fb",
   "metadata": {},
   "outputs": [],
   "source": [
    "synth_log_reg = LogisticRegression(random_state = 0, class_weight = 'balanced').fit(X_train_synth, y_train_synth)\n",
    "preds_synth = synth_log_reg.predict(X_test_synth)"
   ]
  },
  {
   "cell_type": "code",
   "execution_count": 145,
   "id": "510230bd",
   "metadata": {},
   "outputs": [],
   "source": [
    "synth_report = classification_report(y_test_synth, preds_synth)"
   ]
  },
  {
   "cell_type": "code",
   "execution_count": 146,
   "id": "5a46278b",
   "metadata": {},
   "outputs": [
    {
     "name": "stdout",
     "output_type": "stream",
     "text": [
      "              precision    recall  f1-score   support\n",
      "\n",
      "           0       0.94      0.71      0.81       929\n",
      "           1       0.10      0.44      0.17        71\n",
      "\n",
      "    accuracy                           0.69      1000\n",
      "   macro avg       0.52      0.57      0.49      1000\n",
      "weighted avg       0.88      0.69      0.76      1000\n",
      "\n",
      "0.689\n"
     ]
    }
   ],
   "source": [
    "print(synth_report)\n",
    "print(accuracy_score(y_test_synth, preds_synth))"
   ]
  },
  {
   "cell_type": "code",
   "execution_count": 163,
   "id": "964ed861",
   "metadata": {},
   "outputs": [],
   "source": [
    "cv_log_reg_synth_scores = cross_validate(synth_log_reg, X_synth, y_synth, cv=5, scoring=('accuracy','recall','precision','f1'))"
   ]
  },
  {
   "cell_type": "code",
   "execution_count": 169,
   "id": "cabff56a",
   "metadata": {},
   "outputs": [
    {
     "name": "stdout",
     "output_type": "stream",
     "text": [
      "0.6464000000000001 accuracy, standard dev of 0.005003998401278726\n",
      "0.43254237288135594 recall, standard dev of 0.07864305311378667\n",
      "0.07435241476914431 precision, standard dev of 0.012152514117228489\n",
      "0.12688311069359876 f1, standard dev of 0.0210732224845827\n"
     ]
    }
   ],
   "source": [
    "print(f\"{cv_log_reg_synth_scores['test_accuracy'].mean()} accuracy, standard dev of {cv_log_reg_synth_scores['test_accuracy'].std()}\")\n",
    "print(f\"{cv_log_reg_synth_scores['test_recall'].mean()} recall, standard dev of {cv_log_reg_synth_scores['test_recall'].std()}\")\n",
    "print(f\"{cv_log_reg_synth_scores['test_precision'].mean()} precision, standard dev of {cv_log_reg_synth_scores['test_precision'].std()}\")\n",
    "print(f\"{cv_log_reg_synth_scores['test_f1'].mean()} f1, standard dev of {cv_log_reg_synth_scores['test_f1'].std()}\")"
   ]
  },
  {
   "cell_type": "markdown",
   "id": "8d38093c",
   "metadata": {},
   "source": [
    "### RandomForest"
   ]
  },
  {
   "cell_type": "code",
   "execution_count": 147,
   "id": "40655cf0",
   "metadata": {},
   "outputs": [],
   "source": [
    "rf_synth = RandomForestClassifier(random_state = 0, class_weight = 'balanced').fit(X_train_synth, y_train_synth)\n",
    "rf_preds_synth = rf.predict(X_test_synth)"
   ]
  },
  {
   "cell_type": "code",
   "execution_count": 148,
   "id": "8c02c16f",
   "metadata": {},
   "outputs": [
    {
     "name": "stderr",
     "output_type": "stream",
     "text": [
      "H:\\Anaconda\\envs\\Kurling4Kids\\lib\\site-packages\\sklearn\\metrics\\_classification.py:1318: UndefinedMetricWarning: Precision and F-score are ill-defined and being set to 0.0 in labels with no predicted samples. Use `zero_division` parameter to control this behavior.\n",
      "  _warn_prf(average, modifier, msg_start, len(result))\n",
      "H:\\Anaconda\\envs\\Kurling4Kids\\lib\\site-packages\\sklearn\\metrics\\_classification.py:1318: UndefinedMetricWarning: Precision and F-score are ill-defined and being set to 0.0 in labels with no predicted samples. Use `zero_division` parameter to control this behavior.\n",
      "  _warn_prf(average, modifier, msg_start, len(result))\n",
      "H:\\Anaconda\\envs\\Kurling4Kids\\lib\\site-packages\\sklearn\\metrics\\_classification.py:1318: UndefinedMetricWarning: Precision and F-score are ill-defined and being set to 0.0 in labels with no predicted samples. Use `zero_division` parameter to control this behavior.\n",
      "  _warn_prf(average, modifier, msg_start, len(result))\n"
     ]
    }
   ],
   "source": [
    "rf_report_synth = classification_report(y_test_synth, rf_preds_synth)"
   ]
  },
  {
   "cell_type": "code",
   "execution_count": 149,
   "id": "2aa9cd3b",
   "metadata": {},
   "outputs": [
    {
     "name": "stdout",
     "output_type": "stream",
     "text": [
      "              precision    recall  f1-score   support\n",
      "\n",
      "           0       0.93      1.00      0.96       929\n",
      "           1       0.00      0.00      0.00        71\n",
      "\n",
      "    accuracy                           0.93      1000\n",
      "   macro avg       0.46      0.50      0.48      1000\n",
      "weighted avg       0.86      0.93      0.89      1000\n",
      "\n",
      "0.929\n"
     ]
    }
   ],
   "source": [
    "print(rf_report_synth)\n",
    "print(accuracy_score(y_test_synth, rf_preds_synth))"
   ]
  },
  {
   "cell_type": "code",
   "execution_count": 174,
   "id": "e6077d6f",
   "metadata": {},
   "outputs": [
    {
     "name": "stderr",
     "output_type": "stream",
     "text": [
      "H:\\Anaconda\\envs\\Kurling4Kids\\lib\\site-packages\\sklearn\\metrics\\_classification.py:1318: UndefinedMetricWarning: Precision is ill-defined and being set to 0.0 due to no predicted samples. Use `zero_division` parameter to control this behavior.\n",
      "  _warn_prf(average, modifier, msg_start, len(result))\n",
      "H:\\Anaconda\\envs\\Kurling4Kids\\lib\\site-packages\\sklearn\\metrics\\_classification.py:1318: UndefinedMetricWarning: Precision is ill-defined and being set to 0.0 due to no predicted samples. Use `zero_division` parameter to control this behavior.\n",
      "  _warn_prf(average, modifier, msg_start, len(result))\n",
      "H:\\Anaconda\\envs\\Kurling4Kids\\lib\\site-packages\\sklearn\\metrics\\_classification.py:1318: UndefinedMetricWarning: Precision is ill-defined and being set to 0.0 due to no predicted samples. Use `zero_division` parameter to control this behavior.\n",
      "  _warn_prf(average, modifier, msg_start, len(result))\n",
      "H:\\Anaconda\\envs\\Kurling4Kids\\lib\\site-packages\\sklearn\\metrics\\_classification.py:1318: UndefinedMetricWarning: Precision is ill-defined and being set to 0.0 due to no predicted samples. Use `zero_division` parameter to control this behavior.\n",
      "  _warn_prf(average, modifier, msg_start, len(result))\n",
      "H:\\Anaconda\\envs\\Kurling4Kids\\lib\\site-packages\\sklearn\\metrics\\_classification.py:1318: UndefinedMetricWarning: Precision is ill-defined and being set to 0.0 due to no predicted samples. Use `zero_division` parameter to control this behavior.\n",
      "  _warn_prf(average, modifier, msg_start, len(result))\n"
     ]
    }
   ],
   "source": [
    "cv_rf_synth_scores = cross_validate(rf_synth, X_synth, y_synth, cv=5, scoring=('accuracy','recall','precision','f1'))"
   ]
  },
  {
   "cell_type": "code",
   "execution_count": 175,
   "id": "594822ca",
   "metadata": {},
   "outputs": [
    {
     "name": "stdout",
     "output_type": "stream",
     "text": [
      "0.9404 accuracy, standard dev of 0.0004898979485566361\n",
      "0.0 recall, standard dev of 0.0\n",
      "0.0 precision, standard dev of 0.0\n",
      "0.0 f1, standard dev of 0.0\n"
     ]
    }
   ],
   "source": [
    "print(f\"{cv_rf_synth_scores['test_accuracy'].mean()} accuracy, standard dev of {cv_rf_synth_scores['test_accuracy'].std()}\")\n",
    "print(f\"{cv_rf_synth_scores['test_recall'].mean()} recall, standard dev of {cv_rf_synth_scores['test_recall'].std()}\")\n",
    "print(f\"{cv_rf_synth_scores['test_precision'].mean()} precision, standard dev of {cv_rf_synth_scores['test_precision'].std()}\")\n",
    "print(f\"{cv_rf_synth_scores['test_f1'].mean()} f1, standard dev of {cv_rf_synth_scores['test_f1'].std()}\")"
   ]
  }
 ],
 "metadata": {
  "kernelspec": {
   "display_name": "Python 3 (ipykernel)",
   "language": "python",
   "name": "python3"
  },
  "language_info": {
   "codemirror_mode": {
    "name": "ipython",
    "version": 3
   },
   "file_extension": ".py",
   "mimetype": "text/x-python",
   "name": "python",
   "nbconvert_exporter": "python",
   "pygments_lexer": "ipython3",
   "version": "3.8.13"
  }
 },
 "nbformat": 4,
 "nbformat_minor": 5
}
