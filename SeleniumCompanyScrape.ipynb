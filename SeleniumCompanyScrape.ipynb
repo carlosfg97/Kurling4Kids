{
 "cells": [
  {
   "cell_type": "code",
   "execution_count": 93,
   "id": "753a4fba",
   "metadata": {},
   "outputs": [],
   "source": [
    "#Selenium\n",
    "from selenium import webdriver\n",
    "from webdriver_manager.chrome import ChromeDriverManager\n",
    "from selenium.webdriver.common.by import By\n",
    "from selenium.webdriver.common.keys import Keys\n",
    "\n",
    "\n",
    "#Time\n",
    "from time import sleep\n",
    "\n",
    "import pandas as pd\n",
    "import itertools"
   ]
  },
  {
   "cell_type": "code",
   "execution_count": 62,
   "id": "2632e1e1",
   "metadata": {},
   "outputs": [],
   "source": [
    "def setupLinkedIn(email, password,sleep_time):\n",
    "    #Setup   \n",
    "    selEmail = driver.find_element(By.ID, 'session_key')\n",
    "    selPW = driver.find_element(By.ID, 'session_password')\n",
    "    selEmail.send_keys(email)\n",
    "    selPW.send_keys(password)\n",
    "    selPW.send_keys(Keys.RETURN)\n",
    "\n",
    "    sleep(sleep_time)\n"
   ]
  },
  {
   "cell_type": "code",
   "execution_count": 69,
   "id": "a5329abf",
   "metadata": {},
   "outputs": [],
   "source": [
    "def goToPage(page_number, sleep_time):\n",
    "    #Go to the initial page\n",
    "    baseUrl = 'https://www.linkedin.com/search/results/companies/?companyHqGeo=%5B%22101174742%22%5D&origin=GLOBAL_SEARCH_HEADER'\n",
    "    pageUrl = baseUrl + f'&page={page_number}'\n",
    "    driver.get(pageUrl)\n",
    "    \n",
    "    sleep(sleep_time)\n",
    "    "
   ]
  },
  {
   "cell_type": "code",
   "execution_count": 64,
   "id": "374161f9",
   "metadata": {},
   "outputs": [],
   "source": [
    "def getCompanyPageLinks(sleep_time):\n",
    "    \"\"\"\n",
    "    Requirements: be on a company search page\n",
    "    Should be filtered by country Canada first, but will work on any company search page\n",
    "    \"\"\"\n",
    "    companyWebElements = driver.find_elements(By.XPATH, \"//span[@class='entity-result__title-text t-16']//a[@href]\")\n",
    "    companyLinks = []\n",
    "    for elems in companyWebElements:\n",
    "        companyLinks.append(elems.get_attribute('href'))\n",
    "        \n",
    "    sleep(sleep_time)\n",
    "    return companyLinks"
   ]
  },
  {
   "cell_type": "code",
   "execution_count": 71,
   "id": "4accbd11",
   "metadata": {},
   "outputs": [],
   "source": [
    "def loopThroughPageLinks(page_number_list: list, sleep_time):\n",
    "    \n",
    "    ###\n",
    "    # First loop: get all of the company links\n",
    "    ###\n",
    "    all_links = []\n",
    "    #Loop through every page\n",
    "    for page_number in page_number_list:\n",
    "        \n",
    "        goToPage(page_number = page_number, sleep_time = sleep_time)\n",
    "        \n",
    "        all_links.append(getCompanyPageLinks(sleep_time))\n",
    "    \n",
    "    return all_links"
   ]
  },
  {
   "cell_type": "code",
   "execution_count": 117,
   "id": "a79f60d8",
   "metadata": {},
   "outputs": [],
   "source": [
    "def getAboutText(company_link, sleep_time):\n",
    "    \"\"\"\n",
    "    Gets the about text and company name\n",
    "    \"\"\"\n",
    "    #Go to company about page\n",
    "    about_link = company_link + 'about/'\n",
    "    driver.get(about_link)\n",
    "\n",
    "    sleep(sleep_time)\n",
    "    aboutText = driver.find_element(By.XPATH, \"//div[@class='ember-view']//section[@class='artdeco-card p5 mb4']\")\n",
    "    companyName = driver.find_element(By.XPATH, \"//h1[@id='ember31']\")\n",
    "    return aboutText.text, companyName.text"
   ]
  },
  {
   "cell_type": "code",
   "execution_count": 178,
   "id": "cb9476c8",
   "metadata": {},
   "outputs": [],
   "source": [
    "def loopThroughAboutTexts(company_links_nested, sleep_time):\n",
    "    output_list = []\n",
    "    for i, link in enumerate(list(itertools.chain.from_iterable(company_links_nested))):\n",
    "        abouttext, companyname = getAboutText(company_link = link, sleep_time = sleep_time)\n",
    "        output_list.append({'id' : i,\n",
    "                         'Name' : companyname,\n",
    "                         'Link' : link,\n",
    "                         'aboutText' : abouttext})\n",
    "    return output_list"
   ]
  },
  {
   "cell_type": "code",
   "execution_count": 179,
   "id": "051e1d9c",
   "metadata": {},
   "outputs": [
    {
     "name": "stderr",
     "output_type": "stream",
     "text": [
      "\n",
      "\n",
      "====== WebDriver manager ======\n",
      "Current google-chrome version is 103.0.5060\n",
      "Get LATEST chromedriver version for 103.0.5060 google-chrome\n",
      "Driver [C:\\Users\\louis\\.wdm\\drivers\\chromedriver\\win32\\103.0.5060.53\\chromedriver.exe] found in cache\n",
      "C:\\Users\\louis\\AppData\\Local\\Temp\\ipykernel_1960\\1904361333.py:1: DeprecationWarning: executable_path has been deprecated, please pass in a Service object\n",
      "  driver = webdriver.Chrome(ChromeDriverManager().install())\n"
     ]
    }
   ],
   "source": [
    "driver = webdriver.Chrome(ChromeDriverManager().install())\n",
    "driver.get('https://linkedin.com')\n",
    "sleep(3)"
   ]
  },
  {
   "cell_type": "code",
   "execution_count": 180,
   "id": "02c0739f",
   "metadata": {},
   "outputs": [],
   "source": [
    "#Sign in to Feed Page\n",
    "setupLinkedIn(email = 'louis.dhulst@mail.mcgill.ca', password = 'zvkDry%ZdCX5Q7e',sleep_time = 5)\n",
    "\n",
    "links = loopThroughPageLinks(page_number_list = list(range(1,2)), sleep_time = 5)\n",
    "\n",
    "linkedIn_text = loopThroughAboutTexts(company_links_nested = links, sleep_time = 5)"
   ]
  },
  {
   "cell_type": "code",
   "execution_count": 196,
   "id": "a7deba47",
   "metadata": {},
   "outputs": [],
   "source": [
    "desired_fields = ['Overview', 'Website','Industry','Company size','Headquarters','Specialties']\n",
    "cleanedText = []\n",
    "pointer = None\n",
    "\n",
    "\n",
    "for company_dict in linkedIn_text:\n",
    "    #Initialize empty dict with fields\n",
    "    cleanedText.append({'Name':company_dict['Name'],\n",
    "                       'LinkedIn Link':company_dict['Link']})\n",
    "    cleanedText[-1].update({key: None for key in desired_fields})\n",
    "    \n",
    "    for text in company_dict['aboutText'].split(\"\\n\"):\n",
    "\n",
    "        #Continue for empty string\n",
    "        if not text:\n",
    "            continue\n",
    "\n",
    "        #Update pointer\n",
    "        if text in desired_fields:\n",
    "            pointer = text\n",
    "            continue\n",
    "        #Put in text  \n",
    "        if pointer:\n",
    "            if not cleanedText[-1][pointer]:\n",
    "                cleanedText[-1][pointer] = text\n",
    "            else:\n",
    "                cleanedText[-1][pointer] += ' ' + text\n",
    "        "
   ]
  },
  {
   "cell_type": "code",
   "execution_count": 198,
   "id": "2a1c6788",
   "metadata": {},
   "outputs": [],
   "source": [
    "scrapedAbouts = pd.DataFrame(cleanedText)"
   ]
  },
  {
   "cell_type": "code",
   "execution_count": 199,
   "id": "e72fa8f7",
   "metadata": {},
   "outputs": [],
   "source": [
    "#Save to excel\n",
    "scrapedAbouts.to_excel(\"linkedIn-scrape.xlsx\")"
   ]
  }
 ],
 "metadata": {
  "kernelspec": {
   "display_name": "Python 3 (ipykernel)",
   "language": "python",
   "name": "python3"
  },
  "language_info": {
   "codemirror_mode": {
    "name": "ipython",
    "version": 3
   },
   "file_extension": ".py",
   "mimetype": "text/x-python",
   "name": "python",
   "nbconvert_exporter": "python",
   "pygments_lexer": "ipython3",
   "version": "3.8.13"
  }
 },
 "nbformat": 4,
 "nbformat_minor": 5
}
