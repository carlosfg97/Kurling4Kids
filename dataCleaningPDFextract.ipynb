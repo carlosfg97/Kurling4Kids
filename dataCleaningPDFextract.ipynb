{
 "cells": [
  {
   "cell_type": "code",
   "execution_count": 63,
   "id": "11e2ad69",
   "metadata": {},
   "outputs": [],
   "source": [
    "#Geo\n",
    "#from geopy.geocoders import Nominatim\n",
    "\n",
    "#Postal Code\n",
    "from pypostalcode import PostalCodeDatabase\n",
    "\n",
    "#Tables\n",
    "import pandas as pd\n",
    "\n",
    "#Regex\n",
    "import re"
   ]
  },
  {
   "cell_type": "markdown",
   "id": "f67fffbc",
   "metadata": {},
   "source": [
    "# Clean Organization Data"
   ]
  },
  {
   "cell_type": "code",
   "execution_count": 40,
   "id": "7298ba2f",
   "metadata": {},
   "outputs": [],
   "source": [
    "dfOrg = pd.read_excel('Organizations.xlsx').iloc[:,1:]"
   ]
  },
  {
   "cell_type": "code",
   "execution_count": 41,
   "id": "5e1f9ed6",
   "metadata": {},
   "outputs": [
    {
     "data": {
      "text/plain": [
       "Index(['ID', '2E CONTACT POUR', 'ADDRESS', 'AVIS', 'CONTACT', 'CONTRIBUTION',\n",
       "       'COURRIEL', 'DDD', 'DOMAINE DINTERET', 'FAF', 'FAX', 'FILIALE DE',\n",
       "       'ISFOUNDATION', 'LANGUE', 'LIMITES GEOG', 'N DE TEL', 'NAME',\n",
       "       'NBRE DE SUCC', 'NOMBRE DEMPLOYES', 'NOTE', 'POSTE', 'PRINCIP FILIALES',\n",
       "       'SECTEUR INDUSTRIEL', 'SITE WEB'],\n",
       "      dtype='object')"
      ]
     },
     "execution_count": 41,
     "metadata": {},
     "output_type": "execute_result"
    }
   ],
   "source": [
    "dfOrg.columns"
   ]
  },
  {
   "cell_type": "code",
   "execution_count": 58,
   "id": "0b083f02",
   "metadata": {},
   "outputs": [],
   "source": [
    "def cleanUpSpaces(row_value):\n",
    "    \"\"\"\n",
    "    Function to remove excess whitespaces\n",
    "    \"\"\"\n",
    "    return ' '.join(row_value.split())"
   ]
  },
  {
   "cell_type": "code",
   "execution_count": 56,
   "id": "fc8754e9",
   "metadata": {},
   "outputs": [],
   "source": [
    "#Clean the spaces for address\n",
    "dfOrg.ADDRESS = dfOrg.ADDRESS.apply(lambda x: cleanUpSpaces(x))"
   ]
  },
  {
   "cell_type": "code",
   "execution_count": 112,
   "id": "6e9796bb",
   "metadata": {},
   "outputs": [],
   "source": [
    "def getCityProvincefromPostal(address):\n",
    "    \"\"\"\n",
    "    Gets the city and province from the postal code address\n",
    "    \"\"\"\n",
    "    split = address.split()\n",
    "    pcdb = PostalCodeDatabase()\n",
    "    regex = '^(?!.*[DFIOQU])[A-Z][0-9][A-Z]$'\n",
    "    match = re.match(regex, split[-2])\n",
    "    print(split)\n",
    "    if match is not None:\n",
    "        pc = split[-2]\n",
    "        location = pcdb[pc]\n",
    "    else:\n",
    "        pc = split[-1][:3]\n",
    "        location = pcdb[pc]\n",
    "        \n",
    "    print(pc)\n",
    "    city = location.city\n",
    "    province = location.province\n",
    "    \n",
    "    return city, province"
   ]
  },
  {
   "cell_type": "code",
   "execution_count": 113,
   "id": "1b415cfc",
   "metadata": {},
   "outputs": [
    {
     "data": {
      "text/plain": [
       "'Markham Inner Southwest'"
      ]
     },
     "execution_count": 113,
     "metadata": {},
     "output_type": "execute_result"
    }
   ],
   "source": [
    "pcdb = PostalCodeDatabase()\n",
    "location = pcdb['L6G']\n",
    "location.city"
   ]
  },
  {
   "cell_type": "code",
   "execution_count": 114,
   "id": "6235bd20",
   "metadata": {
    "scrolled": false
   },
   "outputs": [
    {
     "name": "stdout",
     "output_type": "stream",
     "text": [
      "['7290,', 'rue', 'Frederick', 'Banting', 'Saint-Laurent', 'QC', 'H4T1Z2']\n",
      "H4T\n",
      "['305,', '12e', 'Avenue', 'Richelieu', 'QC', 'J3L3T2']\n",
      "J3L\n",
      "['3750,', 'chemin', 'de', \"l'aéroport\", 'Trois-Rivières', 'QC', 'G9B2N8']\n",
      "G9B\n",
      "['800', 'boul.', 'Hymes', 'Saint-Laurent', 'QC', 'H4S0B5']\n",
      "H4S\n",
      "['800', 'boul.', 'Hymes', 'Saint-Laurent', 'QC', 'H4S0B5']\n",
      "H4S\n",
      "['8401,', 'rte', 'Transcanadienne', 'Saint-Laurent', 'Québec', 'H4S1Z12']\n",
      "H4S\n",
      "['7950,', 'Vauban', 'Montréal', 'QC', 'H1J2X5']\n",
      "H1J\n",
      "['75,', 'rue', 'Queen,', 'bur.', '6100', 'Montréal', 'QC', 'H3C2N6']\n",
      "H3C\n",
      "['75,', 'rue', 'Queen,', 'bur.', '6100', 'Montréal', 'QC', 'H3C2N6']\n",
      "H3C\n",
      "['2270,', 'rue', 'Garneau', 'Longueuil', 'QC', 'J4G1E7']\n",
      "J4G\n",
      "['1331,', 'rue', 'Graham-Bell', 'Boucherville', 'QC', 'J4B6A1']\n",
      "J4B\n",
      "['3000,', 'rue', 'de', 'l’Etchemin', 'Lévis', 'QC', 'G6W7X6']\n",
      "G6W\n",
      "['50,', 'rue', 'Gince', 'Saint-Laurent', 'QC', 'H4N', '2W6']\n",
      "H4N\n",
      "['305,', 'boul.', 'Charest', 'Est.,', 'bur.', '100', 'Québec', 'QC', 'G1K3H3']\n",
      "G1K\n",
      "['300,', 'rue', 'Henry-Bessemer', 'Terrebonne', 'QC', 'J6Y1T3']\n",
      "J6Y\n",
      "['Édifice', 'du', 'Port', 'de', 'Montréal', '2100', 'ave', 'Pierre-Dupuy,', 'Aile', '1Montréal', 'QC', 'H3C3R5']\n",
      "H3C\n",
      "['1,', 'Quai', 'Monseigneur-Blanche', 'Sept-Îles', 'QC', 'G4R5P3']\n",
      "G4R\n",
      "['6600,', 'ch.', 'du', 'Quai', 'Marcel-Dionne', 'La', 'Baie', 'QC', 'G7B3N9']\n",
      "G7B\n",
      "['1100,', 'boul.', 'René-Lévesque', 'O.,', '5e', 'étage', 'Montréal', 'QC', 'H3B4N4']\n",
      "H3B\n",
      "['8481,', 'boul.', 'Langelier', 'Montréal', 'QC', 'H1P2C3']\n",
      "H1P\n",
      "['85,', 'rue', 'Ste-Catherine', 'O.', 'Montréal', 'QC', 'H2X3P4']\n",
      "H2X\n",
      "['255,', 'boul.', 'Crémazie', 'Est,', 'bur.', '300', 'Montréal', 'QC', 'H2M1M2']\n",
      "H2M\n",
      "['800,', 'pl.', 'Leigh-Capreol,', 'bur.', '1000', 'Dorval', 'QC', 'H4Y0A5']\n",
      "H4Y\n",
      "['9001,', 'boul.', 'de', \"l'Acadie,\", 'bur.', '800', 'Saint-Laurent', 'QC', 'H4N', '3H5']\n",
      "H4N\n",
      "['Centre', 'spatial', 'John', 'H.', 'Chapman', '6767,', 'rte', 'de', \"l'AéroportSaint-Hubert\", 'J3Y8Y9']\n",
      "J3Y\n",
      "['236,', 'rue', 'Sainte-Geneviève', 'Saint-Isidore', 'QC', 'G0S2S0']\n",
      "G0S\n",
      "['5928,', 'boul.', 'Cousineau,', 'bur.', '300', 'St-Hubert', 'QC', 'J3Y7R9']\n",
      "J3Y\n",
      "['520,', 'Joseph-Oswald-Forest', 'St-Roch-de-l’Achigan', 'QC', 'J0K3H0']\n",
      "J0K\n",
      "['4600,', 'rue', 'Armand-Frappier', 'Saint-Hubert', 'Qc', 'J3Z1G5']\n",
      "J3Z\n",
      "['2185,', 'ave', 'Francis-Hughes', 'Laval', 'QC', 'H7S1N5']\n",
      "H7S\n",
      "['525,', 'rue', 'Viger', 'Ouest,', 'bur.', '1000', 'Montréal', 'QC', 'H2Z0B2']\n",
      "H2Z\n",
      "['7373,', 'boul.', 'de', 'la', 'Côte-Vertu', 'Saint-Laurent', 'QC', 'H4S1Z3']\n",
      "H4S\n",
      "['101,', 'rue', 'Fecteau', \"Val-d'Or\", 'QC', 'J9P0G4']\n",
      "J9P\n",
      "['1250,', 'boul.', 'René-Lévesque', 'O.,', 'bur.', '1700', 'Montréal', 'QC', 'H3B5E6']\n",
      "H3B\n",
      "['P.O.', 'Box', '130,', 'Stn', 'B,', 'Toronto', 'ON', 'M5T2T3']\n",
      "M5T\n",
      "['Aéroport', 'Billy', 'Bishop', 'de', 'Toronto', 'Toronto', 'ON', 'M5V1A1']\n",
      "M5V\n",
      "['300,', 'rue', 'Léo-Pariseau,', 'bur.', '600', 'Montréal', 'QC', 'H2X4C2']\n",
      "H2X\n",
      "['970,', 'rue', 'Landry', 'Acton', 'Vale', 'QC', 'J0H1A0']\n",
      "J0H\n",
      "['8125,', 'boul.', 'du', 'Golf', 'Montréal', 'QC', 'H1J0B2']\n",
      "H1J\n",
      "['300,', 'rue', 'Westmount', 'Cowansville', 'QC', 'J2K1S9']\n",
      "J2K\n",
      "['3550,', 'avenue', 'de', 'la', 'Gare', 'Mascouche', 'QC', 'J7K3C1']\n",
      "J7K\n",
      "['1,', 'pl.', 'Ville-Marie,', 'bur.', '2310', 'Montréal', 'QC', 'H3B3M5']\n",
      "H3B\n",
      "['8550,', 'boul.', 'Côte-de-Liesse,', 'bur.', '200', 'Saint-Laurent', 'QC', 'H4T1H2']\n",
      "H4T\n",
      "['2300,', 'rue', 'Cyrille-Duquet', 'Québec', 'QC', 'G1N2G5']\n",
      "G1N\n",
      "['3500,', 'boul.', 'De', 'Maisonneuve', 'Ouest', 'Tour', '2,', 'bureau', '635Westmount', 'QC', 'H3Z3C1']\n",
      "H3Z\n",
      "['500,', 'pl.', \"d'Armes,\", 'bur.', '1500', 'Montréal', 'QC', 'H2Y2W2']\n",
      "H2Y\n",
      "['1152,', 'rue', 'Manic', 'Chicoutimi', 'QC', 'G7K1A2']\n",
      "G7K\n",
      "['1115,', 'rue', 'Laurier', 'O.', 'Montréal', 'QC', 'H2V2L3']\n",
      "H2V\n",
      "['575,', 'boul.', 'Armand-Frappier', 'Laval', 'QC', 'H7V4B3']\n",
      "H7V\n",
      "['767,', 'route', '289', 'Saint-Alexandre-de-Kamouraska', 'QC', 'G0L2G0']\n",
      "G0L\n",
      "['1312,', 'rue', 'St-Georges', 'Saint-Bernard', 'QC', 'G0S2G0']\n",
      "G0S\n",
      "['570,', 'boul.', 'Curé-Boivin', 'Boisbriand', 'QC', 'J7G2A7']\n",
      "J7G\n",
      "['2030,', 'boul.', 'Pie-IX,', 'bur.', '311', 'Montréal', 'QC', 'H1V2C8']\n",
      "H1V\n",
      "['1800,', 'autoroute', 'Laval', 'Laval', 'QC', 'H7S2E7']\n",
      "H7S\n",
      "['2620,', 'rue', 'Watt', 'Québec', 'QC', 'G1P3T5']\n",
      "G1P\n",
      "['2105,', 'boul.', 'Industriel', 'Laval', 'QC', 'H7S1P7']\n",
      "H7S\n",
      "['75,', 'boul.', 'des', 'Châteaux,', 'bur.', '106', 'Blainville', 'QC', 'J7B2A4']\n",
      "J7B\n",
      "['6897', 'Financial', 'Drive', 'Mississauga', 'ON', 'L5N0A8']\n",
      "L5N\n",
      "['9777,', 'Colbert', 'Anjou', 'QC', 'H1J1Z9']\n",
      "H1J\n",
      "['135,', 'rue', 'Industrielle', 'Delson', 'QC', 'J5B1W2']\n",
      "J5B\n",
      "['700,', 'rue', 'de', 'la', 'Gauchetière', 'O.,', 'bur.', '2400', 'Montréal', 'QC', 'H3B5M2']\n",
      "H3B\n",
      "['118,', 'rue', 'de', 'la', 'Gare', 'St-Henri', 'QC', 'G0R3E0']\n",
      "G0R\n",
      "['85', 'Enterprise', 'Blvd,', 'Ste', '500', 'Markham', 'ON', 'L6G0B5']\n",
      "L6G\n",
      "['7500', 'Dallas', 'Parkway,', 'bur.', '700', 'Plano', 'Texas']\n"
     ]
    },
    {
     "ename": "IndexError",
     "evalue": "Couldn't find postal code",
     "output_type": "error",
     "traceback": [
      "\u001b[1;31m---------------------------------------------------------------------------\u001b[0m",
      "\u001b[1;31mIndexError\u001b[0m                                Traceback (most recent call last)",
      "Input \u001b[1;32mIn [114]\u001b[0m, in \u001b[0;36m<cell line: 1>\u001b[1;34m()\u001b[0m\n\u001b[1;32m----> 1\u001b[0m test1, test2 \u001b[38;5;241m=\u001b[39m \u001b[43mdfOrg\u001b[49m\u001b[38;5;241;43m.\u001b[39;49m\u001b[43mADDRESS\u001b[49m\u001b[38;5;241;43m.\u001b[39;49m\u001b[43mapply\u001b[49m\u001b[43m(\u001b[49m\u001b[38;5;28;43;01mlambda\u001b[39;49;00m\u001b[43m \u001b[49m\u001b[43mx\u001b[49m\u001b[43m:\u001b[49m\u001b[43m \u001b[49m\u001b[43mgetCityProvincefromPostal\u001b[49m\u001b[43m(\u001b[49m\u001b[43mx\u001b[49m\u001b[43m)\u001b[49m\u001b[43m)\u001b[49m\n",
      "File \u001b[1;32m~\\anaconda3\\envs\\Scraping\\lib\\site-packages\\pandas\\core\\series.py:4433\u001b[0m, in \u001b[0;36mSeries.apply\u001b[1;34m(self, func, convert_dtype, args, **kwargs)\u001b[0m\n\u001b[0;32m   4323\u001b[0m \u001b[38;5;28;01mdef\u001b[39;00m \u001b[38;5;21mapply\u001b[39m(\n\u001b[0;32m   4324\u001b[0m     \u001b[38;5;28mself\u001b[39m,\n\u001b[0;32m   4325\u001b[0m     func: AggFuncType,\n\u001b[1;32m   (...)\u001b[0m\n\u001b[0;32m   4328\u001b[0m     \u001b[38;5;241m*\u001b[39m\u001b[38;5;241m*\u001b[39mkwargs,\n\u001b[0;32m   4329\u001b[0m ) \u001b[38;5;241m-\u001b[39m\u001b[38;5;241m>\u001b[39m DataFrame \u001b[38;5;241m|\u001b[39m Series:\n\u001b[0;32m   4330\u001b[0m     \u001b[38;5;124;03m\"\"\"\u001b[39;00m\n\u001b[0;32m   4331\u001b[0m \u001b[38;5;124;03m    Invoke function on values of Series.\u001b[39;00m\n\u001b[0;32m   4332\u001b[0m \n\u001b[1;32m   (...)\u001b[0m\n\u001b[0;32m   4431\u001b[0m \u001b[38;5;124;03m    dtype: float64\u001b[39;00m\n\u001b[0;32m   4432\u001b[0m \u001b[38;5;124;03m    \"\"\"\u001b[39;00m\n\u001b[1;32m-> 4433\u001b[0m     \u001b[38;5;28;01mreturn\u001b[39;00m \u001b[43mSeriesApply\u001b[49m\u001b[43m(\u001b[49m\u001b[38;5;28;43mself\u001b[39;49m\u001b[43m,\u001b[49m\u001b[43m \u001b[49m\u001b[43mfunc\u001b[49m\u001b[43m,\u001b[49m\u001b[43m \u001b[49m\u001b[43mconvert_dtype\u001b[49m\u001b[43m,\u001b[49m\u001b[43m \u001b[49m\u001b[43margs\u001b[49m\u001b[43m,\u001b[49m\u001b[43m \u001b[49m\u001b[43mkwargs\u001b[49m\u001b[43m)\u001b[49m\u001b[38;5;241;43m.\u001b[39;49m\u001b[43mapply\u001b[49m\u001b[43m(\u001b[49m\u001b[43m)\u001b[49m\n",
      "File \u001b[1;32m~\\anaconda3\\envs\\Scraping\\lib\\site-packages\\pandas\\core\\apply.py:1082\u001b[0m, in \u001b[0;36mSeriesApply.apply\u001b[1;34m(self)\u001b[0m\n\u001b[0;32m   1078\u001b[0m \u001b[38;5;28;01mif\u001b[39;00m \u001b[38;5;28misinstance\u001b[39m(\u001b[38;5;28mself\u001b[39m\u001b[38;5;241m.\u001b[39mf, \u001b[38;5;28mstr\u001b[39m):\n\u001b[0;32m   1079\u001b[0m     \u001b[38;5;66;03m# if we are a string, try to dispatch\u001b[39;00m\n\u001b[0;32m   1080\u001b[0m     \u001b[38;5;28;01mreturn\u001b[39;00m \u001b[38;5;28mself\u001b[39m\u001b[38;5;241m.\u001b[39mapply_str()\n\u001b[1;32m-> 1082\u001b[0m \u001b[38;5;28;01mreturn\u001b[39;00m \u001b[38;5;28;43mself\u001b[39;49m\u001b[38;5;241;43m.\u001b[39;49m\u001b[43mapply_standard\u001b[49m\u001b[43m(\u001b[49m\u001b[43m)\u001b[49m\n",
      "File \u001b[1;32m~\\anaconda3\\envs\\Scraping\\lib\\site-packages\\pandas\\core\\apply.py:1137\u001b[0m, in \u001b[0;36mSeriesApply.apply_standard\u001b[1;34m(self)\u001b[0m\n\u001b[0;32m   1131\u001b[0m         values \u001b[38;5;241m=\u001b[39m obj\u001b[38;5;241m.\u001b[39mastype(\u001b[38;5;28mobject\u001b[39m)\u001b[38;5;241m.\u001b[39m_values\n\u001b[0;32m   1132\u001b[0m         \u001b[38;5;66;03m# error: Argument 2 to \"map_infer\" has incompatible type\u001b[39;00m\n\u001b[0;32m   1133\u001b[0m         \u001b[38;5;66;03m# \"Union[Callable[..., Any], str, List[Union[Callable[..., Any], str]],\u001b[39;00m\n\u001b[0;32m   1134\u001b[0m         \u001b[38;5;66;03m# Dict[Hashable, Union[Union[Callable[..., Any], str],\u001b[39;00m\n\u001b[0;32m   1135\u001b[0m         \u001b[38;5;66;03m# List[Union[Callable[..., Any], str]]]]]\"; expected\u001b[39;00m\n\u001b[0;32m   1136\u001b[0m         \u001b[38;5;66;03m# \"Callable[[Any], Any]\"\u001b[39;00m\n\u001b[1;32m-> 1137\u001b[0m         mapped \u001b[38;5;241m=\u001b[39m \u001b[43mlib\u001b[49m\u001b[38;5;241;43m.\u001b[39;49m\u001b[43mmap_infer\u001b[49m\u001b[43m(\u001b[49m\n\u001b[0;32m   1138\u001b[0m \u001b[43m            \u001b[49m\u001b[43mvalues\u001b[49m\u001b[43m,\u001b[49m\n\u001b[0;32m   1139\u001b[0m \u001b[43m            \u001b[49m\u001b[43mf\u001b[49m\u001b[43m,\u001b[49m\u001b[43m  \u001b[49m\u001b[38;5;66;43;03m# type: ignore[arg-type]\u001b[39;49;00m\n\u001b[0;32m   1140\u001b[0m \u001b[43m            \u001b[49m\u001b[43mconvert\u001b[49m\u001b[38;5;241;43m=\u001b[39;49m\u001b[38;5;28;43mself\u001b[39;49m\u001b[38;5;241;43m.\u001b[39;49m\u001b[43mconvert_dtype\u001b[49m\u001b[43m,\u001b[49m\n\u001b[0;32m   1141\u001b[0m \u001b[43m        \u001b[49m\u001b[43m)\u001b[49m\n\u001b[0;32m   1143\u001b[0m \u001b[38;5;28;01mif\u001b[39;00m \u001b[38;5;28mlen\u001b[39m(mapped) \u001b[38;5;129;01mand\u001b[39;00m \u001b[38;5;28misinstance\u001b[39m(mapped[\u001b[38;5;241m0\u001b[39m], ABCSeries):\n\u001b[0;32m   1144\u001b[0m     \u001b[38;5;66;03m# GH#43986 Need to do list(mapped) in order to get treated as nested\u001b[39;00m\n\u001b[0;32m   1145\u001b[0m     \u001b[38;5;66;03m#  See also GH#25959 regarding EA support\u001b[39;00m\n\u001b[0;32m   1146\u001b[0m     \u001b[38;5;28;01mreturn\u001b[39;00m obj\u001b[38;5;241m.\u001b[39m_constructor_expanddim(\u001b[38;5;28mlist\u001b[39m(mapped), index\u001b[38;5;241m=\u001b[39mobj\u001b[38;5;241m.\u001b[39mindex)\n",
      "File \u001b[1;32m~\\anaconda3\\envs\\Scraping\\lib\\site-packages\\pandas\\_libs\\lib.pyx:2870\u001b[0m, in \u001b[0;36mpandas._libs.lib.map_infer\u001b[1;34m()\u001b[0m\n",
      "Input \u001b[1;32mIn [114]\u001b[0m, in \u001b[0;36m<lambda>\u001b[1;34m(x)\u001b[0m\n\u001b[1;32m----> 1\u001b[0m test1, test2 \u001b[38;5;241m=\u001b[39m dfOrg\u001b[38;5;241m.\u001b[39mADDRESS\u001b[38;5;241m.\u001b[39mapply(\u001b[38;5;28;01mlambda\u001b[39;00m x: \u001b[43mgetCityProvincefromPostal\u001b[49m\u001b[43m(\u001b[49m\u001b[43mx\u001b[49m\u001b[43m)\u001b[49m)\n",
      "Input \u001b[1;32mIn [112]\u001b[0m, in \u001b[0;36mgetCityProvincefromPostal\u001b[1;34m(address)\u001b[0m\n\u001b[0;32m     13\u001b[0m \u001b[38;5;28;01melse\u001b[39;00m:\n\u001b[0;32m     14\u001b[0m     pc \u001b[38;5;241m=\u001b[39m split[\u001b[38;5;241m-\u001b[39m\u001b[38;5;241m1\u001b[39m][:\u001b[38;5;241m3\u001b[39m]\n\u001b[1;32m---> 15\u001b[0m     location \u001b[38;5;241m=\u001b[39m \u001b[43mpcdb\u001b[49m\u001b[43m[\u001b[49m\u001b[43mpc\u001b[49m\u001b[43m]\u001b[49m\n\u001b[0;32m     17\u001b[0m \u001b[38;5;28mprint\u001b[39m(pc)\n\u001b[0;32m     18\u001b[0m city \u001b[38;5;241m=\u001b[39m location\u001b[38;5;241m.\u001b[39mcity\n",
      "File \u001b[1;32m~\\anaconda3\\envs\\Scraping\\lib\\site-packages\\pypostalcode\\__init__.py:126\u001b[0m, in \u001b[0;36mPostalCodeDatabase.__getitem__\u001b[1;34m(self, pc)\u001b[0m\n\u001b[0;32m    124\u001b[0m pc \u001b[38;5;241m=\u001b[39m \u001b[38;5;28mself\u001b[39m\u001b[38;5;241m.\u001b[39mget(\u001b[38;5;28mstr\u001b[39m(pc))\n\u001b[0;32m    125\u001b[0m \u001b[38;5;28;01mif\u001b[39;00m pc \u001b[38;5;129;01mis\u001b[39;00m \u001b[38;5;28;01mNone\u001b[39;00m:\n\u001b[1;32m--> 126\u001b[0m     \u001b[38;5;28;01mraise\u001b[39;00m \u001b[38;5;167;01mIndexError\u001b[39;00m(\u001b[38;5;124m\"\u001b[39m\u001b[38;5;124mCouldn\u001b[39m\u001b[38;5;124m'\u001b[39m\u001b[38;5;124mt find postal code\u001b[39m\u001b[38;5;124m\"\u001b[39m)\n\u001b[0;32m    127\u001b[0m \u001b[38;5;28;01melse\u001b[39;00m:\n\u001b[0;32m    128\u001b[0m     \u001b[38;5;28;01mreturn\u001b[39;00m pc[\u001b[38;5;241m0\u001b[39m]\n",
      "\u001b[1;31mIndexError\u001b[0m: Couldn't find postal code"
     ]
    }
   ],
   "source": [
    "test1, test2 = dfOrg.ADDRESS.apply(lambda x: getCityProvincefromPostal(x))"
   ]
  }
 ],
 "metadata": {
  "kernelspec": {
   "display_name": "Python 3 (ipykernel)",
   "language": "python",
   "name": "python3"
  },
  "language_info": {
   "codemirror_mode": {
    "name": "ipython",
    "version": 3
   },
   "file_extension": ".py",
   "mimetype": "text/x-python",
   "name": "python",
   "nbconvert_exporter": "python",
   "pygments_lexer": "ipython3",
   "version": "3.8.13"
  }
 },
 "nbformat": 4,
 "nbformat_minor": 5
}
