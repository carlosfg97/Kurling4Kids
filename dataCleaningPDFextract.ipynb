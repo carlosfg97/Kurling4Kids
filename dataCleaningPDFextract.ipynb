{
 "cells": [
  {
   "cell_type": "code",
   "execution_count": 1,
   "id": "b10dface",
   "metadata": {},
   "outputs": [],
   "source": [
    "import pandas as pd"
   ]
  },
  {
   "cell_type": "code",
   "execution_count": 3,
   "id": "5c792c80",
   "metadata": {},
   "outputs": [],
   "source": [
    "dfOrg = pd.read_excel('LouisTestOrg.xlsx')\n",
    "dfFoundation = pd.read_excel('LouisTestFoundation.xlsx')"
   ]
  },
  {
   "cell_type": "markdown",
   "id": "1adca829",
   "metadata": {},
   "source": [
    "# Clean Organization Data"
   ]
  },
  {
   "cell_type": "code",
   "execution_count": null,
   "id": "dd5979fd",
   "metadata": {},
   "outputs": [],
   "source": []
  }
 ],
 "metadata": {
  "kernelspec": {
   "display_name": "Python 3 (ipykernel)",
   "language": "python",
   "name": "python3"
  },
  "language_info": {
   "codemirror_mode": {
    "name": "ipython",
    "version": 3
   },
   "file_extension": ".py",
   "mimetype": "text/x-python",
   "name": "python",
   "nbconvert_exporter": "python",
   "pygments_lexer": "ipython3",
   "version": "3.8.13"
  }
 },
 "nbformat": 4,
 "nbformat_minor": 5
}
