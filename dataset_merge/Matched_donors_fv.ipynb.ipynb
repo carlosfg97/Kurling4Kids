{
 "cells": [
  {
   "cell_type": "markdown",
   "id": "96510fcf",
   "metadata": {},
   "source": [
    "**Resources Visited**\n",
    "\n",
    "https://machinelearningmastery.com/develop-word-embeddings-python-gensim/\n",
    "\n",
    "https://radimrehurek.com/gensim/models/word2vec.html\n",
    "\n",
    "https://radimrehurek.com/gensim/models/doc2vec.html"
   ]
  },
  {
   "cell_type": "code",
   "execution_count": 1,
   "id": "d9ec659f",
   "metadata": {},
   "outputs": [],
   "source": [
    "# !pip install gensim\n",
    "# !pip install --upgrade pandas\n",
    "# !pip install unidecode\n"
   ]
  },
  {
   "cell_type": "code",
   "execution_count": 1,
   "id": "3276af34",
   "metadata": {},
   "outputs": [
    {
     "data": {
      "text/plain": [
       "'1.3.5'"
      ]
     },
     "execution_count": 1,
     "metadata": {},
     "output_type": "execute_result"
    }
   ],
   "source": [
    "import pickle\n",
    "import pandas as pd\n",
    "import numpy as np\n",
    "pd.set_option('max_rows',200)\n",
    "\n",
    "pd.__version__ # 1.3 was necessary for the pickle read to run"
   ]
  },
  {
   "cell_type": "code",
   "execution_count": 8,
   "id": "8c942e8f",
   "metadata": {},
   "outputs": [],
   "source": [
    "# Reading the Pickle file\n",
    "filename = 'Organizations.xlsx'\n",
    "\n",
    "df = pd.read_excel('Organizations.xlsx')"
   ]
  },
  {
   "cell_type": "code",
   "execution_count": 14,
   "id": "35a0b8d6",
   "metadata": {},
   "outputs": [],
   "source": [
    "\n",
    "df['Interest'] =  df['DOMAINE DINTERET'].copy()\n"
   ]
  },
  {
   "cell_type": "code",
   "execution_count": 19,
   "id": "0daf208b",
   "metadata": {},
   "outputs": [],
   "source": [
    "df.Interest = df.Interest.dropna()"
   ]
  },
  {
   "cell_type": "code",
   "execution_count": null,
   "id": "1c8b4acd",
   "metadata": {},
   "outputs": [],
   "source": []
  },
  {
   "cell_type": "code",
   "execution_count": 21,
   "id": "30615c40",
   "metadata": {},
   "outputs": [],
   "source": [
    "# Extracting the raw corpus\n",
    "corpus = df.Interest.to_list()\n",
    "corpus = [str(i).lower() for i in corpus]   \n",
    "df_corpus = pd.DataFrame(corpus, columns = ['corpus1'])"
   ]
  },
  {
   "cell_type": "code",
   "execution_count": 22,
   "id": "5a4005e8",
   "metadata": {},
   "outputs": [
    {
     "data": {
      "text/plain": [
       "['éducation, environnement, santé et  bien-être seulement.',\n",
       " 'cancer, hôpitaux, maladies du coeur et  santé.',\n",
       " 'éducation, santé, bien-être, vétérans.',\n",
       " 'jeunesse (local seulement).',\n",
       " 'centraide, développement économique  et social, droits de la personne, éducation, enfants et jeunes, environnement, santé et sécurité.']"
      ]
     },
     "execution_count": 22,
     "metadata": {},
     "output_type": "execute_result"
    }
   ],
   "source": [
    "corpus[:5]"
   ]
  },
  {
   "cell_type": "markdown",
   "id": "b1c2f94f",
   "metadata": {},
   "source": [
    "## 1. NLP Preprocessing"
   ]
  },
  {
   "cell_type": "code",
   "execution_count": 23,
   "id": "aa37920b",
   "metadata": {},
   "outputs": [],
   "source": [
    "# nltk.download('wordnet')\n",
    "import nltk\n",
    "from nltk.tokenize import RegexpTokenizer\n",
    "from nltk.stem import WordNetLemmatizer,PorterStemmer\n",
    "from nltk.corpus import stopwords\n",
    "import re\n",
    "\n",
    "stopwords = stopwords.words('french') + stopwords.words('english') + ['/' ,'-', 'pour', 'ou', 'du', 'la', 'ou', 'de',\n",
    "         'avec', 'par', 'depuis','bien','a', 'd\\'un', '']\n",
    "\n",
    "def preprocess(sentence):\n",
    "    sentence=str(sentence)\n",
    "    sentence = sentence.lower()\n",
    "    sentence=sentence.replace('{html}',\"\") \n",
    "    cleanr = re.compile('<.*?>')\n",
    "    cleantext = re.sub(cleanr, '', sentence)\n",
    "    rem_url=re.sub(r'http\\S+', '',cleantext)\n",
    "    rem_num = re.sub('[0-9]+', '', rem_url)\n",
    "    tokenizer = RegexpTokenizer(r'\\w+')\n",
    "    tokens = tokenizer.tokenize(rem_num)  \n",
    "    filtered_words = [w for w in tokens if len(w) > 2 if not w in stopwords] #french stopwords\n",
    "    return \" \".join(filtered_words)"
   ]
  },
  {
   "cell_type": "code",
   "execution_count": 24,
   "id": "3c659d5e",
   "metadata": {},
   "outputs": [],
   "source": [
    "corpus2 = pd.Series(corpus).map(lambda s:preprocess(s)) \n",
    "\n",
    "df_corpus['corpus2'] = corpus2"
   ]
  },
  {
   "cell_type": "code",
   "execution_count": 25,
   "id": "910eeb32",
   "metadata": {},
   "outputs": [
    {
     "data": {
      "text/plain": [
       "0            éducation environnement santé être seulement\n",
       "1                    cancer hôpitaux maladies coeur santé\n",
       "2                           éducation santé être vétérans\n",
       "3                                jeunesse local seulement\n",
       "4       centraide développement économique social droi...\n",
       "                              ...                        \n",
       "1337    appui org communautaires éducation peuples aut...\n",
       "1338    engagement auprès communautés cris québec envi...\n",
       "1339    causes charitables général région bois francs ...\n",
       "1340    appuie plusieurs activités financement locales...\n",
       "1341                            organismes communautaires\n",
       "Length: 1342, dtype: object"
      ]
     },
     "execution_count": 25,
     "metadata": {},
     "output_type": "execute_result"
    }
   ],
   "source": [
    "corpus2"
   ]
  },
  {
   "cell_type": "code",
   "execution_count": 70,
   "id": "cad5c397",
   "metadata": {},
   "outputs": [],
   "source": [
    "# !pip install sentencepiece"
   ]
  },
  {
   "cell_type": "code",
   "execution_count": 107,
   "id": "880f1b49",
   "metadata": {},
   "outputs": [],
   "source": [
    "# !pip install -U sentence-transformers\n"
   ]
  },
  {
   "cell_type": "code",
   "execution_count": 112,
   "id": "8a53a612",
   "metadata": {},
   "outputs": [
    {
     "name": "stderr",
     "output_type": "stream",
     "text": [
      "Downloading: 100%|██████████| 690/690 [00:00<00:00, 230kB/s]\n",
      "Downloading: 100%|██████████| 190/190 [00:00<00:00, 48.7kB/s]\n",
      "Downloading: 100%|██████████| 114/114 [00:00<00:00, 30.8kB/s]\n",
      "Downloading: 100%|██████████| 1.58M/1.58M [00:00<00:00, 17.0MB/s]\n",
      "Downloading: 100%|██████████| 2.38k/2.38k [00:00<00:00, 1.15MB/s]\n",
      "Downloading: 100%|██████████| 556/556 [00:00<00:00, 130kB/s]\n",
      "Downloading: 100%|██████████| 122/122 [00:00<00:00, 62.8kB/s]\n",
      "Downloading: 100%|██████████| 539M/539M [00:23<00:00, 23.2MB/s] \n",
      "Downloading: 100%|██████████| 53.0/53.0 [00:00<00:00, 17.8kB/s]\n",
      "Downloading: 100%|██████████| 112/112 [00:00<00:00, 20.4kB/s]\n",
      "Downloading: 100%|██████████| 1.96M/1.96M [00:00<00:00, 12.7MB/s]\n",
      "Downloading: 100%|██████████| 452/452 [00:00<00:00, 75.3kB/s]\n",
      "Downloading: 100%|██████████| 996k/996k [00:00<00:00, 7.37MB/s]\n",
      "Downloading: 100%|██████████| 341/341 [00:00<00:00, 85.2kB/s]\n"
     ]
    }
   ],
   "source": [
    "from sentence_transformers import SentenceTransformer\n",
    "model = SentenceTransformer('distiluse-base-multilingual-cased-v1')\n",
    "# 1st: find best lang model\n"
   ]
  },
  {
   "cell_type": "code",
   "execution_count": 116,
   "id": "e7192939",
   "metadata": {},
   "outputs": [],
   "source": [
    "sentences = corpus3.tolist()"
   ]
  },
  {
   "cell_type": "code",
   "execution_count": 129,
   "id": "7a6c63e7",
   "metadata": {},
   "outputs": [],
   "source": [
    "embeddings = [model.encode(i) for i in sentences]"
   ]
  },
  {
   "cell_type": "code",
   "execution_count": 200,
   "id": "d6f814c9",
   "metadata": {},
   "outputs": [],
   "source": [
    "from scipy import spatial\n",
    "\n",
    "def get_similarity(x,y):\n",
    "    result = 1 - spatial.distance.cosine(x, y)\n",
    "\n",
    "    return result"
   ]
  },
  {
   "cell_type": "code",
   "execution_count": 202,
   "id": "c00f1864",
   "metadata": {},
   "outputs": [],
   "source": [
    "\n",
    "sim_scores = []\n",
    "\n",
    "\n",
    "for s1, e1 in zip(sentences, embeddings):\n",
    "    for s2, e2 in zip(sentences, embeddings):\n",
    "\n",
    "        if s1 == s2:\n",
    "            continue\n",
    "\n",
    "        sim_score = get_similarity(e1, e2)\n",
    "\n",
    "        row = [s1, s2, sim_score]\n",
    "\n",
    "        sim_scores.append(row)\n",
    "\n",
    "        \n",
    "\n"
   ]
  },
  {
   "cell_type": "code",
   "execution_count": 204,
   "id": "b6459611",
   "metadata": {},
   "outputs": [],
   "source": [
    "df_similarity = pd.DataFrame(data=sim_scores, columns = ['Sentence1', 'Sentence2', 'Similarity'])"
   ]
  },
  {
   "cell_type": "code",
   "execution_count": 209,
   "id": "0e29c70d",
   "metadata": {},
   "outputs": [
    {
     "data": {
      "text/html": [
       "<div>\n",
       "<style scoped>\n",
       "    .dataframe tbody tr th:only-of-type {\n",
       "        vertical-align: middle;\n",
       "    }\n",
       "\n",
       "    .dataframe tbody tr th {\n",
       "        vertical-align: top;\n",
       "    }\n",
       "\n",
       "    .dataframe thead th {\n",
       "        text-align: right;\n",
       "    }\n",
       "</style>\n",
       "<table border=\"1\" class=\"dataframe\">\n",
       "  <thead>\n",
       "    <tr style=\"text-align: right;\">\n",
       "      <th></th>\n",
       "      <th>Sentence1</th>\n",
       "      <th>Sentence2</th>\n",
       "      <th>Similarity</th>\n",
       "    </tr>\n",
       "  </thead>\n",
       "  <tbody>\n",
       "    <tr>\n",
       "      <th>1179205</th>\n",
       "      <td>être sociétal environnement jeux génie québec fondation cancer sein fondation sourdine maison pignon bleu</td>\n",
       "      <td>fondation centre cancérologie charles bruneau fondation mélio jour terre québec</td>\n",
       "      <td>0.609712</td>\n",
       "    </tr>\n",
       "    <tr>\n",
       "      <th>1179148</th>\n",
       "      <td>être sociétal environnement jeux génie québec fondation cancer sein fondation sourdine maison pignon bleu</td>\n",
       "      <td>fondation hôpital général lakeshore fondation institut gériatrie montréal société alzheimer maison victor gadbois société cancer etc</td>\n",
       "      <td>0.586582</td>\n",
       "    </tr>\n",
       "    <tr>\n",
       "      <th>1179063</th>\n",
       "      <td>être sociétal environnement jeux génie québec fondation cancer sein fondation sourdine maison pignon bleu</td>\n",
       "      <td>appuie fondation canadienne cancer sein commandite course vie cibc environnement sécurité</td>\n",
       "      <td>0.583719</td>\n",
       "    </tr>\n",
       "    <tr>\n",
       "      <th>1178628</th>\n",
       "      <td>être sociétal environnement jeux génie québec fondation cancer sein fondation sourdine maison pignon bleu</td>\n",
       "      <td>centraide fondation cancer sein québec opération père noël société canadienne cancer fondation centre jeunesse québec</td>\n",
       "      <td>0.578907</td>\n",
       "    </tr>\n",
       "    <tr>\n",
       "      <th>1178745</th>\n",
       "      <td>être sociétal environnement jeux génie québec fondation cancer sein fondation sourdine maison pignon bleu</td>\n",
       "      <td>rêves enfants société canadienne cancer relais vie jeux québec</td>\n",
       "      <td>0.576309</td>\n",
       "    </tr>\n",
       "    <tr>\n",
       "      <th>...</th>\n",
       "      <td>...</td>\n",
       "      <td>...</td>\n",
       "      <td>...</td>\n",
       "    </tr>\n",
       "    <tr>\n",
       "      <th>98849</th>\n",
       "      <td>accès emploi activités culturelles centraide éducation entraide bécancour environnement loisirs santé sécurité économique services sociaux</td>\n",
       "      <td>évènements spéciaux</td>\n",
       "      <td>-0.022450</td>\n",
       "    </tr>\n",
       "    <tr>\n",
       "      <th>97779</th>\n",
       "      <td>accès emploi activités culturelles centraide éducation entraide bécancour environnement loisirs santé sécurité économique services sociaux</td>\n",
       "      <td>causes femmes</td>\n",
       "      <td>-0.031423</td>\n",
       "    </tr>\n",
       "    <tr>\n",
       "      <th>98507</th>\n",
       "      <td>accès emploi activités culturelles centraide éducation entraide bécancour environnement loisirs santé sécurité économique services sociaux</td>\n",
       "      <td>aînés</td>\n",
       "      <td>-0.039549</td>\n",
       "    </tr>\n",
       "    <tr>\n",
       "      <th>97805</th>\n",
       "      <td>accès emploi activités culturelles centraide éducation entraide bécancour environnement loisirs santé sécurité économique services sociaux</td>\n",
       "      <td>nan</td>\n",
       "      <td>-0.041951</td>\n",
       "    </tr>\n",
       "    <tr>\n",
       "      <th>97724</th>\n",
       "      <td>accès emploi activités culturelles centraide éducation entraide bécancour environnement loisirs santé sécurité économique services sociaux</td>\n",
       "      <td>général</td>\n",
       "      <td>-0.080752</td>\n",
       "    </tr>\n",
       "  </tbody>\n",
       "</table>\n",
       "<p>721650 rows × 3 columns</p>\n",
       "</div>"
      ],
      "text/plain": [
       "                                                                                                                                          Sentence1  \\\n",
       "1179205                                   être sociétal environnement jeux génie québec fondation cancer sein fondation sourdine maison pignon bleu   \n",
       "1179148                                   être sociétal environnement jeux génie québec fondation cancer sein fondation sourdine maison pignon bleu   \n",
       "1179063                                   être sociétal environnement jeux génie québec fondation cancer sein fondation sourdine maison pignon bleu   \n",
       "1178628                                   être sociétal environnement jeux génie québec fondation cancer sein fondation sourdine maison pignon bleu   \n",
       "1178745                                   être sociétal environnement jeux génie québec fondation cancer sein fondation sourdine maison pignon bleu   \n",
       "...                                                                                                                                             ...   \n",
       "98849    accès emploi activités culturelles centraide éducation entraide bécancour environnement loisirs santé sécurité économique services sociaux   \n",
       "97779    accès emploi activités culturelles centraide éducation entraide bécancour environnement loisirs santé sécurité économique services sociaux   \n",
       "98507    accès emploi activités culturelles centraide éducation entraide bécancour environnement loisirs santé sécurité économique services sociaux   \n",
       "97805    accès emploi activités culturelles centraide éducation entraide bécancour environnement loisirs santé sécurité économique services sociaux   \n",
       "97724    accès emploi activités culturelles centraide éducation entraide bécancour environnement loisirs santé sécurité économique services sociaux   \n",
       "\n",
       "                                                                                                                                    Sentence2  \\\n",
       "1179205                                                       fondation centre cancérologie charles bruneau fondation mélio jour terre québec   \n",
       "1179148  fondation hôpital général lakeshore fondation institut gériatrie montréal société alzheimer maison victor gadbois société cancer etc   \n",
       "1179063                                             appuie fondation canadienne cancer sein commandite course vie cibc environnement sécurité   \n",
       "1178628                 centraide fondation cancer sein québec opération père noël société canadienne cancer fondation centre jeunesse québec   \n",
       "1178745                                                                        rêves enfants société canadienne cancer relais vie jeux québec   \n",
       "...                                                                                                                                       ...   \n",
       "98849                                                                                                                     évènements spéciaux   \n",
       "97779                                                                                                                           causes femmes   \n",
       "98507                                                                                                                                   aînés   \n",
       "97805                                                                                                                                     nan   \n",
       "97724                                                                                                                                 général   \n",
       "\n",
       "         Similarity  \n",
       "1179205    0.609712  \n",
       "1179148    0.586582  \n",
       "1179063    0.583719  \n",
       "1178628    0.578907  \n",
       "1178745    0.576309  \n",
       "...             ...  \n",
       "98849     -0.022450  \n",
       "97779     -0.031423  \n",
       "98507     -0.039549  \n",
       "97805     -0.041951  \n",
       "97724     -0.080752  \n",
       "\n",
       "[721650 rows x 3 columns]"
      ]
     },
     "execution_count": 209,
     "metadata": {},
     "output_type": "execute_result"
    }
   ],
   "source": [
    "df_similarity.sort_values(['Sentence1', 'Similarity'], ascending=False).drop_duplicates()"
   ]
  },
  {
   "cell_type": "code",
   "execution_count": 194,
   "id": "6331d058",
   "metadata": {},
   "outputs": [
    {
     "data": {
      "text/plain": [
       "'éducation environnement santé être seulement'"
      ]
     },
     "execution_count": 194,
     "metadata": {},
     "output_type": "execute_result"
    }
   ],
   "source": [
    "sentences[0]"
   ]
  },
  {
   "cell_type": "code",
   "execution_count": 195,
   "id": "4106cf71",
   "metadata": {},
   "outputs": [
    {
     "data": {
      "text/plain": [
       "'cancer hôpitaux maladies coeur santé'"
      ]
     },
     "execution_count": 195,
     "metadata": {},
     "output_type": "execute_result"
    }
   ],
   "source": [
    "sentences[1]"
   ]
  },
  {
   "cell_type": "code",
   "execution_count": 130,
   "id": "1506373c",
   "metadata": {},
   "outputs": [],
   "source": [
    "corpus3['emb'] = embeddings"
   ]
  },
  {
   "cell_type": "code",
   "execution_count": 166,
   "id": "08128ba7",
   "metadata": {},
   "outputs": [],
   "source": [
    "# !pip install umap-learn"
   ]
  },
  {
   "cell_type": "code",
   "execution_count": 132,
   "id": "88b7227c",
   "metadata": {},
   "outputs": [],
   "source": [
    "import umap\n",
    "umap_embeddings = umap.UMAP(n_neighbors=15, \n",
    "                            n_components=5, \n",
    "                            metric='cosine').fit_transform(embeddings)"
   ]
  },
  {
   "cell_type": "code",
   "execution_count": 180,
   "id": "eb7bf44f",
   "metadata": {},
   "outputs": [],
   "source": [
    "from sklearn.cluster import KMeans\n",
    "\n",
    "kmeans = KMeans(n_clusters=4, random_state=0).fit(embeddings) #7"
   ]
  },
  {
   "cell_type": "code",
   "execution_count": 181,
   "id": "9b3fe2ba",
   "metadata": {},
   "outputs": [],
   "source": [
    "df['interest_domain_cluster'] = kmeans.labels_"
   ]
  },
  {
   "cell_type": "code",
   "execution_count": 182,
   "id": "4d6a5558",
   "metadata": {},
   "outputs": [
    {
     "data": {
      "text/plain": [
       "3    40.760060\n",
       "2    21.162444\n",
       "0    20.789866\n",
       "1    17.287630\n",
       "Name: interest_domain_cluster, dtype: float64"
      ]
     },
     "execution_count": 182,
     "metadata": {},
     "output_type": "execute_result"
    }
   ],
   "source": [
    "df['interest_domain_cluster'].value_counts(normalize=True)*100"
   ]
  },
  {
   "cell_type": "code",
   "execution_count": 188,
   "id": "78213b3e",
   "metadata": {},
   "outputs": [
    {
     "data": {
      "text/plain": [
       "interest_domain_cluster\n",
       "0    0.163636\n",
       "1    0.127273\n",
       "2    0.163636\n",
       "3    0.545455\n",
       "Name: IS_PAST_DONOR, dtype: float64"
      ]
     },
     "execution_count": 188,
     "metadata": {},
     "output_type": "execute_result"
    }
   ],
   "source": [
    "df.groupby('interest_domain_cluster')['IS_PAST_DONOR'].sum()/df.IS_PAST_DONOR.sum()"
   ]
  },
  {
   "cell_type": "code",
   "execution_count": 189,
   "id": "d0073c54",
   "metadata": {},
   "outputs": [],
   "source": [
    "pd.set_option('display.max_colwidth', None)\n",
    "\n"
   ]
  },
  {
   "cell_type": "code",
   "execution_count": 185,
   "id": "e10bb65e",
   "metadata": {},
   "outputs": [
    {
     "data": {
      "text/plain": [
       "0                  Éducation, environnement, santé et  bien-être seulement.\n",
       "1                            Cancer, hôpitaux, maladies du coeur et  santé.\n",
       "2                                    Éducation, Santé, Bien-être, Vétérans.\n",
       "3                                               Jeunesse (local seulement).\n",
       "5       Maladies tropicales, négligées et  dangereuses, éducation, animaux.\n",
       "                                       ...                                 \n",
       "1303                             Environnement, développement et recherche.\n",
       "1324                          Privilégie Centraide Laurentides et la santé.\n",
       "1328                               Privilégie le domaine de  l'agriculture.\n",
       "1330                                              Environnement, Centraide.\n",
       "1334                    Privilégie la santé et organismes locaux seulement.\n",
       "Name: DOMAINE DINTERET, Length: 212, dtype: object"
      ]
     },
     "execution_count": 185,
     "metadata": {},
     "output_type": "execute_result"
    }
   ],
   "source": [
    "df.loc[ df['interest_domain_cluster'] == 0, 'DOMAINE DINTERET'].drop_duplicates()"
   ]
  },
  {
   "cell_type": "code",
   "execution_count": 151,
   "id": "cdcb7a81",
   "metadata": {},
   "outputs": [],
   "source": [
    "df_pd = pd.read_pickle('dataset.pickle')"
   ]
  },
  {
   "cell_type": "code",
   "execution_count": 155,
   "id": "9284275a",
   "metadata": {},
   "outputs": [],
   "source": [
    "pd_index = df_pd.ID.drop_duplicates().tolist()"
   ]
  },
  {
   "cell_type": "code",
   "execution_count": 156,
   "id": "7429f837",
   "metadata": {},
   "outputs": [
    {
     "data": {
      "text/plain": [
       "[1312,\n",
       " 1278,\n",
       " 1139,\n",
       " 1334,\n",
       " 271,\n",
       " 67,\n",
       " 846,\n",
       " 489,\n",
       " 1142,\n",
       " 1182,\n",
       " 1244,\n",
       " 742,\n",
       " 366,\n",
       " 289,\n",
       " 337,\n",
       " 237,\n",
       " 236,\n",
       " 178,\n",
       " 704,\n",
       " 114,\n",
       " 1091,\n",
       " 373,\n",
       " 138,\n",
       " 433,\n",
       " 58,\n",
       " 511,\n",
       " 261,\n",
       " 1043,\n",
       " 1108,\n",
       " 400,\n",
       " 1167,\n",
       " 212,\n",
       " 851,\n",
       " 823,\n",
       " 759,\n",
       " 483,\n",
       " 588,\n",
       " 639,\n",
       " 811,\n",
       " 53,\n",
       " 726,\n",
       " 137,\n",
       " 723,\n",
       " 555,\n",
       " 1040,\n",
       " 87,\n",
       " 235,\n",
       " 362,\n",
       " 730,\n",
       " 971,\n",
       " 677,\n",
       " 259,\n",
       " 121,\n",
       " 1286,\n",
       " 110]"
      ]
     },
     "execution_count": 156,
     "metadata": {},
     "output_type": "execute_result"
    }
   ],
   "source": [
    "pd_index"
   ]
  },
  {
   "cell_type": "code",
   "execution_count": 158,
   "id": "94739c79",
   "metadata": {},
   "outputs": [],
   "source": [
    "df['IS_PAST_DONOR'] = 0\n",
    "df.loc[df.ID.isin(pd_index), 'IS_PAST_DONOR'] = 1"
   ]
  },
  {
   "cell_type": "code",
   "execution_count": 162,
   "id": "39eda8f8",
   "metadata": {},
   "outputs": [
    {
     "data": {
      "text/plain": [
       "interest_domain_cluster\n",
       "0     5\n",
       "1    36\n",
       "2     4\n",
       "3     1\n",
       "4     0\n",
       "5     6\n",
       "6     3\n",
       "Name: IS_PAST_DONOR, dtype: int64"
      ]
     },
     "execution_count": 162,
     "metadata": {},
     "output_type": "execute_result"
    }
   ],
   "source": [
    "numerator = df.groupby('interest_domain_cluster')['IS_PAST_DONOR'].sum()"
   ]
  },
  {
   "cell_type": "code",
   "execution_count": 164,
   "id": "981bc013",
   "metadata": {},
   "outputs": [
    {
     "data": {
      "text/plain": [
       "interest_domain_cluster\n",
       "0    185\n",
       "1    545\n",
       "2     84\n",
       "3    131\n",
       "4     54\n",
       "5    292\n",
       "6     51\n",
       "Name: IS_PAST_DONOR, dtype: int64"
      ]
     },
     "execution_count": 164,
     "metadata": {},
     "output_type": "execute_result"
    }
   ],
   "source": [
    "df.groupby('interest_domain_cluster')['IS_PAST_DONOR'].count()"
   ]
  },
  {
   "cell_type": "code",
   "execution_count": 165,
   "id": "46ee8841",
   "metadata": {},
   "outputs": [],
   "source": [
    "df.to_clipboard(index=None)"
   ]
  },
  {
   "cell_type": "code",
   "execution_count": 210,
   "id": "1392d779",
   "metadata": {},
   "outputs": [
    {
     "data": {
      "text/html": [
       "<div>\n",
       "<style scoped>\n",
       "    .dataframe tbody tr th:only-of-type {\n",
       "        vertical-align: middle;\n",
       "    }\n",
       "\n",
       "    .dataframe tbody tr th {\n",
       "        vertical-align: top;\n",
       "    }\n",
       "\n",
       "    .dataframe thead th {\n",
       "        text-align: right;\n",
       "    }\n",
       "</style>\n",
       "<table border=\"1\" class=\"dataframe\">\n",
       "  <thead>\n",
       "    <tr style=\"text-align: right;\">\n",
       "      <th></th>\n",
       "      <th>ID</th>\n",
       "      <th>2E CONTACT POUR</th>\n",
       "      <th>ADDRESS</th>\n",
       "      <th>AVIS</th>\n",
       "      <th>CONTACT</th>\n",
       "      <th>CONTRIBUTION</th>\n",
       "      <th>COURRIEL</th>\n",
       "      <th>DDD</th>\n",
       "      <th>DOMAINE DINTERET</th>\n",
       "      <th>FAF</th>\n",
       "      <th>...</th>\n",
       "      <th>NBRE DE SUCC</th>\n",
       "      <th>NOMBRE DEMPLOYES</th>\n",
       "      <th>NOTE</th>\n",
       "      <th>POSTE</th>\n",
       "      <th>PRINCIP FILIALES</th>\n",
       "      <th>SECTEUR INDUSTRIEL</th>\n",
       "      <th>SITE WEB</th>\n",
       "      <th>Interest</th>\n",
       "      <th>interest_domain_cluster</th>\n",
       "      <th>IS_PAST_DONOR</th>\n",
       "    </tr>\n",
       "  </thead>\n",
       "  <tbody>\n",
       "    <tr>\n",
       "      <th>0</th>\n",
       "      <td>1</td>\n",
       "      <td>NaN</td>\n",
       "      <td>7290, rue Frederick Banting  Saint-Laurent QC  H4T1Z2</td>\n",
       "      <td>Dons autres qu'en argent. Dons en « temps » (bénévolat). Faire les demandes par : courrier, courriel.</td>\n",
       "      <td>Madame Leanne Hayward, Superviseur aux communications</td>\n",
       "      <td>Dons &amp; commandite</td>\n",
       "      <td>lhayward@mmm.com</td>\n",
       "      <td>En tout temps</td>\n",
       "      <td>Éducation, environnement, santé et  bien-être seulement.</td>\n",
       "      <td>31 décembre</td>\n",
       "      <td>...</td>\n",
       "      <td>NaN</td>\n",
       "      <td>100</td>\n",
       "      <td>Toute demande de dons ou de commandites doit être envoyée à Mme  Hayward par la poste ou par courriel à : lhayward@mmm.com.</td>\n",
       "      <td>2390</td>\n",
       "      <td>NaN</td>\n",
       "      <td>Équipement et services industriels; Fabrication de peintures, de revêtements et de rubans adhésifs, abrasifs, produits de soins de santé et télécommunications.</td>\n",
       "      <td>https://www.3mcanada.ca/</td>\n",
       "      <td>Éducation, environnement, santé et  bien-être seulement.</td>\n",
       "      <td>0</td>\n",
       "      <td>0</td>\n",
       "    </tr>\n",
       "    <tr>\n",
       "      <th>1</th>\n",
       "      <td>2</td>\n",
       "      <td>DonsMadame Marie-Josée Dery, Coordonnatrice Capital Humain</td>\n",
       "      <td>305, 12e Avenue  Richelieu QC  J3L3T2</td>\n",
       "      <td>Faire les demandes par : courrier.</td>\n",
       "      <td>Monsieur Claude Cardin, Président</td>\n",
       "      <td>Dons</td>\n",
       "      <td>mjdery@prevost-architectural.com;  info@prevost-architectural.com</td>\n",
       "      <td>En tout temps</td>\n",
       "      <td>Cancer, hôpitaux, maladies du coeur et  santé.</td>\n",
       "      <td>31 décembre</td>\n",
       "      <td>...</td>\n",
       "      <td>NaN</td>\n",
       "      <td>200</td>\n",
       "      <td>NaN</td>\n",
       "      <td>NaN</td>\n",
       "      <td>NaN</td>\n",
       "      <td>Matériaux de construction, manufacturiers; Fabrication de produits d'architecture, d'éléments de charpentes métalliques et traitement anodique.</td>\n",
       "      <td>www.adprevost.ca</td>\n",
       "      <td>Cancer, hôpitaux, maladies du coeur et  santé.</td>\n",
       "      <td>0</td>\n",
       "      <td>0</td>\n",
       "    </tr>\n",
       "    <tr>\n",
       "      <th>2</th>\n",
       "      <td>3</td>\n",
       "      <td>NaN</td>\n",
       "      <td>3750, chemin de l'aéroport  Trois-Rivières  QC  G9B2N8</td>\n",
       "      <td>Faire les demandes par : courriel.</td>\n",
       "      <td>Madame Elizabeth Vautour, Adjointe exécutive au vice-président des opérations</td>\n",
       "      <td>Dons</td>\n",
       "      <td>elizabeth.vautour@aarcorp.com; comptabilite@aarcorp.com</td>\n",
       "      <td>En tout temps</td>\n",
       "      <td>Éducation, Santé, Bien-être, Vétérans.</td>\n",
       "      <td>31 décembre</td>\n",
       "      <td>...</td>\n",
       "      <td>NaN</td>\n",
       "      <td>340</td>\n",
       "      <td>Envoyer votre demande de dons par  courriel à  Mme Vautour, Adjoint au V.P. des opérations à :  elizabeth.vautour@aarcorp.com.</td>\n",
       "      <td>3201</td>\n",
       "      <td>NaN</td>\n",
       "      <td>Offre des services d'entretien, de réparation et de révision (MRO) d'aéronefs.</td>\n",
       "      <td>https://www.aarcorp.com</td>\n",
       "      <td>Éducation, Santé, Bien-être, Vétérans.</td>\n",
       "      <td>0</td>\n",
       "      <td>0</td>\n",
       "    </tr>\n",
       "    <tr>\n",
       "      <th>3</th>\n",
       "      <td>4</td>\n",
       "      <td>NaN</td>\n",
       "      <td>800 boul. Hymes  Saint-Laurent QC  H4S0B5</td>\n",
       "      <td>Faire les demandes par : courrier, fax.</td>\n",
       "      <td>Madame Carley Tietolman, Responsable des dons et commandites</td>\n",
       "      <td>Dons &amp; commandite</td>\n",
       "      <td>NaN</td>\n",
       "      <td>En tout temps</td>\n",
       "      <td>Jeunesse (local seulement).</td>\n",
       "      <td>NaN</td>\n",
       "      <td>...</td>\n",
       "      <td>NaN</td>\n",
       "      <td>160</td>\n",
       "      <td>Toute demande de dons ou de commandites doit être envoyée par  courrier ou par télécopieur et  adressez votre demande au  responsable des don ou des  commandites.</td>\n",
       "      <td>NaN</td>\n",
       "      <td>NaN</td>\n",
       "      <td>Équipement et services industriels; Fabriquer des poulies, bagues, poulies et roues dentées synchrones, poulies étagées et accouplements élastomères de la plus haute qualité possible dans le marché.</td>\n",
       "      <td>http://new.abb.com/ca</td>\n",
       "      <td>Jeunesse (local seulement).</td>\n",
       "      <td>0</td>\n",
       "      <td>0</td>\n",
       "    </tr>\n",
       "    <tr>\n",
       "      <th>4</th>\n",
       "      <td>5</td>\n",
       "      <td>NaN</td>\n",
       "      <td>800 boul. Hymes  Saint-Laurent QC  H4S0B5</td>\n",
       "      <td>Faire les demandes par : courrier.</td>\n",
       "      <td>Monsieur Guido Mussehl, Contrôleur Finances</td>\n",
       "      <td>Dons &amp; commandite</td>\n",
       "      <td>guido.mussehl@ca.abb.comMadame Nathalie Arsenault, Assist. au Président ; contact.center@ca.abb.com; nathalie.m.arsenault@ca.abb.com</td>\n",
       "      <td>En tout temps</td>\n",
       "      <td>Centraide, développement économique  et social, droits de la personne, éducation, enfants et jeunes, environnement, santé et sécurité.</td>\n",
       "      <td>31 décembre</td>\n",
       "      <td>...</td>\n",
       "      <td>NaN</td>\n",
       "      <td>1 400</td>\n",
       "      <td>Par courrier seulement.</td>\n",
       "      <td>NaN</td>\n",
       "      <td>NaN</td>\n",
       "      <td>Commerce de gros et détail; Grossistes-distributeurs de produits pétroliers, équipement, technologie, transport d'énergie, technologie de l'automatisation, gaz, pétrochimie.</td>\n",
       "      <td>www.ABB.com/ca</td>\n",
       "      <td>Centraide, développement économique  et social, droits de la personne, éducation, enfants et jeunes, environnement, santé et sécurité.</td>\n",
       "      <td>3</td>\n",
       "      <td>0</td>\n",
       "    </tr>\n",
       "    <tr>\n",
       "      <th>...</th>\n",
       "      <td>...</td>\n",
       "      <td>...</td>\n",
       "      <td>...</td>\n",
       "      <td>...</td>\n",
       "      <td>...</td>\n",
       "      <td>...</td>\n",
       "      <td>...</td>\n",
       "      <td>...</td>\n",
       "      <td>...</td>\n",
       "      <td>...</td>\n",
       "      <td>...</td>\n",
       "      <td>...</td>\n",
       "      <td>...</td>\n",
       "      <td>...</td>\n",
       "      <td>...</td>\n",
       "      <td>...</td>\n",
       "      <td>...</td>\n",
       "      <td>...</td>\n",
       "      <td>...</td>\n",
       "      <td>...</td>\n",
       "      <td>...</td>\n",
       "    </tr>\n",
       "    <tr>\n",
       "      <th>1337</th>\n",
       "      <td>1338</td>\n",
       "      <td>NaN</td>\n",
       "      <td>3400, boul. de Maisonneuve O., bur. 900  Montréal QC  H3Z3G1</td>\n",
       "      <td>Dons en « temps » (bénévolat). Faire les demandes par : courrier, fax.</td>\n",
       "      <td>Madame Cynthia Laberge, Adjointe Marketing</td>\n",
       "      <td>Dons</td>\n",
       "      <td>cynthia.laberge@xerox.com</td>\n",
       "      <td>En tout temps</td>\n",
       "      <td>Appui aux org. communautaires, éducation, peuples autochtones, femmes, personnes handicapées, environnement, sécurité et santé (enfants).</td>\n",
       "      <td>31 décembre</td>\n",
       "      <td>...</td>\n",
       "      <td>NaN</td>\n",
       "      <td>450</td>\n",
       "      <td>Sur le site web sélectionner :  À propos de Xerox (bas de  page), Responsabilité sociale de  l'entreprise.</td>\n",
       "      <td>NaN</td>\n",
       "      <td>Xerox Canada, Société de financement Xerox; Xerox Canada, Société de financement Xerox</td>\n",
       "      <td>Commerce de gros et détail; Équipement, systèmes et fournitures de bureau, services financiers.</td>\n",
       "      <td>https://www.xerox.ca</td>\n",
       "      <td>Appui aux org. communautaires, éducation, peuples autochtones, femmes, personnes handicapées, environnement, sécurité et santé (enfants).</td>\n",
       "      <td>3</td>\n",
       "      <td>0</td>\n",
       "    </tr>\n",
       "    <tr>\n",
       "      <th>1338</th>\n",
       "      <td>1339</td>\n",
       "      <td>NaN</td>\n",
       "      <td>1301, rue Ampère  Boucherville QC  J4B5Z5</td>\n",
       "      <td>Dons en « temps » (bénévolat). Faire les demandes par : courrier. L'entreprise possède une liste d'org. « privilégiés ».</td>\n",
       "      <td>Vice-président Finances</td>\n",
       "      <td>Dons &amp; commandite</td>\n",
       "      <td>NaN</td>\n",
       "      <td>Avril à juin</td>\n",
       "      <td>Engagement auprès des communautés  (Cris du Québec), environnement, oeuvres de charité et Association canadienne en santé mentale en offrant des emplois à bon nombre de clients, dans les régions où vivent et travaillent les employés.</td>\n",
       "      <td>31 mars</td>\n",
       "      <td>...</td>\n",
       "      <td>NaN</td>\n",
       "      <td>NaN</td>\n",
       "      <td>Quatre nouveaux organismes sont choisis à chaque  année.; Les demandes sont acheminées au : 480 Gordon,  Baker Rd, Toronto ON M2H3B4, Tél.: 416-498-1911 ext. 19.</td>\n",
       "      <td>NaN</td>\n",
       "      <td>NaN</td>\n",
       "      <td>Produits récréatifs; Fabricant d'une gamme de motoneiges, motocyclettes, scooters, bâteaux, moteurs hors-bord etc.</td>\n",
       "      <td>www.yamaha-motor.ca</td>\n",
       "      <td>Engagement auprès des communautés  (Cris du Québec), environnement, oeuvres de charité et Association canadienne en santé mentale en offrant des emplois à bon nombre de clients, dans les régions où vivent et travaillent les employés.</td>\n",
       "      <td>3</td>\n",
       "      <td>0</td>\n",
       "    </tr>\n",
       "    <tr>\n",
       "      <th>1339</th>\n",
       "      <td>1340</td>\n",
       "      <td>NaN</td>\n",
       "      <td>40, rue du Moulin  Warwick QC  J0A1M0</td>\n",
       "      <td>Faire les demandes par : courrier.</td>\n",
       "      <td>Madame Renée-Maude Jalbert, Directeure Marketing</td>\n",
       "      <td>Commandite</td>\n",
       "      <td>renee-maude.jalbert@yum-yum.com</td>\n",
       "      <td>En tout temps</td>\n",
       "      <td>Causes charitables en général, région  des Bois-Francs et Centre du Québec  seulement.</td>\n",
       "      <td>NaN</td>\n",
       "      <td>...</td>\n",
       "      <td>NaN</td>\n",
       "      <td>250</td>\n",
       "      <td>Prévoir un délai de 4 semaines pour l'étude d'un dossier.</td>\n",
       "      <td>NaN</td>\n",
       "      <td>NaN</td>\n",
       "      <td>Alimentation; Fabricant de croustilles et grignotines.</td>\n",
       "      <td>www.yum-yum.com</td>\n",
       "      <td>Causes charitables en général, région  des Bois-Francs et Centre du Québec  seulement.</td>\n",
       "      <td>3</td>\n",
       "      <td>0</td>\n",
       "    </tr>\n",
       "    <tr>\n",
       "      <th>1340</th>\n",
       "      <td>1341</td>\n",
       "      <td>NaN</td>\n",
       "      <td>860, boul. Gérard-Cadieux  Salaberry-de-Valleyfield QC  J6T6L4</td>\n",
       "      <td>Faire les demandes par : courrier, courriel.</td>\n",
       "      <td>Monsieur Sylvain Lirette, Directeur des finances et administration</td>\n",
       "      <td>Dons &amp; commandite</td>\n",
       "      <td>info.cezinc@glencore-ca.com; info.cezinc@glencore-ca.com</td>\n",
       "      <td>En tout temps</td>\n",
       "      <td>Appuie plusieurs activités de financement, locales et des oeuvres de bienfaisance dans le domaine de la santé, de l'éducation, des sports et soutien communautaire et protection de l'environnement.</td>\n",
       "      <td>31 décembre</td>\n",
       "      <td>...</td>\n",
       "      <td>NaN</td>\n",
       "      <td>545</td>\n",
       "      <td>Sur le site web, sélectionner:  Développement durable, Engagement  envers la communauté.</td>\n",
       "      <td>NaN</td>\n",
       "      <td>NaN</td>\n",
       "      <td>Produits d'acier et de métal; Producteur de zinc pour les sociétés automobiles, de construction, pharmaceutiques et biens de consommation.</td>\n",
       "      <td>http://www.cezinc.com</td>\n",
       "      <td>Appuie plusieurs activités de financement, locales et des oeuvres de bienfaisance dans le domaine de la santé, de l'éducation, des sports et soutien communautaire et protection de l'environnement.</td>\n",
       "      <td>3</td>\n",
       "      <td>0</td>\n",
       "    </tr>\n",
       "    <tr>\n",
       "      <th>1341</th>\n",
       "      <td>1342</td>\n",
       "      <td>NaN</td>\n",
       "      <td>1100, boul. René-Lévesque O., bur. 1840  Montréal QC  H3B4N4</td>\n",
       "      <td>Faire les demandes par : courrier, courriel.</td>\n",
       "      <td>Monsieur Éric Fournier, Président</td>\n",
       "      <td>Dons</td>\n",
       "      <td>commercial.qc@zurich.com ; commercial.qc@zurich.com</td>\n",
       "      <td>En tout temps</td>\n",
       "      <td>Organismes communautaires.</td>\n",
       "      <td>NaN</td>\n",
       "      <td>...</td>\n",
       "      <td>NaN</td>\n",
       "      <td>NaN</td>\n",
       "      <td>Soumettre votre demande de dons à M. Fournier, Président, par la poste ou par courriel à :   commercial.qc@zurich.com.</td>\n",
       "      <td>NaN</td>\n",
       "      <td>Groupe Zurich Financial Services</td>\n",
       "      <td>Services financiers; Services financiers liés à l'assurance pour moyennes et grande entreprises Québec.</td>\n",
       "      <td>www.zurichcanada.com/can/fr/home/welcome.htm</td>\n",
       "      <td>Organismes communautaires.</td>\n",
       "      <td>2</td>\n",
       "      <td>0</td>\n",
       "    </tr>\n",
       "  </tbody>\n",
       "</table>\n",
       "<p>1342 rows × 27 columns</p>\n",
       "</div>"
      ],
      "text/plain": [
       "        ID                                             2E CONTACT POUR  \\\n",
       "0        1                                                         NaN   \n",
       "1        2  DonsMadame Marie-Josée Dery, Coordonnatrice Capital Humain   \n",
       "2        3                                                         NaN   \n",
       "3        4                                                         NaN   \n",
       "4        5                                                         NaN   \n",
       "...    ...                                                         ...   \n",
       "1337  1338                                                         NaN   \n",
       "1338  1339                                                         NaN   \n",
       "1339  1340                                                         NaN   \n",
       "1340  1341                                                         NaN   \n",
       "1341  1342                                                         NaN   \n",
       "\n",
       "                                                             ADDRESS  \\\n",
       "0              7290, rue Frederick Banting  Saint-Laurent QC  H4T1Z2   \n",
       "1                              305, 12e Avenue  Richelieu QC  J3L3T2   \n",
       "2             3750, chemin de l'aéroport  Trois-Rivières  QC  G9B2N8   \n",
       "3                          800 boul. Hymes  Saint-Laurent QC  H4S0B5   \n",
       "4                          800 boul. Hymes  Saint-Laurent QC  H4S0B5   \n",
       "...                                                              ...   \n",
       "1337    3400, boul. de Maisonneuve O., bur. 900  Montréal QC  H3Z3G1   \n",
       "1338                       1301, rue Ampère  Boucherville QC  J4B5Z5   \n",
       "1339                           40, rue du Moulin  Warwick QC  J0A1M0   \n",
       "1340  860, boul. Gérard-Cadieux  Salaberry-de-Valleyfield QC  J6T6L4   \n",
       "1341    1100, boul. René-Lévesque O., bur. 1840  Montréal QC  H3B4N4   \n",
       "\n",
       "                                                                                                                          AVIS  \\\n",
       "0                        Dons autres qu'en argent. Dons en « temps » (bénévolat). Faire les demandes par : courrier, courriel.   \n",
       "1                                                                                           Faire les demandes par : courrier.   \n",
       "2                                                                                           Faire les demandes par : courriel.   \n",
       "3                                                                                      Faire les demandes par : courrier, fax.   \n",
       "4                                                                                           Faire les demandes par : courrier.   \n",
       "...                                                                                                                        ...   \n",
       "1337                                                    Dons en « temps » (bénévolat). Faire les demandes par : courrier, fax.   \n",
       "1338  Dons en « temps » (bénévolat). Faire les demandes par : courrier. L'entreprise possède une liste d'org. « privilégiés ».   \n",
       "1339                                                                                        Faire les demandes par : courrier.   \n",
       "1340                                                                             Faire les demandes par : courrier, courriel.    \n",
       "1341                                                                              Faire les demandes par : courrier, courriel.   \n",
       "\n",
       "                                                                            CONTACT  \\\n",
       "0                             Madame Leanne Hayward, Superviseur aux communications   \n",
       "1                                                 Monsieur Claude Cardin, Président   \n",
       "2     Madame Elizabeth Vautour, Adjointe exécutive au vice-président des opérations   \n",
       "3                      Madame Carley Tietolman, Responsable des dons et commandites   \n",
       "4                                       Monsieur Guido Mussehl, Contrôleur Finances   \n",
       "...                                                                             ...   \n",
       "1337                                     Madame Cynthia Laberge, Adjointe Marketing   \n",
       "1338                                                        Vice-président Finances   \n",
       "1339                               Madame Renée-Maude Jalbert, Directeure Marketing   \n",
       "1340             Monsieur Sylvain Lirette, Directeur des finances et administration   \n",
       "1341                                              Monsieur Éric Fournier, Président   \n",
       "\n",
       "           CONTRIBUTION  \\\n",
       "0     Dons & commandite   \n",
       "1                  Dons   \n",
       "2                  Dons   \n",
       "3     Dons & commandite   \n",
       "4     Dons & commandite   \n",
       "...                 ...   \n",
       "1337               Dons   \n",
       "1338  Dons & commandite   \n",
       "1339         Commandite   \n",
       "1340  Dons & commandite   \n",
       "1341               Dons   \n",
       "\n",
       "                                                                                                                                  COURRIEL  \\\n",
       "0                                                                                                                         lhayward@mmm.com   \n",
       "1                                                                        mjdery@prevost-architectural.com;  info@prevost-architectural.com   \n",
       "2                                                                                  elizabeth.vautour@aarcorp.com; comptabilite@aarcorp.com   \n",
       "3                                                                                                                                      NaN   \n",
       "4     guido.mussehl@ca.abb.comMadame Nathalie Arsenault, Assist. au Président ; contact.center@ca.abb.com; nathalie.m.arsenault@ca.abb.com   \n",
       "...                                                                                                                                    ...   \n",
       "1337                                                                                                             cynthia.laberge@xerox.com   \n",
       "1338                                                                                                                                   NaN   \n",
       "1339                                                                                                       renee-maude.jalbert@yum-yum.com   \n",
       "1340                                                                              info.cezinc@glencore-ca.com; info.cezinc@glencore-ca.com   \n",
       "1341                                                                                   commercial.qc@zurich.com ; commercial.qc@zurich.com   \n",
       "\n",
       "                DDD  \\\n",
       "0     En tout temps   \n",
       "1     En tout temps   \n",
       "2     En tout temps   \n",
       "3     En tout temps   \n",
       "4     En tout temps   \n",
       "...             ...   \n",
       "1337  En tout temps   \n",
       "1338   Avril à juin   \n",
       "1339  En tout temps   \n",
       "1340  En tout temps   \n",
       "1341  En tout temps   \n",
       "\n",
       "                                                                                                                                                                                                                               DOMAINE DINTERET  \\\n",
       "0                                                                                                                                                                                      Éducation, environnement, santé et  bien-être seulement.   \n",
       "1                                                                                                                                                                                                Cancer, hôpitaux, maladies du coeur et  santé.   \n",
       "2                                                                                                                                                                                                        Éducation, Santé, Bien-être, Vétérans.   \n",
       "3                                                                                                                                                                                                                   Jeunesse (local seulement).   \n",
       "4                                                                                                        Centraide, développement économique  et social, droits de la personne, éducation, enfants et jeunes, environnement, santé et sécurité.   \n",
       "...                                                                                                                                                                                                                                         ...   \n",
       "1337                                                                                                  Appui aux org. communautaires, éducation, peuples autochtones, femmes, personnes handicapées, environnement, sécurité et santé (enfants).   \n",
       "1338  Engagement auprès des communautés  (Cris du Québec), environnement, oeuvres de charité et Association canadienne en santé mentale en offrant des emplois à bon nombre de clients, dans les régions où vivent et travaillent les employés.   \n",
       "1339                                                                                                                                                     Causes charitables en général, région  des Bois-Francs et Centre du Québec  seulement.   \n",
       "1340                                       Appuie plusieurs activités de financement, locales et des oeuvres de bienfaisance dans le domaine de la santé, de l'éducation, des sports et soutien communautaire et protection de l'environnement.   \n",
       "1341                                                                                                                                                                                                                 Organismes communautaires.   \n",
       "\n",
       "              FAF  ... NBRE DE SUCC NOMBRE DEMPLOYES  \\\n",
       "0     31 décembre  ...          NaN              100   \n",
       "1     31 décembre  ...          NaN              200   \n",
       "2     31 décembre  ...          NaN              340   \n",
       "3             NaN  ...          NaN              160   \n",
       "4     31 décembre  ...          NaN            1 400   \n",
       "...           ...  ...          ...              ...   \n",
       "1337  31 décembre  ...          NaN              450   \n",
       "1338      31 mars  ...          NaN              NaN   \n",
       "1339          NaN  ...          NaN              250   \n",
       "1340  31 décembre  ...          NaN              545   \n",
       "1341          NaN  ...          NaN              NaN   \n",
       "\n",
       "                                                                                                                                                                    NOTE  \\\n",
       "0                                            Toute demande de dons ou de commandites doit être envoyée à Mme  Hayward par la poste ou par courriel à : lhayward@mmm.com.   \n",
       "1                                                                                                                                                                    NaN   \n",
       "2                                         Envoyer votre demande de dons par  courriel à  Mme Vautour, Adjoint au V.P. des opérations à :  elizabeth.vautour@aarcorp.com.   \n",
       "3     Toute demande de dons ou de commandites doit être envoyée par  courrier ou par télécopieur et  adressez votre demande au  responsable des don ou des  commandites.   \n",
       "4                                                                                                                                                Par courrier seulement.   \n",
       "...                                                                                                                                                                  ...   \n",
       "1337                                                          Sur le site web sélectionner :  À propos de Xerox (bas de  page), Responsabilité sociale de  l'entreprise.   \n",
       "1338   Quatre nouveaux organismes sont choisis à chaque  année.; Les demandes sont acheminées au : 480 Gordon,  Baker Rd, Toronto ON M2H3B4, Tél.: 416-498-1911 ext. 19.   \n",
       "1339                                                                                                           Prévoir un délai de 4 semaines pour l'étude d'un dossier.   \n",
       "1340                                                                            Sur le site web, sélectionner:  Développement durable, Engagement  envers la communauté.   \n",
       "1341                                              Soumettre votre demande de dons à M. Fournier, Président, par la poste ou par courriel à :   commercial.qc@zurich.com.   \n",
       "\n",
       "     POSTE  \\\n",
       "0     2390   \n",
       "1      NaN   \n",
       "2     3201   \n",
       "3      NaN   \n",
       "4      NaN   \n",
       "...    ...   \n",
       "1337   NaN   \n",
       "1338   NaN   \n",
       "1339   NaN   \n",
       "1340   NaN   \n",
       "1341   NaN   \n",
       "\n",
       "                                                                            PRINCIP FILIALES  \\\n",
       "0                                                                                        NaN   \n",
       "1                                                                                        NaN   \n",
       "2                                                                                        NaN   \n",
       "3                                                                                        NaN   \n",
       "4                                                                                        NaN   \n",
       "...                                                                                      ...   \n",
       "1337  Xerox Canada, Société de financement Xerox; Xerox Canada, Société de financement Xerox   \n",
       "1338                                                                                     NaN   \n",
       "1339                                                                                     NaN   \n",
       "1340                                                                                     NaN   \n",
       "1341                                                        Groupe Zurich Financial Services   \n",
       "\n",
       "                                                                                                                                                                                          SECTEUR INDUSTRIEL  \\\n",
       "0                                            Équipement et services industriels; Fabrication de peintures, de revêtements et de rubans adhésifs, abrasifs, produits de soins de santé et télécommunications.   \n",
       "1                                                            Matériaux de construction, manufacturiers; Fabrication de produits d'architecture, d'éléments de charpentes métalliques et traitement anodique.   \n",
       "2                                                                                                                             Offre des services d'entretien, de réparation et de révision (MRO) d'aéronefs.   \n",
       "3     Équipement et services industriels; Fabriquer des poulies, bagues, poulies et roues dentées synchrones, poulies étagées et accouplements élastomères de la plus haute qualité possible dans le marché.   \n",
       "4                              Commerce de gros et détail; Grossistes-distributeurs de produits pétroliers, équipement, technologie, transport d'énergie, technologie de l'automatisation, gaz, pétrochimie.   \n",
       "...                                                                                                                                                                                                      ...   \n",
       "1337                                                                                                         Commerce de gros et détail; Équipement, systèmes et fournitures de bureau, services financiers.   \n",
       "1338                                                                                      Produits récréatifs; Fabricant d'une gamme de motoneiges, motocyclettes, scooters, bâteaux, moteurs hors-bord etc.   \n",
       "1339                                                                                                                                                  Alimentation; Fabricant de croustilles et grignotines.   \n",
       "1340                                                              Produits d'acier et de métal; Producteur de zinc pour les sociétés automobiles, de construction, pharmaceutiques et biens de consommation.   \n",
       "1341                                                                                                 Services financiers; Services financiers liés à l'assurance pour moyennes et grande entreprises Québec.   \n",
       "\n",
       "                                           SITE WEB  \\\n",
       "0                          https://www.3mcanada.ca/   \n",
       "1                                  www.adprevost.ca   \n",
       "2                           https://www.aarcorp.com   \n",
       "3                             http://new.abb.com/ca   \n",
       "4                                    www.ABB.com/ca   \n",
       "...                                             ...   \n",
       "1337                           https://www.xerox.ca   \n",
       "1338                            www.yamaha-motor.ca   \n",
       "1339                                www.yum-yum.com   \n",
       "1340                          http://www.cezinc.com   \n",
       "1341   www.zurichcanada.com/can/fr/home/welcome.htm   \n",
       "\n",
       "                                                                                                                                                                                                                                       Interest  \\\n",
       "0                                                                                                                                                                                      Éducation, environnement, santé et  bien-être seulement.   \n",
       "1                                                                                                                                                                                                Cancer, hôpitaux, maladies du coeur et  santé.   \n",
       "2                                                                                                                                                                                                        Éducation, Santé, Bien-être, Vétérans.   \n",
       "3                                                                                                                                                                                                                   Jeunesse (local seulement).   \n",
       "4                                                                                                        Centraide, développement économique  et social, droits de la personne, éducation, enfants et jeunes, environnement, santé et sécurité.   \n",
       "...                                                                                                                                                                                                                                         ...   \n",
       "1337                                                                                                  Appui aux org. communautaires, éducation, peuples autochtones, femmes, personnes handicapées, environnement, sécurité et santé (enfants).   \n",
       "1338  Engagement auprès des communautés  (Cris du Québec), environnement, oeuvres de charité et Association canadienne en santé mentale en offrant des emplois à bon nombre de clients, dans les régions où vivent et travaillent les employés.   \n",
       "1339                                                                                                                                                     Causes charitables en général, région  des Bois-Francs et Centre du Québec  seulement.   \n",
       "1340                                       Appuie plusieurs activités de financement, locales et des oeuvres de bienfaisance dans le domaine de la santé, de l'éducation, des sports et soutien communautaire et protection de l'environnement.   \n",
       "1341                                                                                                                                                                                                                 Organismes communautaires.   \n",
       "\n",
       "     interest_domain_cluster IS_PAST_DONOR  \n",
       "0                          0             0  \n",
       "1                          0             0  \n",
       "2                          0             0  \n",
       "3                          0             0  \n",
       "4                          3             0  \n",
       "...                      ...           ...  \n",
       "1337                       3             0  \n",
       "1338                       3             0  \n",
       "1339                       3             0  \n",
       "1340                       3             0  \n",
       "1341                       2             0  \n",
       "\n",
       "[1342 rows x 27 columns]"
      ]
     },
     "execution_count": 210,
     "metadata": {},
     "output_type": "execute_result"
    }
   ],
   "source": [
    "df"
   ]
  },
  {
   "cell_type": "code",
   "execution_count": null,
   "id": "ec31f7a6",
   "metadata": {},
   "outputs": [],
   "source": []
  }
 ],
 "metadata": {
  "kernelspec": {
   "display_name": "Python 3.8.8 ('base')",
   "language": "python",
   "name": "python3"
  },
  "language_info": {
   "codemirror_mode": {
    "name": "ipython",
    "version": 3
   },
   "file_extension": ".py",
   "mimetype": "text/x-python",
   "name": "python",
   "nbconvert_exporter": "python",
   "pygments_lexer": "ipython3",
   "version": "3.8.8"
  },
  "vscode": {
   "interpreter": {
    "hash": "8e76f8642360a3358ab06c318ab18c1161224eb3836609d5c16edea6f6e43dba"
   }
  }
 },
 "nbformat": 4,
 "nbformat_minor": 5
}
