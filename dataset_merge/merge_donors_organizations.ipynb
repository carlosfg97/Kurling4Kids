{
 "cells": [
  {
   "cell_type": "code",
   "execution_count": 16,
   "metadata": {},
   "outputs": [],
   "source": [
    "import pandas as pd\n",
    "import unidecode\n",
    "\n",
    "# !pip install fuzzywuzzy\n",
    "# !pip install p\n",
    "from fuzzywuzzy import fuzz\n"
   ]
  },
  {
   "cell_type": "markdown",
   "metadata": {},
   "source": [
    "## 1. Merge past donors dataset (K4K sources) with donor organizations (PDF source)\n",
    "We will use the company name in both sources to try and match companies. We will use fuzzy matching so we can detect cases with similar strings (its likely names will have different versions in the sources)"
   ]
  },
  {
   "cell_type": "code",
   "execution_count": 19,
   "metadata": {},
   "outputs": [],
   "source": [
    "df_donors = pd.read_pickle('../past_donors/past_donors_clean.pickle')\n",
    "df_orgs = pd.read_excel('Organizations.xlsx')"
   ]
  },
  {
   "cell_type": "code",
   "execution_count": 20,
   "metadata": {},
   "outputs": [],
   "source": [
    "def stdr_names(series_original):\n",
    "    '''Clean company names. To be used in the different files so names are likelier to be matched'''\n",
    "    series = series_original.copy()\n",
    "    series = series.astype(str)\n",
    "    \n",
    "    series = series.str.upper()\n",
    "    series = series.str.strip()\n",
    "\n",
    "    series = series.replace(r'\\s+', ' ', regex=True)\n",
    "    series = series.str.replace(r'[^\\w\\s]+', '', regex=True)\n",
    "\n",
    "\n",
    "    series = series.apply(lambda x: unidecode.unidecode(x))\n",
    "\n",
    "    series = series.str.replace(' QUEBEC ', '')\n",
    "    series = series.str.replace('CANADA', '')\n",
    "    series = series.str.replace(' MONTREAL ', '')\n",
    "    series = series.str.replace('MONTREAL ', '')\n",
    "    series = series.str.replace(' MONTREAL', '')\n",
    "    series = series.str.replace(' INC', '')\n",
    "    series = series.str.replace(' INC ', '')\n",
    "    series = series.str.replace(' CIE ', '')\n",
    "    series = series.str.replace(' CIE', '')\n",
    "    series = series.str.replace(' LTEE', '')\n",
    "    series = series.str.replace('CORPORATION', '')\n",
    "    series = series.str.replace('INTERNATIONAL', '')\n",
    "\n",
    "\n",
    "    return series\n"
   ]
  },
  {
   "cell_type": "code",
   "execution_count": 21,
   "metadata": {},
   "outputs": [],
   "source": [
    "df_donors = df_donors[ df_donors.company.notna() ]"
   ]
  },
  {
   "cell_type": "code",
   "execution_count": 22,
   "metadata": {},
   "outputs": [],
   "source": [
    "df_orgs.NAME = stdr_names(df_orgs.NAME)\n",
    "\n",
    "df_donors.company = df_donors.company.astype(str)\n",
    "df_donors.company  = stdr_names(df_donors.company)"
   ]
  },
  {
   "cell_type": "code",
   "execution_count": 13,
   "metadata": {},
   "outputs": [
    {
     "data": {
      "text/html": [
       "<div>\n",
       "<style scoped>\n",
       "    .dataframe tbody tr th:only-of-type {\n",
       "        vertical-align: middle;\n",
       "    }\n",
       "\n",
       "    .dataframe tbody tr th {\n",
       "        vertical-align: top;\n",
       "    }\n",
       "\n",
       "    .dataframe thead th {\n",
       "        text-align: right;\n",
       "    }\n",
       "</style>\n",
       "<table border=\"1\" class=\"dataframe\">\n",
       "  <thead>\n",
       "    <tr style=\"text-align: right;\">\n",
       "      <th></th>\n",
       "      <th>NAME</th>\n",
       "      <th>company</th>\n",
       "    </tr>\n",
       "  </thead>\n",
       "  <tbody>\n",
       "    <tr>\n",
       "      <th>0</th>\n",
       "      <td>ARCHAMBAULT</td>\n",
       "      <td>ARCHAMBAULT</td>\n",
       "    </tr>\n",
       "    <tr>\n",
       "      <th>1</th>\n",
       "      <td>AVERNA</td>\n",
       "      <td>AVERNA</td>\n",
       "    </tr>\n",
       "    <tr>\n",
       "      <th>2</th>\n",
       "      <td>CANADIAN TIRE</td>\n",
       "      <td>CANADIAN TIRE</td>\n",
       "    </tr>\n",
       "    <tr>\n",
       "      <th>3</th>\n",
       "      <td>CENTRES DENTAIRES LAPOINTE</td>\n",
       "      <td>CENTRES DENTAIRES LAPOINTE</td>\n",
       "    </tr>\n",
       "    <tr>\n",
       "      <th>4</th>\n",
       "      <td>CGI</td>\n",
       "      <td>CGI</td>\n",
       "    </tr>\n",
       "    <tr>\n",
       "      <th>5</th>\n",
       "      <td>CORBEC</td>\n",
       "      <td>CORBEC</td>\n",
       "    </tr>\n",
       "    <tr>\n",
       "      <th>6</th>\n",
       "      <td>DORFIN</td>\n",
       "      <td>DORFIN</td>\n",
       "    </tr>\n",
       "    <tr>\n",
       "      <th>7</th>\n",
       "      <td>ENERGIE CARDIO</td>\n",
       "      <td>ENERGIE CARDIO</td>\n",
       "    </tr>\n",
       "    <tr>\n",
       "      <th>8</th>\n",
       "      <td>FIERA CAPITAL</td>\n",
       "      <td>FIERA CAPITAL</td>\n",
       "    </tr>\n",
       "    <tr>\n",
       "      <th>9</th>\n",
       "      <td>FUTURE SHOP</td>\n",
       "      <td>FUTURE SHOP</td>\n",
       "    </tr>\n",
       "    <tr>\n",
       "      <th>10</th>\n",
       "      <td>JEAN COUTU</td>\n",
       "      <td>JEAN COUTU</td>\n",
       "    </tr>\n",
       "    <tr>\n",
       "      <th>11</th>\n",
       "      <td>KRUGER</td>\n",
       "      <td>KRUGER</td>\n",
       "    </tr>\n",
       "    <tr>\n",
       "      <th>12</th>\n",
       "      <td>LABORATOIRES CHARLES RIVER</td>\n",
       "      <td>LABORATOIRES CHARLES RIVER</td>\n",
       "    </tr>\n",
       "    <tr>\n",
       "      <th>13</th>\n",
       "      <td>LASSONDE</td>\n",
       "      <td>LASSONDE</td>\n",
       "    </tr>\n",
       "    <tr>\n",
       "      <th>14</th>\n",
       "      <td>MAXI</td>\n",
       "      <td>MAXI</td>\n",
       "    </tr>\n",
       "    <tr>\n",
       "      <th>15</th>\n",
       "      <td>ROYAL LEPAGE</td>\n",
       "      <td>ROYAL LEPAGE</td>\n",
       "    </tr>\n",
       "    <tr>\n",
       "      <th>16</th>\n",
       "      <td>ULTRAMAR</td>\n",
       "      <td>ULTRAMAR</td>\n",
       "    </tr>\n",
       "    <tr>\n",
       "      <th>17</th>\n",
       "      <td>WESTJET</td>\n",
       "      <td>WESTJET</td>\n",
       "    </tr>\n",
       "  </tbody>\n",
       "</table>\n",
       "</div>"
      ],
      "text/plain": [
       "                          NAME                     company\n",
       "0                  ARCHAMBAULT                 ARCHAMBAULT\n",
       "1                       AVERNA                      AVERNA\n",
       "2                CANADIAN TIRE               CANADIAN TIRE\n",
       "3   CENTRES DENTAIRES LAPOINTE  CENTRES DENTAIRES LAPOINTE\n",
       "4                          CGI                         CGI\n",
       "5                       CORBEC                      CORBEC\n",
       "6                       DORFIN                      DORFIN\n",
       "7               ENERGIE CARDIO              ENERGIE CARDIO\n",
       "8                FIERA CAPITAL               FIERA CAPITAL\n",
       "9                  FUTURE SHOP                 FUTURE SHOP\n",
       "10                  JEAN COUTU                  JEAN COUTU\n",
       "11                      KRUGER                      KRUGER\n",
       "12  LABORATOIRES CHARLES RIVER  LABORATOIRES CHARLES RIVER\n",
       "13                    LASSONDE                    LASSONDE\n",
       "14                        MAXI                        MAXI\n",
       "15                ROYAL LEPAGE                ROYAL LEPAGE\n",
       "16                    ULTRAMAR                    ULTRAMAR\n",
       "17                     WESTJET                     WESTJET"
      ]
     },
     "execution_count": 13,
     "metadata": {},
     "output_type": "execute_result"
    }
   ],
   "source": [
    "pd.merge(df_orgs.NAME.drop_duplicates(), df_donors.company.drop_duplicates(), left_on='NAME', right_on='company')\n",
    "\n",
    "# 18 matches by exact matching"
   ]
  },
  {
   "cell_type": "code",
   "execution_count": 14,
   "metadata": {},
   "outputs": [],
   "source": [
    "# https://www.datacamp.com/tutorial/fuzzy-string-python\n",
    "\n",
    "\n",
    "# this for-loop calculates 4 kinds of similarity score, which we will then use to sort the table and manually review the most similar matches to confirm (based on K4K feedback)\n",
    "\n",
    "def match_comp_names(orgs, donors):\n",
    "\n",
    "    # orgs = orgs.NAME.drop_duplicates().to_list()\n",
    "    # donors = donors.company.drop_duplicates().to_list()\n",
    "\n",
    "    d = 0\n",
    "    j = 0\n",
    "    rows = []\n",
    "\n",
    "    for org in orgs:\n",
    "        for donor in donors:\n",
    "            Str1 = org\n",
    "            Str2 = donor\n",
    "            Ratio = fuzz.ratio(Str1.lower(),Str2.lower())\n",
    "            Partial_Ratio = fuzz.partial_ratio(Str1.lower(),Str2.lower())\n",
    "            Token_Sort_Ratio = fuzz.token_sort_ratio(Str1,Str2)\n",
    "            Token_Set_Ratio = fuzz.token_set_ratio(Str1,Str2)\n",
    "\n",
    "            row = [org, donor, Ratio, Partial_Ratio, Token_Sort_Ratio, Token_Set_Ratio]\n",
    "\n",
    "            rows.append(row)\n",
    "    \n",
    "    return rows"
   ]
  },
  {
   "cell_type": "code",
   "execution_count": 15,
   "metadata": {},
   "outputs": [],
   "source": [
    "rows = match_comp_names(df_orgs.NAME.drop_duplicates().to_list(), df_donors.company.drop_duplicates().to_list())\n",
    "df_sim = pd.DataFrame(rows, columns = ['org', 'donor', 'Ratio', 'Partial_Ratio', 'Token_Sort_Ratio', 'Token_Set_Ratio'] )\n",
    "df_sim.to_pickle('similarity_score.pkl')\n"
   ]
  },
  {
   "cell_type": "code",
   "execution_count": 23,
   "metadata": {},
   "outputs": [],
   "source": [
    "score = 'Ratio'\n",
    "df_ratios = df_sim.groupby('org', as_index=False)[score].max()\n",
    "#df_ratios.merge(df_sim[['org', 'donor', score]], how = 'inner').sort_values(score, ascending = False).head(30)"
   ]
  },
  {
   "cell_type": "code",
   "execution_count": 143,
   "metadata": {},
   "outputs": [],
   "source": [
    "score = 'Token_Set_Ratio'\n",
    "\n",
    "df_ratios = df_sim.groupby('donor', as_index=False)[score].max()\n",
    "#df_token_set_ratio = df_ratios.merge(df_sim[['org', 'donor', score]], how = 'inner').sort_values(score, ascending = False)"
   ]
  },
  {
   "cell_type": "code",
   "execution_count": 144,
   "metadata": {},
   "outputs": [],
   "source": []
  },
  {
   "cell_type": "code",
   "execution_count": 24,
   "metadata": {},
   "outputs": [],
   "source": [
    "score = 'Partial_Ratio'\n",
    "#df_ratios = df_sim.groupby('org', as_index=False)[score].max()\n",
    "#df_ratios.merge(df_sim[['org', 'donor', score]], how = 'inner').sort_values(score, ascending = False).head(20)"
   ]
  },
  {
   "cell_type": "code",
   "execution_count": 146,
   "metadata": {},
   "outputs": [
    {
     "data": {
      "text/html": [
       "<div>\n",
       "<style scoped>\n",
       "    .dataframe tbody tr th:only-of-type {\n",
       "        vertical-align: middle;\n",
       "    }\n",
       "\n",
       "    .dataframe tbody tr th {\n",
       "        vertical-align: top;\n",
       "    }\n",
       "\n",
       "    .dataframe thead th {\n",
       "        text-align: right;\n",
       "    }\n",
       "</style>\n",
       "<table border=\"1\" class=\"dataframe\">\n",
       "  <thead>\n",
       "    <tr style=\"text-align: right;\">\n",
       "      <th></th>\n",
       "      <th>org</th>\n",
       "      <th>Token_Sort_Ratio</th>\n",
       "      <th>donor</th>\n",
       "    </tr>\n",
       "  </thead>\n",
       "  <tbody>\n",
       "    <tr>\n",
       "      <th>756</th>\n",
       "      <td>CENTRES DENTAIRES LAPOINTE</td>\n",
       "      <td>100</td>\n",
       "      <td>CENTRES DENTAIRES LAPOINTE</td>\n",
       "    </tr>\n",
       "    <tr>\n",
       "      <th>1820</th>\n",
       "      <td>SNC LAVALIN</td>\n",
       "      <td>100</td>\n",
       "      <td>SNC LAVALIN</td>\n",
       "    </tr>\n",
       "    <tr>\n",
       "      <th>1762</th>\n",
       "      <td>ROYAL LEPAGE</td>\n",
       "      <td>100</td>\n",
       "      <td>ROYAL LEPAGE</td>\n",
       "    </tr>\n",
       "    <tr>\n",
       "      <th>1272</th>\n",
       "      <td>JEAN COUTU</td>\n",
       "      <td>100</td>\n",
       "      <td>JEAN COUTU</td>\n",
       "    </tr>\n",
       "    <tr>\n",
       "      <th>1987</th>\n",
       "      <td>UPS</td>\n",
       "      <td>100</td>\n",
       "      <td>UPS</td>\n",
       "    </tr>\n",
       "    <tr>\n",
       "      <th>925</th>\n",
       "      <td>DORFIN</td>\n",
       "      <td>100</td>\n",
       "      <td>DORFIN</td>\n",
       "    </tr>\n",
       "    <tr>\n",
       "      <th>839</th>\n",
       "      <td>CORBEC</td>\n",
       "      <td>100</td>\n",
       "      <td>CORBEC</td>\n",
       "    </tr>\n",
       "    <tr>\n",
       "      <th>1477</th>\n",
       "      <td>MERCER</td>\n",
       "      <td>100</td>\n",
       "      <td>MERCER</td>\n",
       "    </tr>\n",
       "    <tr>\n",
       "      <th>1626</th>\n",
       "      <td>PFIZER</td>\n",
       "      <td>100</td>\n",
       "      <td>PFIZER</td>\n",
       "    </tr>\n",
       "    <tr>\n",
       "      <th>1451</th>\n",
       "      <td>MAXI</td>\n",
       "      <td>100</td>\n",
       "      <td>MAXI</td>\n",
       "    </tr>\n",
       "    <tr>\n",
       "      <th>1023</th>\n",
       "      <td>FIERA CAPITAL</td>\n",
       "      <td>100</td>\n",
       "      <td>FIERA CAPITAL</td>\n",
       "    </tr>\n",
       "    <tr>\n",
       "      <th>1216</th>\n",
       "      <td>IKEA</td>\n",
       "      <td>100</td>\n",
       "      <td>IKEA</td>\n",
       "    </tr>\n",
       "    <tr>\n",
       "      <th>1321</th>\n",
       "      <td>LABORATOIRES CHARLES RIVER</td>\n",
       "      <td>100</td>\n",
       "      <td>LABORATOIRES CHARLES RIVER</td>\n",
       "    </tr>\n",
       "    <tr>\n",
       "      <th>1342</th>\n",
       "      <td>LASSONDE</td>\n",
       "      <td>100</td>\n",
       "      <td>LASSONDE</td>\n",
       "    </tr>\n",
       "    <tr>\n",
       "      <th>726</th>\n",
       "      <td>CANADIAN TIRE</td>\n",
       "      <td>100</td>\n",
       "      <td>CANADIAN TIRE</td>\n",
       "    </tr>\n",
       "    <tr>\n",
       "      <th>580</th>\n",
       "      <td>AVERNA</td>\n",
       "      <td>100</td>\n",
       "      <td>AVERNA</td>\n",
       "    </tr>\n",
       "    <tr>\n",
       "      <th>1060</th>\n",
       "      <td>FUTURE SHOP</td>\n",
       "      <td>100</td>\n",
       "      <td>FUTURE SHOP</td>\n",
       "    </tr>\n",
       "    <tr>\n",
       "      <th>1308</th>\n",
       "      <td>KRUGER</td>\n",
       "      <td>100</td>\n",
       "      <td>KRUGER</td>\n",
       "    </tr>\n",
       "    <tr>\n",
       "      <th>2043</th>\n",
       "      <td>WESTJET</td>\n",
       "      <td>100</td>\n",
       "      <td>WESTJET</td>\n",
       "    </tr>\n",
       "    <tr>\n",
       "      <th>613</th>\n",
       "      <td>BDO</td>\n",
       "      <td>100</td>\n",
       "      <td>BDO</td>\n",
       "    </tr>\n",
       "  </tbody>\n",
       "</table>\n",
       "</div>"
      ],
      "text/plain": [
       "                             org  Token_Sort_Ratio                       donor\n",
       "756   CENTRES DENTAIRES LAPOINTE               100  CENTRES DENTAIRES LAPOINTE\n",
       "1820                 SNC LAVALIN               100                 SNC LAVALIN\n",
       "1762                ROYAL LEPAGE               100                ROYAL LEPAGE\n",
       "1272                  JEAN COUTU               100                  JEAN COUTU\n",
       "1987                         UPS               100                         UPS\n",
       "925                       DORFIN               100                      DORFIN\n",
       "839                       CORBEC               100                      CORBEC\n",
       "1477                      MERCER               100                      MERCER\n",
       "1626                      PFIZER               100                      PFIZER\n",
       "1451                        MAXI               100                        MAXI\n",
       "1023               FIERA CAPITAL               100               FIERA CAPITAL\n",
       "1216                        IKEA               100                        IKEA\n",
       "1321  LABORATOIRES CHARLES RIVER               100  LABORATOIRES CHARLES RIVER\n",
       "1342                    LASSONDE               100                    LASSONDE\n",
       "726                CANADIAN TIRE               100               CANADIAN TIRE\n",
       "580                       AVERNA               100                      AVERNA\n",
       "1060                 FUTURE SHOP               100                 FUTURE SHOP\n",
       "1308                      KRUGER               100                      KRUGER\n",
       "2043                     WESTJET               100                     WESTJET\n",
       "613                          BDO               100                         BDO"
      ]
     },
     "execution_count": 146,
     "metadata": {},
     "output_type": "execute_result"
    }
   ],
   "source": [
    "\n",
    "\n",
    "score = 'Token_Sort_Ratio'\n",
    "\n",
    "df_ratios = df_sim.groupby('org', as_index=False)[score].max()\n",
    "df_ratios.merge(df_sim[['org', 'donor', score]], how = 'inner').sort_values(score, ascending = False).head(20)"
   ]
  },
  {
   "cell_type": "code",
   "execution_count": 64,
   "metadata": {},
   "outputs": [],
   "source": [
    "# we sort the values and export them to CSV so we can review in excel\n",
    "\n",
    "th = 70\n",
    "df_filt = df_sim.query(f''' Ratio > {th} |  Token_Sort_Ratio > {th}  | Token_Set_Ratio > {th}  ''' ).reset_index(drop=True)\n",
    "df_filt.shape\n",
    "df_filt.sort_values(['Token_Set_Ratio', 'Ratio'], ascending=False).to_clipboard(index=None)"
   ]
  },
  {
   "cell_type": "markdown",
   "metadata": {},
   "source": [
    "## 2. Confirm matches based on reviewed excel\n",
    "After manually confirming the fuzzy matching scores, we will produces the final merged dataset"
   ]
  },
  {
   "cell_type": "code",
   "execution_count": 2,
   "metadata": {},
   "outputs": [],
   "source": [
    "import pandas as pd"
   ]
  },
  {
   "cell_type": "code",
   "execution_count": 38,
   "metadata": {},
   "outputs": [],
   "source": [
    "df_donors = pd.read_csv('past_donors_clean.csv', parse_dates=[1])\n",
    "df_orgs = pd.read_excel('Organizations.xlsx')\n",
    "\n",
    "# now we read the matches after reviews them and this will become our key to match both sources\n",
    "df_matches = pd.read_excel('matched_orgs_k4kreview.xlsx')\n",
    "\n",
    "df_donors.company = stdr_names(df_donors.company)\n",
    "df_orgs.NAME = stdr_names(df_orgs.NAME)"
   ]
  },
  {
   "cell_type": "code",
   "execution_count": 39,
   "metadata": {},
   "outputs": [],
   "source": [
    "df_matches = df_matches[df_matches.Match == 1] # keeping only matches\n",
    "df_matches = df_matches.iloc[:, 0:2]\n",
    "df_matches.columns = ['ORGANIZATION', 'DONOR']"
   ]
  },
  {
   "cell_type": "code",
   "execution_count": 42,
   "metadata": {},
   "outputs": [],
   "source": [
    "# some past donors have been matched with more than 1 different company in the PDF source, so we need to select and keep only one so the analysis is consistent.\n",
    "donor_q = df_matches.DONOR.value_counts()\n",
    "organization_q = df_matches.ORGANIZATION.value_counts()\n",
    "df1 = df_matches[df_matches.DONOR.isin(donor_q[donor_q > 1].index)].sort_values('DONOR').reset_index(drop=True)\n",
    "ixs = [1, 2,5,6,10,11,15,16,18, 21,22] \n",
    "df1 = df1.iloc[ixs,:].reset_index(drop=True)"
   ]
  },
  {
   "cell_type": "code",
   "execution_count": 43,
   "metadata": {},
   "outputs": [],
   "source": [
    "# now we concatenate the matches into a single df\n",
    "df_matches = pd.concat([ df_matches[df_matches.DONOR.isin(donor_q[donor_q <= 1].index)].sort_values('DONOR').reset_index(drop=True),\n",
    "            df1 ] )"
   ]
  },
  {
   "cell_type": "code",
   "execution_count": 44,
   "metadata": {},
   "outputs": [],
   "source": [
    "df_donors_match = df_donors.merge(df_matches, how = 'inner', left_on = 'company', right_on = 'DONOR')"
   ]
  },
  {
   "cell_type": "code",
   "execution_count": 45,
   "metadata": {},
   "outputs": [],
   "source": [
    "df_donors_match = df_donors_match.merge(df_orgs, how = 'inner', left_on = 'ORGANIZATION', right_on = 'NAME')"
   ]
  },
  {
   "cell_type": "code",
   "execution_count": 46,
   "metadata": {},
   "outputs": [],
   "source": [
    "df_donors_match = df_donors_match.drop_duplicates().reset_index(drop=True)\n"
   ]
  },
  {
   "cell_type": "code",
   "execution_count": 47,
   "metadata": {},
   "outputs": [
    {
     "data": {
      "text/plain": [
       "(177, 32)"
      ]
     },
     "execution_count": 47,
     "metadata": {},
     "output_type": "execute_result"
    }
   ],
   "source": [
    "df_donors_match.shape\n",
    "\n",
    "# after matching past donors and organizations PDF, we have 177 rows of data and 32 columns. We should add additiional attributes of the companies that have foundations"
   ]
  },
  {
   "cell_type": "markdown",
   "metadata": {},
   "source": [
    "## 3. Adding foundation attributes"
   ]
  },
  {
   "cell_type": "code",
   "execution_count": 48,
   "metadata": {},
   "outputs": [],
   "source": [
    "df_fonds = pd.read_excel('Foundations.xlsx')\n",
    "\n",
    "## add foundations dataset attributes"
   ]
  },
  {
   "cell_type": "code",
   "execution_count": 62,
   "metadata": {},
   "outputs": [
    {
     "data": {
      "text/plain": [
       "(177, 53)"
      ]
     },
     "execution_count": 62,
     "metadata": {},
     "output_type": "execute_result"
    }
   ],
   "source": [
    "df = df_donors_match.merge(df_fonds, how='left', on='ID', suffixes=('', '_FND'))\n",
    "df.shape"
   ]
  },
  {
   "cell_type": "code",
   "execution_count": 63,
   "metadata": {},
   "outputs": [],
   "source": [
    "#obviously, most companies will have null values in their foundation attributes, but we can still keep the info for the ones that do"
   ]
  },
  {
   "cell_type": "code",
   "execution_count": 65,
   "metadata": {},
   "outputs": [
    {
     "data": {
      "text/plain": [
       "company                  0\n",
       "added_modified           5\n",
       "dollar_amount_float     11\n",
       "moneyprize_received     63\n",
       "donation_details        13\n",
       "year                     0\n",
       "ORGANIZATION             0\n",
       "DONOR                    0\n",
       "ID                       0\n",
       "2E CONTACT POUR        174\n",
       "ADDRESS                  0\n",
       "AVIS                     6\n",
       "CONTACT                 10\n",
       "CONTRIBUTION             0\n",
       "COURRIEL                39\n",
       "DDD                      0\n",
       "DOMAINE DINTERET         0\n",
       "FAF                     55\n",
       "FAX                     60\n",
       "FILIALE DE             144\n",
       "ISFOUNDATION             0\n",
       "LANGUE                   0\n",
       "LIMITES GEOG             1\n",
       "N DE TEL                 0\n",
       "NAME                     0\n",
       "NBRE DE SUCC           177\n",
       "NOMBRE DEMPLOYES        59\n",
       "NOTE                    44\n",
       "POSTE                  168\n",
       "PRINCIP FILIALES       137\n",
       "SECTEUR INDUSTRIEL       0\n",
       "SITE WEB                 0\n",
       "ACTIF                  148\n",
       "ADDRESS_FND            143\n",
       "AVIS_FND               147\n",
       "CATEGORIE              144\n",
       "CONTACT_FND            146\n",
       "COURRIEL_FND           150\n",
       "DATE APPROB            147\n",
       "DATE FIN DANN          147\n",
       "DOMAINES DINTERET      143\n",
       "ECHELLEDONS            158\n",
       "ISFOUNDATION_FND       143\n",
       "LANGUE_FND             143\n",
       "LIMITES GEOG_FND       174\n",
       "N DE TEL_FND           146\n",
       "NAME_FND               143\n",
       "OU                     171\n",
       "POSTE_FND              177\n",
       "PROJETS PRIVILEGIES    143\n",
       "TEL                    152\n",
       "TOTAL ANNUEL           147\n",
       "WEB                    144\n",
       "dtype: int64"
      ]
     },
     "execution_count": 65,
     "metadata": {},
     "output_type": "execute_result"
    }
   ],
   "source": [
    "\n",
    "df.isna().sum()"
   ]
  },
  {
   "cell_type": "code",
   "execution_count": null,
   "metadata": {},
   "outputs": [],
   "source": []
  }
 ],
 "metadata": {
  "kernelspec": {
   "display_name": "Python 3.8.8 ('base')",
   "language": "python",
   "name": "python3"
  },
  "language_info": {
   "codemirror_mode": {
    "name": "ipython",
    "version": 3
   },
   "file_extension": ".py",
   "mimetype": "text/x-python",
   "name": "python",
   "nbconvert_exporter": "python",
   "pygments_lexer": "ipython3",
   "version": "3.8.8"
  },
  "orig_nbformat": 4,
  "vscode": {
   "interpreter": {
    "hash": "8e76f8642360a3358ab06c318ab18c1161224eb3836609d5c16edea6f6e43dba"
   }
  }
 },
 "nbformat": 4,
 "nbformat_minor": 2
}
