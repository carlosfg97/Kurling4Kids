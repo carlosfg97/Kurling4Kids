{
 "cells": [
  {
   "cell_type": "code",
   "execution_count": 3,
   "id": "b754acc6",
   "metadata": {},
   "outputs": [],
   "source": [
    "#Selenium\n",
    "from selenium import webdriver\n",
    "from webdriver_manager.chrome import ChromeDriverManager\n",
    "from selenium.webdriver.common.by import By\n",
    "from selenium.webdriver.common.keys import Keys\n",
    "\n",
    "\n",
    "#Time\n",
    "from time import sleep\n"
   ]
  },
  {
   "cell_type": "code",
   "execution_count": 4,
   "id": "5d87ee1e",
   "metadata": {
    "scrolled": true
   },
   "outputs": [
    {
     "name": "stderr",
     "output_type": "stream",
     "text": [
      "\n",
      "\n",
      "====== WebDriver manager ======\n",
      "Current google-chrome version is 103.0.5060\n",
      "Get LATEST chromedriver version for 103.0.5060 google-chrome\n",
      "Driver [C:\\Users\\louis\\.wdm\\drivers\\chromedriver\\win32\\103.0.5060.53\\chromedriver.exe] found in cache\n",
      "C:\\Users\\louis\\AppData\\Local\\Temp\\ipykernel_22060\\1693715509.py:1: DeprecationWarning: executable_path has been deprecated, please pass in a Service object\n",
      "  driver = webdriver.Chrome(ChromeDriverManager().install())\n"
     ]
    }
   ],
   "source": [
    "driver = webdriver.Chrome(ChromeDriverManager().install())\n",
    "driver.get('https://linkedin.com')"
   ]
  },
  {
   "cell_type": "code",
   "execution_count": 5,
   "id": "082cd541",
   "metadata": {},
   "outputs": [],
   "source": [
    "#Setup\n",
    "email = 'louis.dhulst@mail.mcgill.ca'\n",
    "password = 'zvkDry%ZdCX5Q7e'\n",
    "\n",
    "selEmail = driver.find_element(By.ID, 'session_key')\n",
    "selPW = driver.find_element(By.ID, 'session_password')\n",
    "selEmail.send_keys(email)\n",
    "selPW.send_keys(password)\n",
    "selPW.send_keys(Keys.RETURN)\n",
    "\n",
    "sleep(3)\n"
   ]
  },
  {
   "cell_type": "code",
   "execution_count": 6,
   "id": "8b91f57c",
   "metadata": {},
   "outputs": [],
   "source": [
    "#Click on search button\n",
    "searchButton = driver.find_element(By.CSS_SELECTOR, \"input[aria-label='Search']\")\n",
    "searchButton.click()\n",
    "\n",
    "#Example Company\n",
    "example_company = \"AbbVie\"\n",
    "searchButton.send_keys(example_company)\n",
    "searchButton.send_keys(Keys.RETURN)\n",
    "\n",
    "sleep(3)"
   ]
  },
  {
   "cell_type": "code",
   "execution_count": 11,
   "id": "0c4201d8",
   "metadata": {},
   "outputs": [
    {
     "data": {
      "text/plain": [
       "'https://www.linkedin.com/feed/?nis=true&'"
      ]
     },
     "execution_count": 11,
     "metadata": {},
     "output_type": "execute_result"
    }
   ],
   "source": [
    "#Click on link\n",
    "driver.find_element(By.CLASS_NAME, \"app-aware-link\").get_attribute('href')\n",
    "#searchLink.click()"
   ]
  },
  {
   "cell_type": "code",
   "execution_count": null,
   "id": "a9312ce3",
   "metadata": {},
   "outputs": [],
   "source": [
    "test"
   ]
  }
 ],
 "metadata": {
  "kernelspec": {
   "display_name": "Python 3 (ipykernel)",
   "language": "python",
   "name": "python3"
  },
  "language_info": {
   "codemirror_mode": {
    "name": "ipython",
    "version": 3
   },
   "file_extension": ".py",
   "mimetype": "text/x-python",
   "name": "python",
   "nbconvert_exporter": "python",
   "pygments_lexer": "ipython3",
   "version": "3.8.13"
  }
 },
 "nbformat": 4,
 "nbformat_minor": 5
}
